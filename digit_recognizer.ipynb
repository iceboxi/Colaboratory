{
  "nbformat": 4,
  "nbformat_minor": 0,
  "metadata": {
    "colab": {
      "name": "digit recognizer.ipynb",
      "version": "0.3.2",
      "provenance": [],
      "collapsed_sections": [
        "txoPlE-dePKi",
        "YjdiUzPWeSDI",
        "vCo5JatkeXD9",
        "7GMeD2oIeZYF",
        "TIMsUf_QfULU",
        "LosrFEm1hGiK",
        "RF-xzmCqhhAy",
        "fG8Q0FPUhl8K",
        "xFKaN0_Rh-BZ",
        "mpKsuUZpwmt5",
        "fvmGrOCQi1Rx"
      ],
      "toc_visible": true,
      "include_colab_link": true
    },
    "kernelspec": {
      "name": "python3",
      "display_name": "Python 3"
    },
    "accelerator": "TPU"
  },
  "cells": [
    {
      "cell_type": "markdown",
      "metadata": {
        "id": "view-in-github",
        "colab_type": "text"
      },
      "source": [
        "<a href=\"https://colab.research.google.com/github/iceboxi/Colaboratory/blob/master/digit_recognizer.ipynb\" target=\"_parent\"><img src=\"https://colab.research.google.com/assets/colab-badge.svg\" alt=\"Open In Colab\"/></a>"
      ]
    },
    {
      "cell_type": "markdown",
      "metadata": {
        "id": "scXd1AiVeFz8",
        "colab_type": "text"
      },
      "source": [
        "# 手寫數字分類\n",
        "source: \n",
        "* https://www.kaggle.com/c/digit-recognizer/overview\n",
        "\n",
        "* MNIST\n",
        "```\n",
        "from keras.datasets import mnist\n",
        "(x_train, y_train), (x_test, y_test) = mnist.load_data()\n",
        "```"
      ]
    },
    {
      "cell_type": "markdown",
      "metadata": {
        "id": "txoPlE-dePKi",
        "colab_type": "text"
      },
      "source": [
        "## 下載資料"
      ]
    },
    {
      "cell_type": "code",
      "metadata": {
        "id": "8cO5o_mrznO7",
        "colab_type": "code",
        "outputId": "0915acd1-33d3-4ac8-838a-ce66301b9006",
        "colab": {
          "base_uri": "https://localhost:8080/",
          "height": 170
        }
      },
      "source": [
        "#Set the enviroment variables\n",
        "import os\n",
        "os.environ['KAGGLE_USERNAME'] = \"iceboxi\"\n",
        "os.environ['KAGGLE_KEY'] = \"cae884b094efd9c559e1cbc456713dd5\"\n",
        "!kaggle competitions download -c digit-recognizer"
      ],
      "execution_count": 1,
      "outputs": [
        {
          "output_type": "stream",
          "text": [
            "Downloading train.csv to /content\n",
            " 72% 53.0M/73.2M [00:00<00:00, 129MB/s]\n",
            "100% 73.2M/73.2M [00:00<00:00, 181MB/s]\n",
            "Downloading test.csv to /content\n",
            " 92% 45.0M/48.8M [00:00<00:00, 101MB/s] \n",
            "100% 48.8M/48.8M [00:00<00:00, 155MB/s]\n",
            "Downloading sample_submission.csv to /content\n",
            "  0% 0.00/235k [00:00<?, ?B/s]\n",
            "100% 235k/235k [00:00<00:00, 37.6MB/s]\n"
          ],
          "name": "stdout"
        }
      ]
    },
    {
      "cell_type": "markdown",
      "metadata": {
        "id": "YjdiUzPWeSDI",
        "colab_type": "text"
      },
      "source": [
        "## import"
      ]
    },
    {
      "cell_type": "code",
      "metadata": {
        "id": "K8YGFkCAzvgr",
        "colab_type": "code",
        "outputId": "ce726769-f5c2-4223-de0a-5d4d2140b4bd",
        "colab": {
          "base_uri": "https://localhost:8080/",
          "height": 0
        }
      },
      "source": [
        "# Imports for Deep Learning\n",
        "from tensorflow.keras.applications import VGG16\n",
        "from tensorflow.keras.applications.vgg16 import preprocess_input, decode_predictions\n",
        "from tensorflow.keras import models, layers\n",
        "from tensorflow.keras import optimizers\n",
        "from tensorflow.keras.optimizers import RMSprop,Adam\n",
        "from tensorflow.keras.preprocessing.image import ImageDataGenerator\n",
        "from tensorflow.keras.preprocessing import image\n",
        "from tensorflow.keras.utils import to_categorical\n",
        "\n",
        "from tensorflow.keras.models import Sequential, load_model\n",
        "from tensorflow.keras.layers import Dense, Dropout, Activation, Flatten, BatchNormalization\n",
        "from tensorflow.keras.layers import Conv2D, MaxPooling2D\n",
        "from tensorflow.keras.callbacks import EarlyStopping, ModelCheckpoint, ReduceLROnPlateau, LearningRateScheduler\n",
        "\n",
        "# ensure consistency across runs\n",
        "from numpy.random import seed\n",
        "seed(1)\n",
        "from tensorflow import set_random_seed\n",
        "set_random_seed(2)\n",
        "\n",
        "# Imports to view data\n",
        "import cv2\n",
        "from glob import glob\n",
        "\n",
        "import plotly.offline as py\n",
        "py.init_notebook_mode(connected=True)\n",
        "import plotly.graph_objs as go\n",
        "import plotly.tools as tls\n",
        "\n",
        "import seaborn as sns\n",
        "from matplotlib import pyplot as plt\n",
        "import matplotlib.image as mpimg\n",
        "% matplotlib inline\n",
        "\n",
        "import os, shutil\n",
        "from os import listdir\n",
        "from numpy import floor\n",
        "import random\n",
        "import numpy as np\n",
        "import pandas as pd\n",
        "\n",
        "# Import the 3 dimensionality reduction methods\n",
        "from sklearn.manifold import TSNE\n",
        "from sklearn.decomposition import PCA\n",
        "from sklearn.discriminant_analysis import LinearDiscriminantAnalysis as LDA\n",
        "\n",
        "from sklearn.model_selection import train_test_split\n",
        "\n",
        "from sklearn.metrics import confusion_matrix"
      ],
      "execution_count": 49,
      "outputs": [
        {
          "output_type": "display_data",
          "data": {
            "text/vnd.plotly.v1+html": "<script type=\"text/javascript\">window.PlotlyConfig = {MathJaxConfig: 'local'};</script><script type=\"text/javascript\">if (window.MathJax) {MathJax.Hub.Config({SVG: {font: \"STIX-Web\"}});}</script><script>requirejs.config({paths: { 'plotly': ['https://cdn.plot.ly/plotly-latest.min']},});if(!window._Plotly) {require(['plotly'],function(plotly) {window._Plotly=plotly;});}</script>",
            "text/html": [
              "<script type=\"text/javascript\">window.PlotlyConfig = {MathJaxConfig: 'local'};</script><script type=\"text/javascript\">if (window.MathJax) {MathJax.Hub.Config({SVG: {font: \"STIX-Web\"}});}</script><script>requirejs.config({paths: { 'plotly': ['https://cdn.plot.ly/plotly-latest.min']},});if(!window._Plotly) {require(['plotly'],function(plotly) {window._Plotly=plotly;});}</script>"
            ]
          },
          "metadata": {
            "tags": []
          }
        }
      ]
    },
    {
      "cell_type": "code",
      "metadata": {
        "id": "g3wXS-Alpxi4",
        "colab_type": "code",
        "colab": {}
      },
      "source": [
        "plt.style.use('default')"
      ],
      "execution_count": 0,
      "outputs": []
    },
    {
      "cell_type": "markdown",
      "metadata": {
        "id": "vCo5JatkeXD9",
        "colab_type": "text"
      },
      "source": [
        "## 讀取資料"
      ]
    },
    {
      "cell_type": "code",
      "metadata": {
        "id": "tSNTxq4Yzx45",
        "colab_type": "code",
        "colab": {}
      },
      "source": [
        "train = pd.read_csv('./train.csv')\n",
        "test = pd.read_csv('./test.csv')\n",
        "submit = pd.read_csv('./sample_submission.csv')"
      ],
      "execution_count": 0,
      "outputs": []
    },
    {
      "cell_type": "code",
      "metadata": {
        "id": "oJh5OpBtgdDO",
        "colab_type": "code",
        "outputId": "484adb5e-938c-41a1-cbf9-5ec3d8d00469",
        "colab": {
          "base_uri": "https://localhost:8080/",
          "height": 253
        }
      },
      "source": [
        "train.head()"
      ],
      "execution_count": 35,
      "outputs": [
        {
          "output_type": "execute_result",
          "data": {
            "text/html": [
              "<div>\n",
              "<style scoped>\n",
              "    .dataframe tbody tr th:only-of-type {\n",
              "        vertical-align: middle;\n",
              "    }\n",
              "\n",
              "    .dataframe tbody tr th {\n",
              "        vertical-align: top;\n",
              "    }\n",
              "\n",
              "    .dataframe thead th {\n",
              "        text-align: right;\n",
              "    }\n",
              "</style>\n",
              "<table border=\"1\" class=\"dataframe\">\n",
              "  <thead>\n",
              "    <tr style=\"text-align: right;\">\n",
              "      <th></th>\n",
              "      <th>label</th>\n",
              "      <th>pixel0</th>\n",
              "      <th>pixel1</th>\n",
              "      <th>pixel2</th>\n",
              "      <th>pixel3</th>\n",
              "      <th>pixel4</th>\n",
              "      <th>pixel5</th>\n",
              "      <th>pixel6</th>\n",
              "      <th>pixel7</th>\n",
              "      <th>pixel8</th>\n",
              "      <th>pixel9</th>\n",
              "      <th>pixel10</th>\n",
              "      <th>pixel11</th>\n",
              "      <th>pixel12</th>\n",
              "      <th>pixel13</th>\n",
              "      <th>pixel14</th>\n",
              "      <th>pixel15</th>\n",
              "      <th>pixel16</th>\n",
              "      <th>pixel17</th>\n",
              "      <th>pixel18</th>\n",
              "      <th>pixel19</th>\n",
              "      <th>pixel20</th>\n",
              "      <th>pixel21</th>\n",
              "      <th>pixel22</th>\n",
              "      <th>pixel23</th>\n",
              "      <th>pixel24</th>\n",
              "      <th>pixel25</th>\n",
              "      <th>pixel26</th>\n",
              "      <th>pixel27</th>\n",
              "      <th>pixel28</th>\n",
              "      <th>pixel29</th>\n",
              "      <th>pixel30</th>\n",
              "      <th>pixel31</th>\n",
              "      <th>pixel32</th>\n",
              "      <th>pixel33</th>\n",
              "      <th>pixel34</th>\n",
              "      <th>pixel35</th>\n",
              "      <th>pixel36</th>\n",
              "      <th>pixel37</th>\n",
              "      <th>pixel38</th>\n",
              "      <th>...</th>\n",
              "      <th>pixel744</th>\n",
              "      <th>pixel745</th>\n",
              "      <th>pixel746</th>\n",
              "      <th>pixel747</th>\n",
              "      <th>pixel748</th>\n",
              "      <th>pixel749</th>\n",
              "      <th>pixel750</th>\n",
              "      <th>pixel751</th>\n",
              "      <th>pixel752</th>\n",
              "      <th>pixel753</th>\n",
              "      <th>pixel754</th>\n",
              "      <th>pixel755</th>\n",
              "      <th>pixel756</th>\n",
              "      <th>pixel757</th>\n",
              "      <th>pixel758</th>\n",
              "      <th>pixel759</th>\n",
              "      <th>pixel760</th>\n",
              "      <th>pixel761</th>\n",
              "      <th>pixel762</th>\n",
              "      <th>pixel763</th>\n",
              "      <th>pixel764</th>\n",
              "      <th>pixel765</th>\n",
              "      <th>pixel766</th>\n",
              "      <th>pixel767</th>\n",
              "      <th>pixel768</th>\n",
              "      <th>pixel769</th>\n",
              "      <th>pixel770</th>\n",
              "      <th>pixel771</th>\n",
              "      <th>pixel772</th>\n",
              "      <th>pixel773</th>\n",
              "      <th>pixel774</th>\n",
              "      <th>pixel775</th>\n",
              "      <th>pixel776</th>\n",
              "      <th>pixel777</th>\n",
              "      <th>pixel778</th>\n",
              "      <th>pixel779</th>\n",
              "      <th>pixel780</th>\n",
              "      <th>pixel781</th>\n",
              "      <th>pixel782</th>\n",
              "      <th>pixel783</th>\n",
              "    </tr>\n",
              "  </thead>\n",
              "  <tbody>\n",
              "    <tr>\n",
              "      <th>0</th>\n",
              "      <td>1</td>\n",
              "      <td>0</td>\n",
              "      <td>0</td>\n",
              "      <td>0</td>\n",
              "      <td>0</td>\n",
              "      <td>0</td>\n",
              "      <td>0</td>\n",
              "      <td>0</td>\n",
              "      <td>0</td>\n",
              "      <td>0</td>\n",
              "      <td>0</td>\n",
              "      <td>0</td>\n",
              "      <td>0</td>\n",
              "      <td>0</td>\n",
              "      <td>0</td>\n",
              "      <td>0</td>\n",
              "      <td>0</td>\n",
              "      <td>0</td>\n",
              "      <td>0</td>\n",
              "      <td>0</td>\n",
              "      <td>0</td>\n",
              "      <td>0</td>\n",
              "      <td>0</td>\n",
              "      <td>0</td>\n",
              "      <td>0</td>\n",
              "      <td>0</td>\n",
              "      <td>0</td>\n",
              "      <td>0</td>\n",
              "      <td>0</td>\n",
              "      <td>0</td>\n",
              "      <td>0</td>\n",
              "      <td>0</td>\n",
              "      <td>0</td>\n",
              "      <td>0</td>\n",
              "      <td>0</td>\n",
              "      <td>0</td>\n",
              "      <td>0</td>\n",
              "      <td>0</td>\n",
              "      <td>0</td>\n",
              "      <td>0</td>\n",
              "      <td>...</td>\n",
              "      <td>0</td>\n",
              "      <td>0</td>\n",
              "      <td>0</td>\n",
              "      <td>0</td>\n",
              "      <td>0</td>\n",
              "      <td>0</td>\n",
              "      <td>0</td>\n",
              "      <td>0</td>\n",
              "      <td>0</td>\n",
              "      <td>0</td>\n",
              "      <td>0</td>\n",
              "      <td>0</td>\n",
              "      <td>0</td>\n",
              "      <td>0</td>\n",
              "      <td>0</td>\n",
              "      <td>0</td>\n",
              "      <td>0</td>\n",
              "      <td>0</td>\n",
              "      <td>0</td>\n",
              "      <td>0</td>\n",
              "      <td>0</td>\n",
              "      <td>0</td>\n",
              "      <td>0</td>\n",
              "      <td>0</td>\n",
              "      <td>0</td>\n",
              "      <td>0</td>\n",
              "      <td>0</td>\n",
              "      <td>0</td>\n",
              "      <td>0</td>\n",
              "      <td>0</td>\n",
              "      <td>0</td>\n",
              "      <td>0</td>\n",
              "      <td>0</td>\n",
              "      <td>0</td>\n",
              "      <td>0</td>\n",
              "      <td>0</td>\n",
              "      <td>0</td>\n",
              "      <td>0</td>\n",
              "      <td>0</td>\n",
              "      <td>0</td>\n",
              "    </tr>\n",
              "    <tr>\n",
              "      <th>1</th>\n",
              "      <td>0</td>\n",
              "      <td>0</td>\n",
              "      <td>0</td>\n",
              "      <td>0</td>\n",
              "      <td>0</td>\n",
              "      <td>0</td>\n",
              "      <td>0</td>\n",
              "      <td>0</td>\n",
              "      <td>0</td>\n",
              "      <td>0</td>\n",
              "      <td>0</td>\n",
              "      <td>0</td>\n",
              "      <td>0</td>\n",
              "      <td>0</td>\n",
              "      <td>0</td>\n",
              "      <td>0</td>\n",
              "      <td>0</td>\n",
              "      <td>0</td>\n",
              "      <td>0</td>\n",
              "      <td>0</td>\n",
              "      <td>0</td>\n",
              "      <td>0</td>\n",
              "      <td>0</td>\n",
              "      <td>0</td>\n",
              "      <td>0</td>\n",
              "      <td>0</td>\n",
              "      <td>0</td>\n",
              "      <td>0</td>\n",
              "      <td>0</td>\n",
              "      <td>0</td>\n",
              "      <td>0</td>\n",
              "      <td>0</td>\n",
              "      <td>0</td>\n",
              "      <td>0</td>\n",
              "      <td>0</td>\n",
              "      <td>0</td>\n",
              "      <td>0</td>\n",
              "      <td>0</td>\n",
              "      <td>0</td>\n",
              "      <td>0</td>\n",
              "      <td>...</td>\n",
              "      <td>0</td>\n",
              "      <td>0</td>\n",
              "      <td>0</td>\n",
              "      <td>0</td>\n",
              "      <td>0</td>\n",
              "      <td>0</td>\n",
              "      <td>0</td>\n",
              "      <td>0</td>\n",
              "      <td>0</td>\n",
              "      <td>0</td>\n",
              "      <td>0</td>\n",
              "      <td>0</td>\n",
              "      <td>0</td>\n",
              "      <td>0</td>\n",
              "      <td>0</td>\n",
              "      <td>0</td>\n",
              "      <td>0</td>\n",
              "      <td>0</td>\n",
              "      <td>0</td>\n",
              "      <td>0</td>\n",
              "      <td>0</td>\n",
              "      <td>0</td>\n",
              "      <td>0</td>\n",
              "      <td>0</td>\n",
              "      <td>0</td>\n",
              "      <td>0</td>\n",
              "      <td>0</td>\n",
              "      <td>0</td>\n",
              "      <td>0</td>\n",
              "      <td>0</td>\n",
              "      <td>0</td>\n",
              "      <td>0</td>\n",
              "      <td>0</td>\n",
              "      <td>0</td>\n",
              "      <td>0</td>\n",
              "      <td>0</td>\n",
              "      <td>0</td>\n",
              "      <td>0</td>\n",
              "      <td>0</td>\n",
              "      <td>0</td>\n",
              "    </tr>\n",
              "    <tr>\n",
              "      <th>2</th>\n",
              "      <td>1</td>\n",
              "      <td>0</td>\n",
              "      <td>0</td>\n",
              "      <td>0</td>\n",
              "      <td>0</td>\n",
              "      <td>0</td>\n",
              "      <td>0</td>\n",
              "      <td>0</td>\n",
              "      <td>0</td>\n",
              "      <td>0</td>\n",
              "      <td>0</td>\n",
              "      <td>0</td>\n",
              "      <td>0</td>\n",
              "      <td>0</td>\n",
              "      <td>0</td>\n",
              "      <td>0</td>\n",
              "      <td>0</td>\n",
              "      <td>0</td>\n",
              "      <td>0</td>\n",
              "      <td>0</td>\n",
              "      <td>0</td>\n",
              "      <td>0</td>\n",
              "      <td>0</td>\n",
              "      <td>0</td>\n",
              "      <td>0</td>\n",
              "      <td>0</td>\n",
              "      <td>0</td>\n",
              "      <td>0</td>\n",
              "      <td>0</td>\n",
              "      <td>0</td>\n",
              "      <td>0</td>\n",
              "      <td>0</td>\n",
              "      <td>0</td>\n",
              "      <td>0</td>\n",
              "      <td>0</td>\n",
              "      <td>0</td>\n",
              "      <td>0</td>\n",
              "      <td>0</td>\n",
              "      <td>0</td>\n",
              "      <td>0</td>\n",
              "      <td>...</td>\n",
              "      <td>0</td>\n",
              "      <td>0</td>\n",
              "      <td>0</td>\n",
              "      <td>0</td>\n",
              "      <td>0</td>\n",
              "      <td>0</td>\n",
              "      <td>0</td>\n",
              "      <td>0</td>\n",
              "      <td>0</td>\n",
              "      <td>0</td>\n",
              "      <td>0</td>\n",
              "      <td>0</td>\n",
              "      <td>0</td>\n",
              "      <td>0</td>\n",
              "      <td>0</td>\n",
              "      <td>0</td>\n",
              "      <td>0</td>\n",
              "      <td>0</td>\n",
              "      <td>0</td>\n",
              "      <td>0</td>\n",
              "      <td>0</td>\n",
              "      <td>0</td>\n",
              "      <td>0</td>\n",
              "      <td>0</td>\n",
              "      <td>0</td>\n",
              "      <td>0</td>\n",
              "      <td>0</td>\n",
              "      <td>0</td>\n",
              "      <td>0</td>\n",
              "      <td>0</td>\n",
              "      <td>0</td>\n",
              "      <td>0</td>\n",
              "      <td>0</td>\n",
              "      <td>0</td>\n",
              "      <td>0</td>\n",
              "      <td>0</td>\n",
              "      <td>0</td>\n",
              "      <td>0</td>\n",
              "      <td>0</td>\n",
              "      <td>0</td>\n",
              "    </tr>\n",
              "    <tr>\n",
              "      <th>3</th>\n",
              "      <td>4</td>\n",
              "      <td>0</td>\n",
              "      <td>0</td>\n",
              "      <td>0</td>\n",
              "      <td>0</td>\n",
              "      <td>0</td>\n",
              "      <td>0</td>\n",
              "      <td>0</td>\n",
              "      <td>0</td>\n",
              "      <td>0</td>\n",
              "      <td>0</td>\n",
              "      <td>0</td>\n",
              "      <td>0</td>\n",
              "      <td>0</td>\n",
              "      <td>0</td>\n",
              "      <td>0</td>\n",
              "      <td>0</td>\n",
              "      <td>0</td>\n",
              "      <td>0</td>\n",
              "      <td>0</td>\n",
              "      <td>0</td>\n",
              "      <td>0</td>\n",
              "      <td>0</td>\n",
              "      <td>0</td>\n",
              "      <td>0</td>\n",
              "      <td>0</td>\n",
              "      <td>0</td>\n",
              "      <td>0</td>\n",
              "      <td>0</td>\n",
              "      <td>0</td>\n",
              "      <td>0</td>\n",
              "      <td>0</td>\n",
              "      <td>0</td>\n",
              "      <td>0</td>\n",
              "      <td>0</td>\n",
              "      <td>0</td>\n",
              "      <td>0</td>\n",
              "      <td>0</td>\n",
              "      <td>0</td>\n",
              "      <td>0</td>\n",
              "      <td>...</td>\n",
              "      <td>0</td>\n",
              "      <td>0</td>\n",
              "      <td>0</td>\n",
              "      <td>0</td>\n",
              "      <td>0</td>\n",
              "      <td>0</td>\n",
              "      <td>0</td>\n",
              "      <td>0</td>\n",
              "      <td>0</td>\n",
              "      <td>0</td>\n",
              "      <td>0</td>\n",
              "      <td>0</td>\n",
              "      <td>0</td>\n",
              "      <td>0</td>\n",
              "      <td>0</td>\n",
              "      <td>0</td>\n",
              "      <td>0</td>\n",
              "      <td>0</td>\n",
              "      <td>0</td>\n",
              "      <td>0</td>\n",
              "      <td>0</td>\n",
              "      <td>0</td>\n",
              "      <td>0</td>\n",
              "      <td>0</td>\n",
              "      <td>0</td>\n",
              "      <td>0</td>\n",
              "      <td>0</td>\n",
              "      <td>0</td>\n",
              "      <td>0</td>\n",
              "      <td>0</td>\n",
              "      <td>0</td>\n",
              "      <td>0</td>\n",
              "      <td>0</td>\n",
              "      <td>0</td>\n",
              "      <td>0</td>\n",
              "      <td>0</td>\n",
              "      <td>0</td>\n",
              "      <td>0</td>\n",
              "      <td>0</td>\n",
              "      <td>0</td>\n",
              "    </tr>\n",
              "    <tr>\n",
              "      <th>4</th>\n",
              "      <td>0</td>\n",
              "      <td>0</td>\n",
              "      <td>0</td>\n",
              "      <td>0</td>\n",
              "      <td>0</td>\n",
              "      <td>0</td>\n",
              "      <td>0</td>\n",
              "      <td>0</td>\n",
              "      <td>0</td>\n",
              "      <td>0</td>\n",
              "      <td>0</td>\n",
              "      <td>0</td>\n",
              "      <td>0</td>\n",
              "      <td>0</td>\n",
              "      <td>0</td>\n",
              "      <td>0</td>\n",
              "      <td>0</td>\n",
              "      <td>0</td>\n",
              "      <td>0</td>\n",
              "      <td>0</td>\n",
              "      <td>0</td>\n",
              "      <td>0</td>\n",
              "      <td>0</td>\n",
              "      <td>0</td>\n",
              "      <td>0</td>\n",
              "      <td>0</td>\n",
              "      <td>0</td>\n",
              "      <td>0</td>\n",
              "      <td>0</td>\n",
              "      <td>0</td>\n",
              "      <td>0</td>\n",
              "      <td>0</td>\n",
              "      <td>0</td>\n",
              "      <td>0</td>\n",
              "      <td>0</td>\n",
              "      <td>0</td>\n",
              "      <td>0</td>\n",
              "      <td>0</td>\n",
              "      <td>0</td>\n",
              "      <td>0</td>\n",
              "      <td>...</td>\n",
              "      <td>0</td>\n",
              "      <td>0</td>\n",
              "      <td>0</td>\n",
              "      <td>0</td>\n",
              "      <td>0</td>\n",
              "      <td>0</td>\n",
              "      <td>0</td>\n",
              "      <td>0</td>\n",
              "      <td>0</td>\n",
              "      <td>0</td>\n",
              "      <td>0</td>\n",
              "      <td>0</td>\n",
              "      <td>0</td>\n",
              "      <td>0</td>\n",
              "      <td>0</td>\n",
              "      <td>0</td>\n",
              "      <td>0</td>\n",
              "      <td>0</td>\n",
              "      <td>0</td>\n",
              "      <td>0</td>\n",
              "      <td>0</td>\n",
              "      <td>0</td>\n",
              "      <td>0</td>\n",
              "      <td>0</td>\n",
              "      <td>0</td>\n",
              "      <td>0</td>\n",
              "      <td>0</td>\n",
              "      <td>0</td>\n",
              "      <td>0</td>\n",
              "      <td>0</td>\n",
              "      <td>0</td>\n",
              "      <td>0</td>\n",
              "      <td>0</td>\n",
              "      <td>0</td>\n",
              "      <td>0</td>\n",
              "      <td>0</td>\n",
              "      <td>0</td>\n",
              "      <td>0</td>\n",
              "      <td>0</td>\n",
              "      <td>0</td>\n",
              "    </tr>\n",
              "  </tbody>\n",
              "</table>\n",
              "<p>5 rows × 785 columns</p>\n",
              "</div>"
            ],
            "text/plain": [
              "   label  pixel0  pixel1  pixel2  ...  pixel780  pixel781  pixel782  pixel783\n",
              "0      1       0       0       0  ...         0         0         0         0\n",
              "1      0       0       0       0  ...         0         0         0         0\n",
              "2      1       0       0       0  ...         0         0         0         0\n",
              "3      4       0       0       0  ...         0         0         0         0\n",
              "4      0       0       0       0  ...         0         0         0         0\n",
              "\n",
              "[5 rows x 785 columns]"
            ]
          },
          "metadata": {
            "tags": []
          },
          "execution_count": 35
        }
      ]
    },
    {
      "cell_type": "markdown",
      "metadata": {
        "id": "3WSUp9lVgW3M",
        "colab_type": "text"
      },
      "source": [
        "## 查看data"
      ]
    },
    {
      "cell_type": "code",
      "metadata": {
        "id": "Tv4kYfFXgT5Y",
        "colab_type": "code",
        "outputId": "b39222b3-01b6-4599-a7b8-245d5c782449",
        "colab": {
          "base_uri": "https://localhost:8080/",
          "height": 184
        }
      },
      "source": [
        "def plot_three_samples():\n",
        "    plt.figure(figsize=(3,3))\n",
        "    imgs = [random.randint(0, np.size(train, 0)) for _ in range(0, 3)]\n",
        "    \n",
        "    for digit_num in range(0,3):\n",
        "        plt.subplot(1,3,digit_num+1)\n",
        "        grid_data = train.iloc[imgs[digit_num],1:].as_matrix().reshape(28,28)  # reshape from 1d to 2d pixel array\n",
        "        plt.imshow(grid_data, interpolation = \"none\", cmap = \"afmhot\")\n",
        "        plt.xticks([])\n",
        "        plt.yticks([])\n",
        "        \n",
        "    plt.tight_layout()\n",
        "    return\n",
        "\n",
        "plot_three_samples()"
      ],
      "execution_count": 6,
      "outputs": [
        {
          "output_type": "stream",
          "text": [
            "/usr/local/lib/python3.6/dist-packages/ipykernel_launcher.py:7: FutureWarning:\n",
            "\n",
            "Method .as_matrix will be removed in a future version. Use .values instead.\n",
            "\n"
          ],
          "name": "stderr"
        },
        {
          "output_type": "display_data",
          "data": {
            "image/png": "[encoded data removed]",
            "text/plain": [
              "<Figure size 300x300 with 3 Axes>"
            ]
          },
          "metadata": {
            "tags": []
          }
        }
      ]
    },
    {
      "cell_type": "markdown",
      "metadata": {
        "id": "7GMeD2oIeZYF",
        "colab_type": "text"
      },
      "source": [
        "## 設定常數"
      ]
    },
    {
      "cell_type": "code",
      "metadata": {
        "id": "BSq7nB9cbDj0",
        "colab_type": "code",
        "colab": {}
      },
      "source": [
        "target_dims = (28, 28, 1)\n",
        "n_classes = 10\n",
        "batch_size = 300\n",
        "val_frac = 0.1\n",
        "seed = 42\n",
        "epochs = 50"
      ],
      "execution_count": 0,
      "outputs": []
    },
    {
      "cell_type": "markdown",
      "metadata": {
        "id": "pAnZ_prYeepa",
        "colab_type": "text"
      },
      "source": [
        "## 分割訓練與測試集"
      ]
    },
    {
      "cell_type": "code",
      "metadata": {
        "id": "hCXQuX96ZwDt",
        "colab_type": "code",
        "colab": {}
      },
      "source": [
        "train_data = train.iloc[:,1:]\n",
        "target = train.iloc[:,0]"
      ],
      "execution_count": 0,
      "outputs": []
    },
    {
      "cell_type": "code",
      "metadata": {
        "id": "P0gY6u-4a8xZ",
        "colab_type": "code",
        "colab": {}
      },
      "source": [
        "# target_onehot = to_categorical(target, num_classes=n_classes) # one-hot，不一定需要\n",
        "### 使用後差異會在兩個地方，一個是分割測試來源時，target不取valurs，\n",
        "### model的 loss 改用 categorical_crossentropy 而不是 sparse_categorical_crossentropy"
      ],
      "execution_count": 0,
      "outputs": []
    },
    {
      "cell_type": "code",
      "metadata": {
        "id": "F4rN0yNs0GMd",
        "colab_type": "code",
        "colab": {}
      },
      "source": [
        "x_train , x_test , y_train , y_test = train_test_split(train_data.values , target.values , test_size = 0.1, random_state = seed) "
      ],
      "execution_count": 0,
      "outputs": []
    },
    {
      "cell_type": "code",
      "metadata": {
        "id": "uzuwoS1x0bbG",
        "colab_type": "code",
        "colab": {}
      },
      "source": [
        "x_train_normalized = x_train.reshape(-1 , 28 , 28 , 1)/255\n",
        "x_test_normalized = x_test.reshape(-1 , 28 , 28 , 1)/255"
      ],
      "execution_count": 0,
      "outputs": []
    },
    {
      "cell_type": "code",
      "metadata": {
        "id": "Ib3aYNmBrTiq",
        "colab_type": "code",
        "colab": {}
      },
      "source": [
        "y_train_onehot = to_categorical(y_train, num_classes=n_classes)\n",
        "y_test_onehot = to_categorical(y_test, num_classes=n_classes)"
      ],
      "execution_count": 0,
      "outputs": []
    },
    {
      "cell_type": "code",
      "metadata": {
        "id": "K5RkrUezFamA",
        "colab_type": "code",
        "outputId": "6df9287e-53b9-455c-db9d-434eb29abefa",
        "colab": {
          "base_uri": "https://localhost:8080/",
          "height": 34
        }
      },
      "source": [
        "print(x_train_normalized.shape, y_train_onehot.shape, test.shape)"
      ],
      "execution_count": 34,
      "outputs": [
        {
          "output_type": "stream",
          "text": [
            "(37800, 28, 28, 1) (37800, 10) (28000, 784)\n"
          ],
          "name": "stdout"
        }
      ]
    },
    {
      "cell_type": "markdown",
      "metadata": {
        "id": "RBqhQBBQz2qX",
        "colab_type": "text"
      },
      "source": [
        "## AI訓練"
      ]
    },
    {
      "cell_type": "markdown",
      "metadata": {
        "id": "TIMsUf_QfULU",
        "colab_type": "text"
      },
      "source": [
        "### 定義model"
      ]
    },
    {
      "cell_type": "code",
      "metadata": {
        "id": "1QIwi6KVVqOD",
        "colab_type": "code",
        "colab": {}
      },
      "source": [
        "def cnn_model1():\n",
        "    model = Sequential()\n",
        "    model.add(Conv2D(filters = 16, kernel_size = (3,3), padding = 'Same', activation ='relu', input_shape = target_dims))\n",
        "    model.add(BatchNormalization())\n",
        "    model.add(MaxPooling2D(pool_size=(2,2)))\n",
        "    model.add(Dropout(0.25))\n",
        "    \n",
        "    model.add(Conv2D(filters = 32, kernel_size = (3,3), padding = 'Same', activation ='relu'))\n",
        "    model.add(BatchNormalization())\n",
        "    model.add(MaxPooling2D(pool_size=(2,2)))\n",
        "    model.add(Dropout(0.25))\n",
        "    \n",
        "    model.add(Conv2D(filters = 64, kernel_size = (2,2), padding = 'Same', activation ='relu'))\n",
        "    model.add(BatchNormalization())\n",
        "    model.add(MaxPooling2D(pool_size=(2,2)))\n",
        "    model.add(Dropout(0.25))\n",
        "    \n",
        "    model.add(Flatten())\n",
        "    model.add(Dense(512, activation = \"relu\"))\n",
        "    model.add(BatchNormalization())\n",
        "    model.add(Dropout(0.5))\n",
        "    model.add(Dense(n_classes, activation = \"softmax\"))\n",
        "    return model"
      ],
      "execution_count": 0,
      "outputs": []
    },
    {
      "cell_type": "code",
      "metadata": {
        "id": "j2eD-EX0gvVg",
        "colab_type": "code",
        "colab": {}
      },
      "source": [
        "def cnn_model2():\n",
        "    model = Sequential()\n",
        "\n",
        "    model.add(Conv2D(16, (5,5), activation=\"relu\", padding=\"same\", data_format=\"channels_last\", input_shape=target_dims))\n",
        "    model.add(MaxPooling2D(pool_size=(2,2), data_format=\"channels_last\"))\n",
        "\n",
        "    model.add(Conv2D(32, (5,5), activation=\"relu\", padding=\"same\", data_format=\"channels_last\"))\n",
        "    model.add(MaxPooling2D(pool_size=(2,2), data_format=\"channels_last\"))\n",
        "\n",
        "    model.add(Flatten())\n",
        "    model.add(Dense(128, activation=\"relu\"))\n",
        "    model.add(Dropout(0.5))\n",
        "    model.add(Dense(10, activation=\"softmax\"))\n",
        "    return model"
      ],
      "execution_count": 0,
      "outputs": []
    },
    {
      "cell_type": "code",
      "metadata": {
        "id": "q4CUy7OWVwRe",
        "colab_type": "code",
        "colab": {}
      },
      "source": [
        "model = cnn_model2()"
      ],
      "execution_count": 0,
      "outputs": []
    },
    {
      "cell_type": "code",
      "metadata": {
        "id": "EPDABZJKurtP",
        "colab_type": "code",
        "colab": {}
      },
      "source": [
        "model.summary()"
      ],
      "execution_count": 0,
      "outputs": []
    },
    {
      "cell_type": "code",
      "metadata": {
        "id": "lLygHtlOu3jT",
        "colab_type": "code",
        "colab": {}
      },
      "source": [
        "# 定義訓練方式\n",
        "# loss function: 交叉熵\n",
        "# optimizer: Adam\n",
        "# 評估模型: 準確率\n",
        "model.compile(loss='categorical_crossentropy', optimizer=Adam(), metrics=['accuracy'])"
      ],
      "execution_count": 0,
      "outputs": []
    },
    {
      "cell_type": "code",
      "metadata": {
        "id": "0btLsbC4hRTi",
        "colab_type": "code",
        "colab": {}
      },
      "source": [
        "optimizer = optimizers.RMSprop(lr=0.001, rho=0.9, epsilon=1e-08, decay=0.0)\n",
        "model.compile(optimizer = optimizer , loss = \"categorical_crossentropy\", metrics=[\"accuracy\"])"
      ],
      "execution_count": 0,
      "outputs": []
    },
    {
      "cell_type": "markdown",
      "metadata": {
        "id": "LosrFEm1hGiK",
        "colab_type": "text"
      },
      "source": [
        "### 設定data generator"
      ]
    },
    {
      "cell_type": "code",
      "metadata": {
        "id": "ErPKTjTh0mNi",
        "colab_type": "code",
        "colab": {}
      },
      "source": [
        "datagen = ImageDataGenerator(\n",
        "                              featurewise_center = False,  # set input mean to 0 over the dataset\n",
        "                              samplewise_center = False,  # set each sample mean to 0\n",
        "                              featurewise_std_normalization = False,  # divide inputs by std of the dataset\n",
        "                              samplewise_std_normalization = False,  # divide each input by its std\n",
        "                              zca_whitening = False,  # apply ZCA whitening\n",
        "                              rotation_range = 10,  # randomly rotate images in the range (degrees, 0 to 180)\n",
        "                              zoom_range = 0.1, # Randomly zoom image \n",
        "                              width_shift_range = 0.1,  # randomly shift images horizontally (fraction of total width)\n",
        "                              height_shift_range = 0.1,  # randomly shift images vertically (fraction of total height)\n",
        "                              horizontal_flip = False,  # randomly flip images\n",
        "                              vertical_flip = False, # randomly flip images\n",
        "                              validation_split = val_frac\n",
        "                            )"
      ],
      "execution_count": 0,
      "outputs": []
    },
    {
      "cell_type": "markdown",
      "metadata": {
        "id": "RF-xzmCqhhAy",
        "colab_type": "text"
      },
      "source": [
        "### 設定 callback\n",
        "\n",
        "用來調整learning rate加強學習效果"
      ]
    },
    {
      "cell_type": "code",
      "metadata": {
        "id": "No0ZvBhm03fm",
        "colab_type": "code",
        "colab": {}
      },
      "source": [
        "lr_reduction = ReduceLROnPlateau(monitor='val_acc', \n",
        "                                 patience=3, # 三個epoch沒有進展\n",
        "                                 verbose=1, \n",
        "                                 factor=0.5, # 縮小一半的learning rate\n",
        "                                 min_lr=0.00001 # 最小下降幅度\n",
        "                                )"
      ],
      "execution_count": 0,
      "outputs": []
    },
    {
      "cell_type": "code",
      "metadata": {
        "id": "E8EoHKXA-DEI",
        "colab_type": "code",
        "colab": {}
      },
      "source": [
        "es = EarlyStopping(monitor='val_acc', \n",
        "                   mode='max', \n",
        "                   verbose=1, \n",
        "                   patience=9, \n",
        "                   restore_best_weights=True\n",
        "                  )"
      ],
      "execution_count": 0,
      "outputs": []
    },
    {
      "cell_type": "markdown",
      "metadata": {
        "id": "fG8Q0FPUhl8K",
        "colab_type": "text"
      },
      "source": [
        "### 訓練"
      ]
    },
    {
      "cell_type": "code",
      "metadata": {
        "id": "0vYI0pi5vezM",
        "colab_type": "code",
        "colab": {}
      },
      "source": [
        "train_history = model.fit(x_train_normalized, y_train_onehot, validation_split=0.2, epochs=epochs, batch_size=batch_size, verbose=1)"
      ],
      "execution_count": 0,
      "outputs": []
    },
    {
      "cell_type": "code",
      "metadata": {
        "id": "KNxJ1wRe08vn",
        "colab_type": "code",
        "colab": {}
      },
      "source": [
        "train_history = model.fit_generator(datagen.flow(x_train_normalized , y_train_onehot , batch_size = batch_size) ,\n",
        "                                    steps_per_epoch = X_train.shape[0],\n",
        "                                    validation_data = (x_test_normalized, y_test_onehot), # 訓練同時測試\n",
        "                                    epochs = epochs,\n",
        "                                    verbose = 1,\n",
        "                                    callbacks=[learning_rate_reduction]\n",
        "                                   )"
      ],
      "execution_count": 0,
      "outputs": []
    },
    {
      "cell_type": "code",
      "metadata": {
        "id": "DQFKvOlf2Jz9",
        "colab_type": "code",
        "outputId": "b5897ae7-1880-4e18-9d67-c2d9ee75e95f",
        "colab": {
          "base_uri": "https://localhost:8080/",
          "height": 51
        }
      },
      "source": [
        "final_loss, final_acc = model.evaluate(x_test_normalized, y_test_onehot, verbose=0) # 其他測試方式\n",
        "print('loss =' , final_loss , '\\naccuracy' , final_acc)"
      ],
      "execution_count": 68,
      "outputs": [
        {
          "output_type": "stream",
          "text": [
            "loss = 0.019424618026158507 \n",
            "accuracy 0.995\n"
          ],
          "name": "stdout"
        }
      ]
    },
    {
      "cell_type": "code",
      "metadata": {
        "id": "vMfNO6s2h5pU",
        "colab_type": "code",
        "colab": {}
      },
      "source": [
        "model.save_weights(\"model.h5\")"
      ],
      "execution_count": 0,
      "outputs": []
    },
    {
      "cell_type": "markdown",
      "metadata": {
        "id": "GUDX7s_N0FGr",
        "colab_type": "text"
      },
      "source": [
        "### 完整範例流程"
      ]
    },
    {
      "cell_type": "code",
      "metadata": {
        "id": "M1hZ9Wmr0MW4",
        "colab_type": "code",
        "colab": {}
      },
      "source": [
        "# 直接使用來源資料\n",
        "model = cnn_model1()\n",
        "model.summary()\n",
        "model.compile(loss='categorical_crossentropy', optimizer=Adam(), metrics=['accuracy'])\n",
        "\n",
        "train_history = model.fit(x_train_normalized, \n",
        "                          y_train_onehot, \n",
        "                          validation_split=0.2, \n",
        "                          epochs=epochs, \n",
        "                          batch_size=batch_size, \n",
        "                          verbose=1,\n",
        "                          callbacks = [lr_reduction, es],\n",
        "                          validation_data = (x_test_normalized, y_test_onehot)\n",
        "                         )"
      ],
      "execution_count": 0,
      "outputs": []
    },
    {
      "cell_type": "code",
      "metadata": {
        "id": "O7VUhf323OeD",
        "colab_type": "code",
        "colab": {
          "base_uri": "https://localhost:8080/",
          "height": 3471
        },
        "outputId": "4a482a11-5839-45ab-fcc9-2160e4a311cc"
      },
      "source": [
        "# 使用generator來增加測試資料\n",
        "model = cnn_model1()\n",
        "model.summary()\n",
        "model.compile(loss='categorical_crossentropy', optimizer=Adam(), metrics=['accuracy'])\n",
        "\n",
        "datagen.fit(x_train_normalized)\n",
        "train_generator = datagen.flow(x_train_normalized, y_train_onehot, batch_size = batch_size)\n",
        "\n",
        "train_history = model.fit_generator(train_generator,\n",
        "                                    steps_per_epoch = 300,\n",
        "                                    validation_data = (x_test_normalized, y_test_onehot), # 訓練同時測試\n",
        "                                    epochs = epochs,\n",
        "                                    verbose = 1,\n",
        "                                    callbacks = [lr_reduction, es]\n",
        "                                   )"
      ],
      "execution_count": 55,
      "outputs": [
        {
          "output_type": "stream",
          "text": [
            "_________________________________________________________________\n",
            "Layer (type)                 Output Shape              Param #   \n",
            "=================================================================\n",
            "conv2d_33 (Conv2D)           (None, 28, 28, 16)        160       \n",
            "_________________________________________________________________\n",
            "batch_normalization_v1_36 (B (None, 28, 28, 16)        64        \n",
            "_________________________________________________________________\n",
            "max_pooling2d_33 (MaxPooling (None, 14, 14, 16)        0         \n",
            "_________________________________________________________________\n",
            "dropout_39 (Dropout)         (None, 14, 14, 16)        0         \n",
            "_________________________________________________________________\n",
            "conv2d_34 (Conv2D)           (None, 14, 14, 32)        4640      \n",
            "_________________________________________________________________\n",
            "batch_normalization_v1_37 (B (None, 14, 14, 32)        128       \n",
            "_________________________________________________________________\n",
            "max_pooling2d_34 (MaxPooling (None, 7, 7, 32)          0         \n",
            "_________________________________________________________________\n",
            "dropout_40 (Dropout)         (None, 7, 7, 32)          0         \n",
            "_________________________________________________________________\n",
            "conv2d_35 (Conv2D)           (None, 7, 7, 64)          8256      \n",
            "_________________________________________________________________\n",
            "batch_normalization_v1_38 (B (None, 7, 7, 64)          256       \n",
            "_________________________________________________________________\n",
            "max_pooling2d_35 (MaxPooling (None, 3, 3, 64)          0         \n",
            "_________________________________________________________________\n",
            "dropout_41 (Dropout)         (None, 3, 3, 64)          0         \n",
            "_________________________________________________________________\n",
            "flatten_12 (Flatten)         (None, 576)               0         \n",
            "_________________________________________________________________\n",
            "dense_24 (Dense)             (None, 512)               295424    \n",
            "_________________________________________________________________\n",
            "batch_normalization_v1_39 (B (None, 512)               2048      \n",
            "_________________________________________________________________\n",
            "dropout_42 (Dropout)         (None, 512)               0         \n",
            "_________________________________________________________________\n",
            "dense_25 (Dense)             (None, 10)                5130      \n",
            "=================================================================\n",
            "Total params: 316,106\n",
            "Trainable params: 314,858\n",
            "Non-trainable params: 1,248\n",
            "_________________________________________________________________\n",
            "Epoch 1/50\n",
            "4200/4200 [==============================] - 2s 449us/sample - loss: 9.5846 - acc: 0.1121\n",
            "126/126 [==============================] - 80s 632ms/step - loss: 0.9758 - acc: 0.7055 - val_loss: 9.5846 - val_acc: 0.1121\n",
            "Epoch 2/50\n",
            "4200/4200 [==============================] - 2s 419us/sample - loss: 9.9272 - acc: 0.1121\n",
            "126/126 [==============================] - 79s 623ms/step - loss: 0.3545 - acc: 0.8876 - val_loss: 9.9272 - val_acc: 0.1121\n",
            "Epoch 3/50\n",
            "4200/4200 [==============================] - 2s 425us/sample - loss: 2.9538 - acc: 0.3179\n",
            "126/126 [==============================] - 79s 628ms/step - loss: 0.2482 - acc: 0.9205 - val_loss: 2.9538 - val_acc: 0.3179\n",
            "Epoch 4/50\n",
            "4200/4200 [==============================] - 2s 403us/sample - loss: 0.2912 - acc: 0.9102\n",
            "126/126 [==============================] - 79s 625ms/step - loss: 0.1970 - acc: 0.9376 - val_loss: 0.2912 - val_acc: 0.9102\n",
            "Epoch 5/50\n",
            "4200/4200 [==============================] - 2s 424us/sample - loss: 0.0667 - acc: 0.9810\n",
            "126/126 [==============================] - 79s 625ms/step - loss: 0.1642 - acc: 0.9485 - val_loss: 0.0667 - val_acc: 0.9810\n",
            "Epoch 6/50\n",
            "4200/4200 [==============================] - 2s 383us/sample - loss: 0.0447 - acc: 0.9857\n",
            "126/126 [==============================] - 79s 624ms/step - loss: 0.1484 - acc: 0.9522 - val_loss: 0.0447 - val_acc: 0.9857\n",
            "Epoch 7/50\n",
            "4200/4200 [==============================] - 2s 412us/sample - loss: 0.0405 - acc: 0.9869\n",
            "126/126 [==============================] - 80s 632ms/step - loss: 0.1334 - acc: 0.9578 - val_loss: 0.0405 - val_acc: 0.9869\n",
            "Epoch 8/50\n",
            "4200/4200 [==============================] - 2s 388us/sample - loss: 0.0471 - acc: 0.9852\n",
            "126/126 [==============================] - 79s 626ms/step - loss: 0.1274 - acc: 0.9586 - val_loss: 0.0471 - val_acc: 0.9852\n",
            "Epoch 9/50\n",
            "4200/4200 [==============================] - 2s 421us/sample - loss: 0.0365 - acc: 0.9890\n",
            "126/126 [==============================] - 79s 624ms/step - loss: 0.1177 - acc: 0.9621 - val_loss: 0.0365 - val_acc: 0.9890\n",
            "Epoch 10/50\n",
            "4200/4200 [==============================] - 2s 413us/sample - loss: 0.0317 - acc: 0.9895\n",
            "126/126 [==============================] - 79s 625ms/step - loss: 0.1079 - acc: 0.9655 - val_loss: 0.0317 - val_acc: 0.9895\n",
            "Epoch 11/50\n",
            "4200/4200 [==============================] - 2s 413us/sample - loss: 0.0303 - acc: 0.9907\n",
            "126/126 [==============================] - 80s 632ms/step - loss: 0.1026 - acc: 0.9675 - val_loss: 0.0303 - val_acc: 0.9907\n",
            "Epoch 12/50\n",
            "4200/4200 [==============================] - 2s 410us/sample - loss: 0.0318 - acc: 0.9902\n",
            "126/126 [==============================] - 79s 625ms/step - loss: 0.0985 - acc: 0.9698 - val_loss: 0.0318 - val_acc: 0.9902\n",
            "Epoch 13/50\n",
            "4200/4200 [==============================] - 2s 423us/sample - loss: 0.0306 - acc: 0.9905\n",
            "126/126 [==============================] - 78s 622ms/step - loss: 0.0937 - acc: 0.9696 - val_loss: 0.0306 - val_acc: 0.9905\n",
            "Epoch 14/50\n",
            "4200/4200 [==============================] - 2s 403us/sample - loss: 0.0282 - acc: 0.9912\n",
            "126/126 [==============================] - 79s 624ms/step - loss: 0.0881 - acc: 0.9711 - val_loss: 0.0282 - val_acc: 0.9912\n",
            "Epoch 15/50\n",
            "4200/4200 [==============================] - 2s 425us/sample - loss: 0.0271 - acc: 0.9910\n",
            "126/126 [==============================] - 79s 629ms/step - loss: 0.0871 - acc: 0.9724 - val_loss: 0.0271 - val_acc: 0.9910\n",
            "Epoch 16/50\n",
            "4200/4200 [==============================] - 2s 396us/sample - loss: 0.0323 - acc: 0.9900\n",
            "126/126 [==============================] - 79s 623ms/step - loss: 0.0885 - acc: 0.9726 - val_loss: 0.0323 - val_acc: 0.9900\n",
            "Epoch 17/50\n",
            "4200/4200 [==============================] - 2s 406us/sample - loss: 0.0273 - acc: 0.9921\n",
            "126/126 [==============================] - 79s 625ms/step - loss: 0.0838 - acc: 0.9725 - val_loss: 0.0273 - val_acc: 0.9921\n",
            "Epoch 18/50\n",
            "4200/4200 [==============================] - 2s 411us/sample - loss: 0.0253 - acc: 0.9914\n",
            "126/126 [==============================] - 79s 627ms/step - loss: 0.0806 - acc: 0.9747 - val_loss: 0.0253 - val_acc: 0.9914\n",
            "Epoch 19/50\n",
            "4200/4200 [==============================] - 2s 408us/sample - loss: 0.0282 - acc: 0.9912\n",
            "126/126 [==============================] - 79s 630ms/step - loss: 0.0796 - acc: 0.9744 - val_loss: 0.0282 - val_acc: 0.9912\n",
            "Epoch 20/50\n",
            "4200/4200 [==============================] - 2s 413us/sample - loss: 0.0251 - acc: 0.9924\n",
            "126/126 [==============================] - 79s 626ms/step - loss: 0.0757 - acc: 0.9755 - val_loss: 0.0251 - val_acc: 0.9924\n",
            "Epoch 21/50\n",
            "4200/4200 [==============================] - 2s 407us/sample - loss: 0.0277 - acc: 0.9919\n",
            "126/126 [==============================] - 79s 626ms/step - loss: 0.0747 - acc: 0.9769 - val_loss: 0.0277 - val_acc: 0.9919\n",
            "Epoch 22/50\n",
            "4200/4200 [==============================] - 2s 422us/sample - loss: 0.0300 - acc: 0.9914\n",
            "126/126 [==============================] - 79s 624ms/step - loss: 0.0718 - acc: 0.9768 - val_loss: 0.0300 - val_acc: 0.9914\n",
            "Epoch 23/50\n",
            "4200/4200 [==============================] - 2s 405us/sample - loss: 0.0250 - acc: 0.9929\n",
            "126/126 [==============================] - 79s 626ms/step - loss: 0.0740 - acc: 0.9772 - val_loss: 0.0250 - val_acc: 0.9929\n",
            "Epoch 24/50\n",
            "4200/4200 [==============================] - 2s 415us/sample - loss: 0.0252 - acc: 0.9924\n",
            "126/126 [==============================] - 78s 621ms/step - loss: 0.0697 - acc: 0.9776 - val_loss: 0.0252 - val_acc: 0.9924\n",
            "Epoch 25/50\n",
            "4200/4200 [==============================] - 2s 411us/sample - loss: 0.0260 - acc: 0.9914\n",
            "126/126 [==============================] - 78s 621ms/step - loss: 0.0668 - acc: 0.9788 - val_loss: 0.0260 - val_acc: 0.9914\n",
            "Epoch 26/50\n",
            "4200/4200 [==============================] - 2s 402us/sample - loss: 0.0233 - acc: 0.9940\n",
            "126/126 [==============================] - 78s 622ms/step - loss: 0.0645 - acc: 0.9793 - val_loss: 0.0233 - val_acc: 0.9940\n",
            "Epoch 27/50\n",
            "4200/4200 [==============================] - 2s 410us/sample - loss: 0.0228 - acc: 0.9933\n",
            "126/126 [==============================] - 79s 624ms/step - loss: 0.0683 - acc: 0.9782 - val_loss: 0.0228 - val_acc: 0.9933\n",
            "Epoch 28/50\n",
            "4200/4200 [==============================] - 2s 413us/sample - loss: 0.0224 - acc: 0.9929\n",
            "126/126 [==============================] - 78s 621ms/step - loss: 0.0654 - acc: 0.9794 - val_loss: 0.0224 - val_acc: 0.9929\n",
            "Epoch 29/50\n",
            "4200/4200 [==============================] - 2s 403us/sample - loss: 0.0241 - acc: 0.9938\n",
            "\n",
            "Epoch 00029: ReduceLROnPlateau reducing learning rate to 0.0005000000237487257.\n",
            "126/126 [==============================] - 79s 625ms/step - loss: 0.0634 - acc: 0.9794 - val_loss: 0.0241 - val_acc: 0.9938\n",
            "Epoch 30/50\n",
            "4200/4200 [==============================] - 2s 395us/sample - loss: 0.0225 - acc: 0.9943\n",
            "126/126 [==============================] - 78s 623ms/step - loss: 0.0620 - acc: 0.9795 - val_loss: 0.0225 - val_acc: 0.9943\n",
            "Epoch 31/50\n",
            "4200/4200 [==============================] - 2s 374us/sample - loss: 0.0205 - acc: 0.9940\n",
            "126/126 [==============================] - 78s 623ms/step - loss: 0.0611 - acc: 0.9812 - val_loss: 0.0205 - val_acc: 0.9940\n",
            "Epoch 32/50\n",
            "4200/4200 [==============================] - 2s 423us/sample - loss: 0.0219 - acc: 0.9943\n",
            "126/126 [==============================] - 78s 620ms/step - loss: 0.0590 - acc: 0.9811 - val_loss: 0.0219 - val_acc: 0.9943\n",
            "Epoch 33/50\n",
            "4200/4200 [==============================] - 2s 400us/sample - loss: 0.0183 - acc: 0.9945\n",
            "126/126 [==============================] - 78s 620ms/step - loss: 0.0563 - acc: 0.9822 - val_loss: 0.0183 - val_acc: 0.9945\n",
            "Epoch 34/50\n",
            "4200/4200 [==============================] - 2s 391us/sample - loss: 0.0201 - acc: 0.9940\n",
            "126/126 [==============================] - 79s 623ms/step - loss: 0.0553 - acc: 0.9830 - val_loss: 0.0201 - val_acc: 0.9940\n",
            "Epoch 35/50\n",
            "4200/4200 [==============================] - 2s 384us/sample - loss: 0.0206 - acc: 0.9943\n",
            "126/126 [==============================] - 79s 626ms/step - loss: 0.0536 - acc: 0.9841 - val_loss: 0.0206 - val_acc: 0.9943\n",
            "Epoch 36/50\n",
            "4200/4200 [==============================] - 2s 422us/sample - loss: 0.0218 - acc: 0.9933\n",
            "\n",
            "Epoch 00036: ReduceLROnPlateau reducing learning rate to 0.0002500000118743628.\n",
            "126/126 [==============================] - 78s 622ms/step - loss: 0.0559 - acc: 0.9822 - val_loss: 0.0218 - val_acc: 0.9933\n",
            "Epoch 37/50\n",
            "4200/4200 [==============================] - 2s 399us/sample - loss: 0.0208 - acc: 0.9943\n",
            "126/126 [==============================] - 78s 623ms/step - loss: 0.0548 - acc: 0.9823 - val_loss: 0.0208 - val_acc: 0.9943\n",
            "Epoch 38/50\n",
            "4200/4200 [==============================] - 2s 411us/sample - loss: 0.0217 - acc: 0.9938\n",
            "126/126 [==============================] - 79s 625ms/step - loss: 0.0519 - acc: 0.9829 - val_loss: 0.0217 - val_acc: 0.9938\n",
            "Epoch 39/50\n",
            "4200/4200 [==============================] - 2s 407us/sample - loss: 0.0199 - acc: 0.9943\n",
            "\n",
            "Epoch 00039: ReduceLROnPlateau reducing learning rate to 0.0001250000059371814.\n",
            "126/126 [==============================] - 79s 623ms/step - loss: 0.0505 - acc: 0.9843 - val_loss: 0.0199 - val_acc: 0.9943\n",
            "Epoch 40/50\n",
            "4200/4200 [==============================] - 2s 397us/sample - loss: 0.0194 - acc: 0.9950\n",
            "126/126 [==============================] - 80s 637ms/step - loss: 0.0501 - acc: 0.9837 - val_loss: 0.0194 - val_acc: 0.9950\n",
            "Epoch 41/50\n",
            "4200/4200 [==============================] - 2s 412us/sample - loss: 0.0196 - acc: 0.9948\n",
            "126/126 [==============================] - 79s 624ms/step - loss: 0.0509 - acc: 0.9835 - val_loss: 0.0196 - val_acc: 0.9948\n",
            "Epoch 42/50\n",
            "4200/4200 [==============================] - 2s 422us/sample - loss: 0.0198 - acc: 0.9943\n",
            "126/126 [==============================] - 79s 628ms/step - loss: 0.0502 - acc: 0.9841 - val_loss: 0.0198 - val_acc: 0.9943\n",
            "Epoch 43/50\n",
            "4200/4200 [==============================] - 2s 422us/sample - loss: 0.0198 - acc: 0.9943\n",
            "\n",
            "Epoch 00043: ReduceLROnPlateau reducing learning rate to 6.25000029685907e-05.\n",
            "126/126 [==============================] - 79s 630ms/step - loss: 0.0509 - acc: 0.9849 - val_loss: 0.0198 - val_acc: 0.9943\n",
            "Epoch 44/50\n",
            "4200/4200 [==============================] - 2s 399us/sample - loss: 0.0192 - acc: 0.9945\n",
            "126/126 [==============================] - 79s 629ms/step - loss: 0.0490 - acc: 0.9842 - val_loss: 0.0192 - val_acc: 0.9945\n",
            "Epoch 45/50\n",
            "4200/4200 [==============================] - 2s 411us/sample - loss: 0.0194 - acc: 0.9945\n",
            "126/126 [==============================] - 79s 630ms/step - loss: 0.0516 - acc: 0.9839 - val_loss: 0.0194 - val_acc: 0.9945\n",
            "Epoch 46/50\n",
            "4200/4200 [==============================] - 2s 398us/sample - loss: 0.0197 - acc: 0.9943\n",
            "\n",
            "Epoch 00046: ReduceLROnPlateau reducing learning rate to 3.125000148429535e-05.\n",
            "126/126 [==============================] - 80s 632ms/step - loss: 0.0485 - acc: 0.9842 - val_loss: 0.0197 - val_acc: 0.9943\n",
            "Epoch 47/50\n",
            "4200/4200 [==============================] - 2s 403us/sample - loss: 0.0195 - acc: 0.9943\n",
            "126/126 [==============================] - 80s 633ms/step - loss: 0.0507 - acc: 0.9839 - val_loss: 0.0195 - val_acc: 0.9943\n",
            "Epoch 48/50\n",
            "4200/4200 [==============================] - 2s 410us/sample - loss: 0.0193 - acc: 0.9943\n",
            "126/126 [==============================] - 79s 630ms/step - loss: 0.0481 - acc: 0.9851 - val_loss: 0.0193 - val_acc: 0.9943\n",
            "Epoch 49/50\n",
            "4200/4200 [==============================] - 2s 427us/sample - loss: 0.0193 - acc: 0.9943\n",
            "\n",
            "Epoch 00049: ReduceLROnPlateau reducing learning rate to 1.5625000742147677e-05.\n",
            "Restoring model weights from the end of the best epoch.\n",
            "126/126 [==============================] - 80s 635ms/step - loss: 0.0509 - acc: 0.9840 - val_loss: 0.0193 - val_acc: 0.9943\n",
            "Epoch 00049: early stopping\n"
          ],
          "name": "stdout"
        }
      ]
    },
    {
      "cell_type": "markdown",
      "metadata": {
        "id": "xFKaN0_Rh-BZ",
        "colab_type": "text"
      },
      "source": [
        "## 圖形化訓練結果"
      ]
    },
    {
      "cell_type": "code",
      "metadata": {
        "id": "DdLNQ8SslegP",
        "colab_type": "code",
        "colab": {}
      },
      "source": [
        "def show_train_history(train_history, train, validation):\n",
        "    plt.plot(train_history.history[train], label = train)\n",
        "    plt.plot(train_history.history[validation], label = validation)\n",
        "    plt.title(\"Train History\")\n",
        "    plt.ylabel(train)\n",
        "    plt.xlabel('Epoch')\n",
        "    return"
      ],
      "execution_count": 0,
      "outputs": []
    },
    {
      "cell_type": "code",
      "metadata": {
        "id": "v51Jbf1GiFOm",
        "colab_type": "code",
        "outputId": "e675d05c-38d2-422b-c9d7-e3fa60d8c28f",
        "colab": {
          "base_uri": "https://localhost:8080/",
          "height": 312
        }
      },
      "source": [
        "plt.figure(figsize=(11, 4))\n",
        "\n",
        "plt.subplot(1, 2, 1)\n",
        "show_train_history(train_history, 'acc', 'val_acc')\n",
        "plt.legend()\n",
        "\n",
        "plt.subplot(1, 2, 2)\n",
        "show_train_history(train_history, 'loss', 'val_loss')\n",
        "plt.legend()"
      ],
      "execution_count": 57,
      "outputs": [
        {
          "output_type": "execute_result",
          "data": {
            "text/plain": [
              "<matplotlib.legend.Legend at 0x7fcfd9d7fd68>"
            ]
          },
          "metadata": {
            "tags": []
          },
          "execution_count": 57
        },
        {
          "output_type": "display_data",
          "data": {
            "image/png": "[encoded data removed]",
            "text/plain": [
              "<Figure size 792x288 with 2 Axes>"
            ]
          },
          "metadata": {
            "tags": []
          }
        }
      ]
    },
    {
      "cell_type": "markdown",
      "metadata": {
        "id": "mpKsuUZpwmt5",
        "colab_type": "text"
      },
      "source": [
        "## 檢視驗證集"
      ]
    },
    {
      "cell_type": "code",
      "metadata": {
        "id": "s5Fzli6LiAHy",
        "colab_type": "code",
        "colab": {}
      },
      "source": [
        "results = model.predict(x_test_normalized)\n",
        "results = np.argmax(results , axis = 1)\n",
        "cm = confusion_matrix(y_test, results)"
      ],
      "execution_count": 0,
      "outputs": []
    },
    {
      "cell_type": "code",
      "metadata": {
        "id": "lOf3sPWCjGSs",
        "colab_type": "code",
        "colab": {}
      },
      "source": [
        "import itertools\n",
        "def plot_confusion_matrix(cm, classes, normalize=False, title=\"Confusion Matrix\", cmap=plt.cm.Blues):\n",
        "    plt.figure()\n",
        "    plt.imshow(cm, interpolation='nearest', cmap=cmap)\n",
        "    plt.title(title)\n",
        "    plt.colorbar()\n",
        "    tick_marks = np.arange(len(classes))\n",
        "    plt.xticks(tick_marks, classes, rotation=45)\n",
        "    plt.yticks(tick_marks, classes)\n",
        "    if normalize:\n",
        "        cm = cm.astype('float') / cm.sum(axis=1)[:, np.newaxis]\n",
        "    thresh = cm.max() / 2\n",
        "    for i, j in itertools.product(range(cm.shape[0]), range(cm.shape[1])):\n",
        "        plt.text(j, i, cm[i, j], horizontalalignment=\"center\", color=\"white\" if cm[i, j] > thresh else \"black\")\n",
        "    \n",
        "    plt.tight_layout()\n",
        "    plt.ylabel('True label')\n",
        "    plt.xlabel('Predicted label')"
      ],
      "execution_count": 0,
      "outputs": []
    },
    {
      "cell_type": "code",
      "metadata": {
        "id": "elDk-yvXisLw",
        "colab_type": "code",
        "colab": {
          "base_uri": "https://localhost:8080/",
          "height": 311
        },
        "outputId": "d4819044-4c4c-4c81-ff91-5a244f632ad8"
      },
      "source": [
        "plot_confusion_matrix(cm, range(0, 9))"
      ],
      "execution_count": 60,
      "outputs": [
        {
          "output_type": "display_data",
          "data": {
            "image/png": "[encoded data removed]",
            "text/plain": [
              "<Figure size 432x288 with 2 Axes>"
            ]
          },
          "metadata": {
            "tags": []
          }
        }
      ]
    },
    {
      "cell_type": "code",
      "metadata": {
        "id": "C42b-E-hui0w",
        "colab_type": "code",
        "colab": {
          "base_uri": "https://localhost:8080/",
          "height": 281
        },
        "outputId": "33bccba5-d7f4-403e-a98e-82987e41468a"
      },
      "source": [
        "incorrect = np.where(y_test != results)[0]\n",
        "for i in range(0, 9):\n",
        "    plt.subplot(3, 3, i+1)\n",
        "    idx = incorrect[i]\n",
        "    img = x_test[idx].reshape(28,28)\n",
        "    plt.imshow(img, cmap=\"gray\")\n",
        "    plt.title(\"{}/{}\".format(y_test[idx], results[idx]))"
      ],
      "execution_count": 61,
      "outputs": [
        {
          "output_type": "display_data",
          "data": {
            "image/png": "[encoded data removed]",
            "text/plain": [
              "<Figure size 432x288 with 9 Axes>"
            ]
          },
          "metadata": {
            "tags": []
          }
        }
      ]
    },
    {
      "cell_type": "code",
      "metadata": {
        "id": "2LzViEM0utX9",
        "colab_type": "code",
        "colab": {
          "base_uri": "https://localhost:8080/",
          "height": 281
        },
        "outputId": "a46f1573-5290-45f1-e1c4-b6a0bec0c208"
      },
      "source": [
        "correct = np.where(y_test == results)[0]\n",
        "for i in range(0, 9):\n",
        "    plt.subplot(3, 3, i+1)\n",
        "    idx = correct[i]\n",
        "    img = x_test[idx].reshape(28,28)\n",
        "    plt.imshow(img, cmap=\"gray\")\n",
        "    plt.title(\"{}\".format(y_test[idx]))"
      ],
      "execution_count": 62,
      "outputs": [
        {
          "output_type": "display_data",
          "data": {
            "image/png": "[encoded data removed]",
            "text/plain": [
              "<Figure size 432x288 with 9 Axes>"
            ]
          },
          "metadata": {
            "tags": []
          }
        }
      ]
    },
    {
      "cell_type": "markdown",
      "metadata": {
        "id": "fvmGrOCQi1Rx",
        "colab_type": "text"
      },
      "source": [
        "## 預測與準備上傳檔案"
      ]
    },
    {
      "cell_type": "code",
      "metadata": {
        "id": "kNeMBj3Z2N9B",
        "colab_type": "code",
        "colab": {}
      },
      "source": [
        "test = test.values\n",
        "test = test.reshape(-1 , 28 , 28 ,1)/255\n",
        "pre = model.predict(test, batch_size=batch_size)"
      ],
      "execution_count": 0,
      "outputs": []
    },
    {
      "cell_type": "code",
      "metadata": {
        "id": "N3lWaoM12RsX",
        "colab_type": "code",
        "colab": {}
      },
      "source": [
        "pre = np.argmax(pre , axis = 1)"
      ],
      "execution_count": 0,
      "outputs": []
    },
    {
      "cell_type": "code",
      "metadata": {
        "id": "ToOSFE7N2XPo",
        "colab_type": "code",
        "outputId": "c54e3102-9294-46c7-e5f3-20e29ff5e3e2",
        "colab": {
          "base_uri": "https://localhost:8080/",
          "height": 34
        }
      },
      "source": [
        "pre"
      ],
      "execution_count": 65,
      "outputs": [
        {
          "output_type": "execute_result",
          "data": {
            "text/plain": [
              "array([2, 0, 9, ..., 3, 9, 2])"
            ]
          },
          "metadata": {
            "tags": []
          },
          "execution_count": 65
        }
      ]
    },
    {
      "cell_type": "code",
      "metadata": {
        "id": "OiAjjYFR2X-l",
        "colab_type": "code",
        "outputId": "b6fb12b7-fd05-4380-a9ba-c8b7f7d43627",
        "colab": {
          "base_uri": "https://localhost:8080/",
          "height": 204
        }
      },
      "source": [
        "submit.head()"
      ],
      "execution_count": 0,
      "outputs": [
        {
          "output_type": "execute_result",
          "data": {
            "text/html": [
              "<div>\n",
              "<style scoped>\n",
              "    .dataframe tbody tr th:only-of-type {\n",
              "        vertical-align: middle;\n",
              "    }\n",
              "\n",
              "    .dataframe tbody tr th {\n",
              "        vertical-align: top;\n",
              "    }\n",
              "\n",
              "    .dataframe thead th {\n",
              "        text-align: right;\n",
              "    }\n",
              "</style>\n",
              "<table border=\"1\" class=\"dataframe\">\n",
              "  <thead>\n",
              "    <tr style=\"text-align: right;\">\n",
              "      <th></th>\n",
              "      <th>ImageId</th>\n",
              "      <th>Label</th>\n",
              "    </tr>\n",
              "  </thead>\n",
              "  <tbody>\n",
              "    <tr>\n",
              "      <th>0</th>\n",
              "      <td>1</td>\n",
              "      <td>0</td>\n",
              "    </tr>\n",
              "    <tr>\n",
              "      <th>1</th>\n",
              "      <td>2</td>\n",
              "      <td>0</td>\n",
              "    </tr>\n",
              "    <tr>\n",
              "      <th>2</th>\n",
              "      <td>3</td>\n",
              "      <td>0</td>\n",
              "    </tr>\n",
              "    <tr>\n",
              "      <th>3</th>\n",
              "      <td>4</td>\n",
              "      <td>0</td>\n",
              "    </tr>\n",
              "    <tr>\n",
              "      <th>4</th>\n",
              "      <td>5</td>\n",
              "      <td>0</td>\n",
              "    </tr>\n",
              "  </tbody>\n",
              "</table>\n",
              "</div>"
            ],
            "text/plain": [
              "   ImageId  Label\n",
              "0        1      0\n",
              "1        2      0\n",
              "2        3      0\n",
              "3        4      0\n",
              "4        5      0"
            ]
          },
          "metadata": {
            "tags": []
          },
          "execution_count": 29
        }
      ]
    },
    {
      "cell_type": "code",
      "metadata": {
        "id": "bMbYAzEL2bUC",
        "colab_type": "code",
        "colab": {}
      },
      "source": [
        "submit['Label'] = pre"
      ],
      "execution_count": 0,
      "outputs": []
    },
    {
      "cell_type": "code",
      "metadata": {
        "id": "QT6E9TNL2dm4",
        "colab_type": "code",
        "colab": {}
      },
      "source": [
        "submit.to_csv('submit.csv' , index= False)"
      ],
      "execution_count": 0,
      "outputs": []
    },
    {
      "cell_type": "markdown",
      "metadata": {
        "id": "6rks0m8cxX7D",
        "colab_type": "text"
      },
      "source": [
        "## 心得\n",
        "\n",
        "增加準確率的方法大概有\n",
        "1. 調整model層數\n",
        "2. 增加epoch的次數，但要注意overfitting的問題\n",
        "3. 利用ImageDataGenerator產生額外資料來做訓練\n",
        "\n",
        "另外也可以調整learning_rate的方法，優化結果與調適時間\n",
        " \n",
        "ref. https://www.coursera.org/lecture/machine-learning/gradient-descent-in-practice-ii-learning-rate-3iawu"
      ]
    }
  ]
}