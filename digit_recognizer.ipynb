{
  "nbformat": 4,
  "nbformat_minor": 0,
  "metadata": {
    "colab": {
      "name": "digit recognizer.ipynb",
      "version": "0.3.2",
      "provenance": [],
      "collapsed_sections": [
        "txoPlE-dePKi",
        "YjdiUzPWeSDI",
        "vCo5JatkeXD9",
        "3WSUp9lVgW3M"
      ],
      "toc_visible": true,
      "include_colab_link": true
    },
    "kernelspec": {
      "name": "python3",
      "display_name": "Python 3"
    },
    "accelerator": "TPU"
  },
  "cells": [
    {
      "cell_type": "markdown",
      "metadata": {
        "id": "view-in-github",
        "colab_type": "text"
      },
      "source": [
        "<a href=\"https://colab.research.google.com/github/iceboxi/Colaboratory/blob/master/digit_recognizer.ipynb\" target=\"_parent\"><img src=\"https://colab.research.google.com/assets/colab-badge.svg\" alt=\"Open In Colab\"/></a>"
      ]
    },
    {
      "cell_type": "markdown",
      "metadata": {
        "id": "scXd1AiVeFz8",
        "colab_type": "text"
      },
      "source": [
        "# 手寫數字分類\n",
        "source: \n",
        "* https://www.kaggle.com/c/digit-recognizer/overview"
      ]
    },
    {
      "cell_type": "markdown",
      "metadata": {
        "id": "txoPlE-dePKi",
        "colab_type": "text"
      },
      "source": [
        "## 下載資料"
      ]
    },
    {
      "cell_type": "code",
      "metadata": {
        "id": "8cO5o_mrznO7",
        "colab_type": "code",
        "outputId": "e1d648fe-2d99-4a26-abbd-d6f8813cce63",
        "colab": {
          "base_uri": "https://localhost:8080/",
          "height": 170
        }
      },
      "source": [
        "#Set the enviroment variables\n"
      ],
      "execution_count": 0,
      "outputs": [
        {
          "output_type": "stream",
          "text": [
            "Downloading train.csv to /content\n",
            " 76% 56.0M/73.2M [00:00<00:00, 146MB/s]\n",
            "100% 73.2M/73.2M [00:00<00:00, 162MB/s]\n",
            "Downloading test.csv to /content\n",
            " 82% 40.0M/48.8M [00:00<00:00, 98.2MB/s]\n",
            "100% 48.8M/48.8M [00:00<00:00, 123MB/s] \n",
            "Downloading sample_submission.csv to /content\n",
            "  0% 0.00/235k [00:00<?, ?B/s]\n",
            "100% 235k/235k [00:00<00:00, 70.1MB/s]\n"
          ],
          "name": "stdout"
        }
      ]
    },
    {
      "cell_type": "markdown",
      "metadata": {
        "id": "YjdiUzPWeSDI",
        "colab_type": "text"
      },
      "source": [
        "## import"
      ]
    },
    {
      "cell_type": "code",
      "metadata": {
        "id": "K8YGFkCAzvgr",
        "colab_type": "code",
        "outputId": "694338ee-c868-4215-e5e1-15d076f9455d",
        "colab": {
          "base_uri": "https://localhost:8080/",
          "height": 17
        }
      },
      "source": [
        "# Imports for Deep Learning\n",
        "from tensorflow.keras.applications import VGG16\n",
        "from tensorflow.keras.applications.vgg16 import preprocess_input, decode_predictions\n",
        "from tensorflow.keras import models, layers\n",
        "from tensorflow.keras import optimizers\n",
        "from tensorflow.keras.optimizers import RMSprop,Adam\n",
        "from tensorflow.keras.preprocessing.image import ImageDataGenerator\n",
        "from tensorflow.keras.preprocessing import image\n",
        "from tensorflow.keras.utils import to_categorical\n",
        "\n",
        "from tensorflow.keras.models import Sequential, load_model\n",
        "from tensorflow.keras.layers import Dense, Dropout, Activation, Flatten, BatchNormalization\n",
        "from tensorflow.keras.layers import Conv2D, MaxPooling2D\n",
        "from tensorflow.keras.callbacks import EarlyStopping, ModelCheckpoint, ReduceLROnPlateau, LearningRateScheduler\n",
        "\n",
        "# ensure consistency across runs\n",
        "from numpy.random import seed\n",
        "seed(1)\n",
        "from tensorflow import set_random_seed\n",
        "set_random_seed(2)\n",
        "\n",
        "# Imports to view data\n",
        "import cv2\n",
        "from glob import glob\n",
        "\n",
        "import plotly.offline as py\n",
        "py.init_notebook_mode(connected=True)\n",
        "import plotly.graph_objs as go\n",
        "import plotly.tools as tls\n",
        "\n",
        "import seaborn as sns\n",
        "from matplotlib import pyplot as plt\n",
        "import matplotlib.image as mpimg\n",
        "% matplotlib inline\n",
        "\n",
        "import os, shutil\n",
        "from os import listdir\n",
        "from numpy import floor\n",
        "import random\n",
        "import numpy as np\n",
        "import pandas as pd\n",
        "\n",
        "# Import the 3 dimensionality reduction methods\n",
        "from sklearn.manifold import TSNE\n",
        "from sklearn.decomposition import PCA\n",
        "from sklearn.discriminant_analysis import LinearDiscriminantAnalysis as LDA\n",
        "\n",
        "from sklearn.model_selection import train_test_split"
      ],
      "execution_count": 0,
      "outputs": [
        {
          "output_type": "display_data",
          "data": {
            "text/vnd.plotly.v1+html": "<script type=\"text/javascript\">window.PlotlyConfig = {MathJaxConfig: 'local'};</script><script type=\"text/javascript\">if (window.MathJax) {MathJax.Hub.Config({SVG: {font: \"STIX-Web\"}});}</script><script>requirejs.config({paths: { 'plotly': ['https://cdn.plot.ly/plotly-latest.min']},});if(!window._Plotly) {require(['plotly'],function(plotly) {window._Plotly=plotly;});}</script>",
            "text/html": [
              "<script type=\"text/javascript\">window.PlotlyConfig = {MathJaxConfig: 'local'};</script><script type=\"text/javascript\">if (window.MathJax) {MathJax.Hub.Config({SVG: {font: \"STIX-Web\"}});}</script><script>requirejs.config({paths: { 'plotly': ['https://cdn.plot.ly/plotly-latest.min']},});if(!window._Plotly) {require(['plotly'],function(plotly) {window._Plotly=plotly;});}</script>"
            ]
          },
          "metadata": {
            "tags": []
          }
        }
      ]
    },
    {
      "cell_type": "markdown",
      "metadata": {
        "id": "vCo5JatkeXD9",
        "colab_type": "text"
      },
      "source": [
        "## 讀取資料"
      ]
    },
    {
      "cell_type": "code",
      "metadata": {
        "id": "tSNTxq4Yzx45",
        "colab_type": "code",
        "colab": {}
      },
      "source": [
        "train = pd.read_csv('./train.csv')\n",
        "test = pd.read_csv('./test.csv')\n",
        "submit = pd.read_csv('./sample_submission.csv')"
      ],
      "execution_count": 0,
      "outputs": []
    },
    {
      "cell_type": "code",
      "metadata": {
        "id": "oJh5OpBtgdDO",
        "colab_type": "code",
        "outputId": "72373d97-f13c-40f1-e323-4c83894321c4",
        "colab": {
          "base_uri": "https://localhost:8080/",
          "height": 253
        }
      },
      "source": [
        "train.head()"
      ],
      "execution_count": 0,
      "outputs": [
        {
          "output_type": "execute_result",
          "data": {
            "text/html": [
              "<div>\n",
              "<style scoped>\n",
              "    .dataframe tbody tr th:only-of-type {\n",
              "        vertical-align: middle;\n",
              "    }\n",
              "\n",
              "    .dataframe tbody tr th {\n",
              "        vertical-align: top;\n",
              "    }\n",
              "\n",
              "    .dataframe thead th {\n",
              "        text-align: right;\n",
              "    }\n",
              "</style>\n",
              "<table border=\"1\" class=\"dataframe\">\n",
              "  <thead>\n",
              "    <tr style=\"text-align: right;\">\n",
              "      <th></th>\n",
              "      <th>label</th>\n",
              "      <th>pixel0</th>\n",
              "      <th>pixel1</th>\n",
              "      <th>pixel2</th>\n",
              "      <th>pixel3</th>\n",
              "      <th>pixel4</th>\n",
              "      <th>pixel5</th>\n",
              "      <th>pixel6</th>\n",
              "      <th>pixel7</th>\n",
              "      <th>pixel8</th>\n",
              "      <th>...</th>\n",
              "      <th>pixel774</th>\n",
              "      <th>pixel775</th>\n",
              "      <th>pixel776</th>\n",
              "      <th>pixel777</th>\n",
              "      <th>pixel778</th>\n",
              "      <th>pixel779</th>\n",
              "      <th>pixel780</th>\n",
              "      <th>pixel781</th>\n",
              "      <th>pixel782</th>\n",
              "      <th>pixel783</th>\n",
              "    </tr>\n",
              "  </thead>\n",
              "  <tbody>\n",
              "    <tr>\n",
              "      <th>0</th>\n",
              "      <td>1</td>\n",
              "      <td>0</td>\n",
              "      <td>0</td>\n",
              "      <td>0</td>\n",
              "      <td>0</td>\n",
              "      <td>0</td>\n",
              "      <td>0</td>\n",
              "      <td>0</td>\n",
              "      <td>0</td>\n",
              "      <td>0</td>\n",
              "      <td>...</td>\n",
              "      <td>0</td>\n",
              "      <td>0</td>\n",
              "      <td>0</td>\n",
              "      <td>0</td>\n",
              "      <td>0</td>\n",
              "      <td>0</td>\n",
              "      <td>0</td>\n",
              "      <td>0</td>\n",
              "      <td>0</td>\n",
              "      <td>0</td>\n",
              "    </tr>\n",
              "    <tr>\n",
              "      <th>1</th>\n",
              "      <td>0</td>\n",
              "      <td>0</td>\n",
              "      <td>0</td>\n",
              "      <td>0</td>\n",
              "      <td>0</td>\n",
              "      <td>0</td>\n",
              "      <td>0</td>\n",
              "      <td>0</td>\n",
              "      <td>0</td>\n",
              "      <td>0</td>\n",
              "      <td>...</td>\n",
              "      <td>0</td>\n",
              "      <td>0</td>\n",
              "      <td>0</td>\n",
              "      <td>0</td>\n",
              "      <td>0</td>\n",
              "      <td>0</td>\n",
              "      <td>0</td>\n",
              "      <td>0</td>\n",
              "      <td>0</td>\n",
              "      <td>0</td>\n",
              "    </tr>\n",
              "    <tr>\n",
              "      <th>2</th>\n",
              "      <td>1</td>\n",
              "      <td>0</td>\n",
              "      <td>0</td>\n",
              "      <td>0</td>\n",
              "      <td>0</td>\n",
              "      <td>0</td>\n",
              "      <td>0</td>\n",
              "      <td>0</td>\n",
              "      <td>0</td>\n",
              "      <td>0</td>\n",
              "      <td>...</td>\n",
              "      <td>0</td>\n",
              "      <td>0</td>\n",
              "      <td>0</td>\n",
              "      <td>0</td>\n",
              "      <td>0</td>\n",
              "      <td>0</td>\n",
              "      <td>0</td>\n",
              "      <td>0</td>\n",
              "      <td>0</td>\n",
              "      <td>0</td>\n",
              "    </tr>\n",
              "    <tr>\n",
              "      <th>3</th>\n",
              "      <td>4</td>\n",
              "      <td>0</td>\n",
              "      <td>0</td>\n",
              "      <td>0</td>\n",
              "      <td>0</td>\n",
              "      <td>0</td>\n",
              "      <td>0</td>\n",
              "      <td>0</td>\n",
              "      <td>0</td>\n",
              "      <td>0</td>\n",
              "      <td>...</td>\n",
              "      <td>0</td>\n",
              "      <td>0</td>\n",
              "      <td>0</td>\n",
              "      <td>0</td>\n",
              "      <td>0</td>\n",
              "      <td>0</td>\n",
              "      <td>0</td>\n",
              "      <td>0</td>\n",
              "      <td>0</td>\n",
              "      <td>0</td>\n",
              "    </tr>\n",
              "    <tr>\n",
              "      <th>4</th>\n",
              "      <td>0</td>\n",
              "      <td>0</td>\n",
              "      <td>0</td>\n",
              "      <td>0</td>\n",
              "      <td>0</td>\n",
              "      <td>0</td>\n",
              "      <td>0</td>\n",
              "      <td>0</td>\n",
              "      <td>0</td>\n",
              "      <td>0</td>\n",
              "      <td>...</td>\n",
              "      <td>0</td>\n",
              "      <td>0</td>\n",
              "      <td>0</td>\n",
              "      <td>0</td>\n",
              "      <td>0</td>\n",
              "      <td>0</td>\n",
              "      <td>0</td>\n",
              "      <td>0</td>\n",
              "      <td>0</td>\n",
              "      <td>0</td>\n",
              "    </tr>\n",
              "  </tbody>\n",
              "</table>\n",
              "<p>5 rows × 785 columns</p>\n",
              "</div>"
            ],
            "text/plain": [
              "   label  pixel0  pixel1  pixel2  pixel3  pixel4  pixel5  pixel6  pixel7  \\\n",
              "0      1       0       0       0       0       0       0       0       0   \n",
              "1      0       0       0       0       0       0       0       0       0   \n",
              "2      1       0       0       0       0       0       0       0       0   \n",
              "3      4       0       0       0       0       0       0       0       0   \n",
              "4      0       0       0       0       0       0       0       0       0   \n",
              "\n",
              "   pixel8  ...  pixel774  pixel775  pixel776  pixel777  pixel778  pixel779  \\\n",
              "0       0  ...         0         0         0         0         0         0   \n",
              "1       0  ...         0         0         0         0         0         0   \n",
              "2       0  ...         0         0         0         0         0         0   \n",
              "3       0  ...         0         0         0         0         0         0   \n",
              "4       0  ...         0         0         0         0         0         0   \n",
              "\n",
              "   pixel780  pixel781  pixel782  pixel783  \n",
              "0         0         0         0         0  \n",
              "1         0         0         0         0  \n",
              "2         0         0         0         0  \n",
              "3         0         0         0         0  \n",
              "4         0         0         0         0  \n",
              "\n",
              "[5 rows x 785 columns]"
            ]
          },
          "metadata": {
            "tags": []
          },
          "execution_count": 35
        }
      ]
    },
    {
      "cell_type": "markdown",
      "metadata": {
        "id": "3WSUp9lVgW3M",
        "colab_type": "text"
      },
      "source": [
        "## 查看data"
      ]
    },
    {
      "cell_type": "code",
      "metadata": {
        "id": "Tv4kYfFXgT5Y",
        "colab_type": "code",
        "outputId": "edd29614-c4d6-4a06-ed15-2ae167ca0360",
        "colab": {
          "base_uri": "https://localhost:8080/",
          "height": 181
        }
      },
      "source": [
        "def plot_three_samples():\n",
        "    plt.figure(figsize=(4,4))\n",
        "    imgs = [random.randint(0, np.size(train, 0)) for _ in range(0, 3)]\n",
        "    \n",
        "    for digit_num in range(0,3):\n",
        "        plt.subplot(1,3,digit_num+1)\n",
        "        grid_data = train.iloc[imgs[digit_num],1:].as_matrix().reshape(28,28)  # reshape from 1d to 2d pixel array\n",
        "        plt.imshow(grid_data, interpolation = \"none\", cmap = \"afmhot\")\n",
        "        plt.xticks([])\n",
        "        plt.yticks([])\n",
        "        \n",
        "    plt.tight_layout()\n",
        "    return\n",
        "\n",
        "plot_three_samples()"
      ],
      "execution_count": 0,
      "outputs": [
        {
          "output_type": "stream",
          "text": [
            "/usr/local/lib/python3.6/dist-packages/ipykernel_launcher.py:7: FutureWarning:\n",
            "\n",
            "Method .as_matrix will be removed in a future version. Use .values instead.\n",
            "\n"
          ],
          "name": "stderr"
        },
        {
          "output_type": "display_data",
          "data": {
            "image/png": "[encoded data removed]",
            "text/plain": [
              "<Figure size 288x288 with 3 Axes>"
            ]
          },
          "metadata": {
            "tags": []
          }
        }
      ]
    },
    {
      "cell_type": "markdown",
      "metadata": {
        "id": "7GMeD2oIeZYF",
        "colab_type": "text"
      },
      "source": [
        "## 設定常數"
      ]
    },
    {
      "cell_type": "code",
      "metadata": {
        "id": "BSq7nB9cbDj0",
        "colab_type": "code",
        "colab": {}
      },
      "source": [
        "target_dims = (28, 28, 1)\n",
        "n_classes = 10\n",
        "batch_size = 64\n",
        "val_frac = 0.1\n",
        "seed = 42\n",
        "epochs = 3"
      ],
      "execution_count": 0,
      "outputs": []
    },
    {
      "cell_type": "markdown",
      "metadata": {
        "id": "pAnZ_prYeepa",
        "colab_type": "text"
      },
      "source": [
        "## 分割訓練與測試集"
      ]
    },
    {
      "cell_type": "code",
      "metadata": {
        "id": "hCXQuX96ZwDt",
        "colab_type": "code",
        "colab": {}
      },
      "source": [
        "train_data = train.iloc[:,1:]\n",
        "target = train.iloc[:,0]"
      ],
      "execution_count": 0,
      "outputs": []
    },
    {
      "cell_type": "code",
      "metadata": {
        "id": "P0gY6u-4a8xZ",
        "colab_type": "code",
        "colab": {}
      },
      "source": [
        "target = to_categorical(target, num_classes=n_classes) # one-hot，不一定需要\n",
        "\n",
        "### 使用後差異會在兩個地方，一個是分割測試來源時，target不取valurs，\n",
        "### model的 loss 改用 categorical_crossentropy 而不是 sparse_categorical_crossentropy"
      ],
      "execution_count": 0,
      "outputs": []
    },
    {
      "cell_type": "code",
      "metadata": {
        "id": "F4rN0yNs0GMd",
        "colab_type": "code",
        "colab": {}
      },
      "source": [
        "X_train , X_test , y_train , y_test = train_test_split(train_data.values , target , test_size = 0.1, random_state = seed) "
      ],
      "execution_count": 0,
      "outputs": []
    },
    {
      "cell_type": "code",
      "metadata": {
        "id": "uzuwoS1x0bbG",
        "colab_type": "code",
        "colab": {}
      },
      "source": [
        "X_train = X_train.reshape(-1 , 28 , 28 , 1)/255\n",
        "X_test = X_test.reshape(-1 , 28 , 28 , 1)/255"
      ],
      "execution_count": 0,
      "outputs": []
    },
    {
      "cell_type": "code",
      "metadata": {
        "id": "K5RkrUezFamA",
        "colab_type": "code",
        "outputId": "da02b4dd-fe3f-4e5f-8b90-ea8f6f68e762",
        "colab": {
          "base_uri": "https://localhost:8080/",
          "height": 34
        }
      },
      "source": [
        "print(X_train.shape, y_train.shape, test.shape)"
      ],
      "execution_count": 0,
      "outputs": [
        {
          "output_type": "stream",
          "text": [
            "(35700, 28, 28, 1) (35700, 10) (28000, 784)\n"
          ],
          "name": "stdout"
        }
      ]
    },
    {
      "cell_type": "markdown",
      "metadata": {
        "id": "TIMsUf_QfULU",
        "colab_type": "text"
      },
      "source": [
        "### 定義model"
      ]
    },
    {
      "cell_type": "code",
      "metadata": {
        "id": "1QIwi6KVVqOD",
        "colab_type": "code",
        "colab": {}
      },
      "source": [
        "def cnn_model1():\n",
        "    model = Sequential()\n",
        "    model.add(Conv2D(filters = 16, kernel_size = (3,3), padding = 'Same', activation ='relu', input_shape = target_dims))\n",
        "    model.add(BatchNormalization())\n",
        "    model.add(MaxPooling2D(pool_size=(2,2)))\n",
        "    model.add(Dropout(0.25))\n",
        "    \n",
        "    model.add(Conv2D(filters = 32, kernel_size = (3,3), padding = 'Same', activation ='relu'))\n",
        "    model.add(BatchNormalization())\n",
        "    model.add(MaxPooling2D(pool_size=(2,2)))\n",
        "    model.add(Dropout(0.25))\n",
        "    \n",
        "    model.add(Conv2D(filters = 64, kernel_size = (2,2), padding = 'Same', activation ='relu'))\n",
        "    model.add(BatchNormalization())\n",
        "    model.add(MaxPooling2D(pool_size=(2,2)))\n",
        "    model.add(Dropout(0.25))\n",
        "    \n",
        "    model.add(Flatten())\n",
        "    model.add(Dense(512, activation = \"relu\"))\n",
        "    model.add(BatchNormalization())\n",
        "    model.add(Dropout(0.5))\n",
        "    model.add(Dense(n_classes, activation = \"softmax\"))\n",
        "    return model"
      ],
      "execution_count": 0,
      "outputs": []
    },
    {
      "cell_type": "code",
      "metadata": {
        "id": "j2eD-EX0gvVg",
        "colab_type": "code",
        "colab": {}
      },
      "source": [
        "def cnn_model2():\n",
        "    model = Sequential()\n",
        "    model.add(Conv2D(filters = 16 , kernel_size= (3,3) , activation= 'relu' , input_shape = (28 , 28 ,1)))\n",
        "    model.add(BatchNormalization())\n",
        "    model.add(Conv2D(filters= 16 , kernel_size= (3,3) , activation= 'relu' ))\n",
        "    model.add(BatchNormalization())\n",
        "    model.add(MaxPooling2D(strides=(2,2)))\n",
        "    model.add(Dropout(0.25))\n",
        "    model.add(Conv2D(filters= 16 , kernel_size= (3,3) , activation= 'relu' ))\n",
        "    model.add(BatchNormalization())\n",
        "    model.add(MaxPooling2D(strides=(2,2)))\n",
        "    model.add(Dropout(0.25))\n",
        "\n",
        "    model.add(Flatten())\n",
        "    model.add(Dense(512, activation='relu'))\n",
        "    model.add(Dropout(0.25))\n",
        "    model.add(Dense(1024, activation='relu'))\n",
        "    model.add(Dropout(0.5))\n",
        "    model.add(Dense(10, activation='softmax'))\n",
        "    return model"
      ],
      "execution_count": 0,
      "outputs": []
    },
    {
      "cell_type": "code",
      "metadata": {
        "id": "q4CUy7OWVwRe",
        "colab_type": "code",
        "outputId": "7dfb0436-aac4-4ec1-c91d-bf3dd53728bd",
        "colab": {
          "base_uri": "https://localhost:8080/",
          "height": 139
        }
      },
      "source": [
        "model = cnn_model1()"
      ],
      "execution_count": 0,
      "outputs": [
        {
          "output_type": "stream",
          "text": [
            "WARNING:tensorflow:From /usr/local/lib/python3.6/dist-packages/tensorflow/python/ops/resource_variable_ops.py:435: colocate_with (from tensorflow.python.framework.ops) is deprecated and will be removed in a future version.\n",
            "Instructions for updating:\n",
            "Colocations handled automatically by placer.\n",
            "WARNING:tensorflow:From /usr/local/lib/python3.6/dist-packages/tensorflow/python/keras/layers/core.py:143: calling dropout (from tensorflow.python.ops.nn_ops) with keep_prob is deprecated and will be removed in a future version.\n",
            "Instructions for updating:\n",
            "Please use `rate` instead of `keep_prob`. Rate should be set to `rate = 1 - keep_prob`.\n"
          ],
          "name": "stdout"
        }
      ]
    },
    {
      "cell_type": "code",
      "metadata": {
        "id": "0btLsbC4hRTi",
        "colab_type": "code",
        "outputId": "3c9bde42-7557-451a-d486-29cabc37e0dd",
        "colab": {
          "base_uri": "https://localhost:8080/",
          "height": 714
        }
      },
      "source": [
        "# model.compile(loss='sparse_categorical_crossentropy', optimizer = Adam(lr=1e-4), metrics=[\"accuracy\"])\n",
        "\n",
        "optimizer = optimizers.RMSprop(lr=0.001, rho=0.9, epsilon=1e-08, decay=0.0)\n",
        "# optimizer=Adam(lr = 0.001, beta_1 = 0.9, beta_2 = 0.999)\n",
        "# model.compile(optimizer = optimizer , loss = \"sparse_categorical_crossentropy\", metrics=[\"accuracy\"])\n",
        "model.compile(optimizer = optimizer , loss = \"categorical_crossentropy\", metrics=[\"accuracy\"])\n",
        "model.summary()"
      ],
      "execution_count": 0,
      "outputs": [
        {
          "output_type": "stream",
          "text": [
            "_________________________________________________________________\n",
            "Layer (type)                 Output Shape              Param #   \n",
            "=================================================================\n",
            "conv2d (Conv2D)              (None, 28, 28, 16)        160       \n",
            "_________________________________________________________________\n",
            "batch_normalization_v1 (Batc (None, 28, 28, 16)        64        \n",
            "_________________________________________________________________\n",
            "max_pooling2d (MaxPooling2D) (None, 14, 14, 16)        0         \n",
            "_________________________________________________________________\n",
            "dropout (Dropout)            (None, 14, 14, 16)        0         \n",
            "_________________________________________________________________\n",
            "conv2d_1 (Conv2D)            (None, 14, 14, 32)        4640      \n",
            "_________________________________________________________________\n",
            "batch_normalization_v1_1 (Ba (None, 14, 14, 32)        128       \n",
            "_________________________________________________________________\n",
            "max_pooling2d_1 (MaxPooling2 (None, 7, 7, 32)          0         \n",
            "_________________________________________________________________\n",
            "dropout_1 (Dropout)          (None, 7, 7, 32)          0         \n",
            "_________________________________________________________________\n",
            "conv2d_2 (Conv2D)            (None, 7, 7, 64)          8256      \n",
            "_________________________________________________________________\n",
            "batch_normalization_v1_2 (Ba (None, 7, 7, 64)          256       \n",
            "_________________________________________________________________\n",
            "max_pooling2d_2 (MaxPooling2 (None, 3, 3, 64)          0         \n",
            "_________________________________________________________________\n",
            "dropout_2 (Dropout)          (None, 3, 3, 64)          0         \n",
            "_________________________________________________________________\n",
            "flatten (Flatten)            (None, 576)               0         \n",
            "_________________________________________________________________\n",
            "dense (Dense)                (None, 512)               295424    \n",
            "_________________________________________________________________\n",
            "batch_normalization_v1_3 (Ba (None, 512)               2048      \n",
            "_________________________________________________________________\n",
            "dropout_3 (Dropout)          (None, 512)               0         \n",
            "_________________________________________________________________\n",
            "dense_1 (Dense)              (None, 10)                5130      \n",
            "=================================================================\n",
            "Total params: 316,106\n",
            "Trainable params: 314,858\n",
            "Non-trainable params: 1,248\n",
            "_________________________________________________________________\n"
          ],
          "name": "stdout"
        }
      ]
    },
    {
      "cell_type": "markdown",
      "metadata": {
        "id": "LosrFEm1hGiK",
        "colab_type": "text"
      },
      "source": [
        "## 設定data generator"
      ]
    },
    {
      "cell_type": "code",
      "metadata": {
        "id": "ErPKTjTh0mNi",
        "colab_type": "code",
        "colab": {}
      },
      "source": [
        "# datagen = ImageDataGenerator(zoom_range = 0.1,\n",
        "#                             height_shift_range = 0.1,\n",
        "#                             width_shift_range = 0.1,\n",
        "#                             rotation_range = 10)\n",
        "\n",
        "datagen = ImageDataGenerator(\n",
        "                              featurewise_center = False,  # set input mean to 0 over the dataset\n",
        "                              samplewise_center = False,  # set each sample mean to 0\n",
        "                              featurewise_std_normalization = False,  # divide inputs by std of the dataset\n",
        "                              samplewise_std_normalization = False,  # divide each input by its std\n",
        "                              zca_whitening = False,  # apply ZCA whitening\n",
        "                              rotation_range = 10,  # randomly rotate images in the range (degrees, 0 to 180)\n",
        "                              zoom_range = 0.1, # Randomly zoom image \n",
        "                              width_shift_range = 0.1,  # randomly shift images horizontally (fraction of total width)\n",
        "                              height_shift_range = 0.1,  # randomly shift images vertically (fraction of total height)\n",
        "                              horizontal_flip = False,  # randomly flip images\n",
        "                              vertical_flip = False, # randomly flip images\n",
        "                              validation_split = val_frac\n",
        "                            )"
      ],
      "execution_count": 0,
      "outputs": []
    },
    {
      "cell_type": "markdown",
      "metadata": {
        "id": "RF-xzmCqhhAy",
        "colab_type": "text"
      },
      "source": [
        "## 設定 callback"
      ]
    },
    {
      "cell_type": "code",
      "metadata": {
        "id": "No0ZvBhm03fm",
        "colab_type": "code",
        "colab": {}
      },
      "source": [
        "# annealer = LearningRateScheduler(lambda x: 1e-3 * 0.9 ** x)\n",
        "\n",
        "learning_rate_reduction = ReduceLROnPlateau(monitor='val_acc', \n",
        "                                            patience=3, \n",
        "                                            verbose=1, \n",
        "                                            factor=0.5, \n",
        "                                            min_lr=0.00001)"
      ],
      "execution_count": 0,
      "outputs": []
    },
    {
      "cell_type": "markdown",
      "metadata": {
        "id": "fG8Q0FPUhl8K",
        "colab_type": "text"
      },
      "source": [
        "## 訓練"
      ]
    },
    {
      "cell_type": "code",
      "metadata": {
        "id": "KNxJ1wRe08vn",
        "colab_type": "code",
        "outputId": "0eb309ab-a56a-419a-cedb-740e6efaacf9",
        "colab": {
          "base_uri": "https://localhost:8080/",
          "height": 2825
        }
      },
      "source": [
        "# history = model.fit_generator(datagen.flow(X_train , y_train , batch_size=16) ,\n",
        "#                               steps_per_epoch = 500,\n",
        "#                               epochs = epochs,\n",
        "#                               verbose = 1,\n",
        "#                               callbacks=[learning_rate_reduction]\n",
        "#                              )\n",
        "\n",
        "history = model.fit_generator(datagen.flow(X_train , y_train , batch_size = batch_size) ,\n",
        "                              steps_per_epoch = X_train.shape[0],\n",
        "                              validation_data = (X_test, y_test), # 訓練同時測試\n",
        "                              epochs = epochs,\n",
        "                              verbose = 1,\n",
        "                              callbacks=[learning_rate_reduction]\n",
        "                             )"
      ],
      "execution_count": 0,
      "outputs": [
        {
          "output_type": "stream",
          "text": [
            "Epoch 1/50\n",
            "6300/6300 [==============================] - 3s 467us/sample - loss: 0.0394 - acc: 0.9871\n",
            "558/558 [==============================] - 83s 148ms/step - loss: 0.1433 - acc: 0.9557 - val_loss: 0.0393 - val_acc: 0.9871\n",
            "Epoch 2/50\n",
            "6300/6300 [==============================] - 3s 459us/sample - loss: 0.0339 - acc: 0.9898\n",
            "558/558 [==============================] - 83s 150ms/step - loss: 0.1261 - acc: 0.9610 - val_loss: 0.0339 - val_acc: 0.9898\n",
            "Epoch 3/50\n",
            "6300/6300 [==============================] - 3s 473us/sample - loss: 0.0322 - acc: 0.9887\n",
            "558/558 [==============================] - 81s 146ms/step - loss: 0.1177 - acc: 0.9639 - val_loss: 0.0321 - val_acc: 0.9887\n",
            "Epoch 4/50\n",
            "6300/6300 [==============================] - 3s 474us/sample - loss: 0.0312 - acc: 0.9902\n",
            "558/558 [==============================] - 84s 150ms/step - loss: 0.1065 - acc: 0.9671 - val_loss: 0.0311 - val_acc: 0.9902\n",
            "Epoch 5/50\n",
            "6300/6300 [==============================] - 3s 470us/sample - loss: 0.0329 - acc: 0.9890\n",
            "558/558 [==============================] - 83s 148ms/step - loss: 0.1088 - acc: 0.9674 - val_loss: 0.0328 - val_acc: 0.9890\n",
            "Epoch 6/50\n",
            "6300/6300 [==============================] - 3s 474us/sample - loss: 0.0294 - acc: 0.9903\n",
            "558/558 [==============================] - 83s 148ms/step - loss: 0.0990 - acc: 0.9694 - val_loss: 0.0296 - val_acc: 0.9903\n",
            "Epoch 7/50\n",
            "6300/6300 [==============================] - 3s 443us/sample - loss: 0.0301 - acc: 0.9906\n",
            "558/558 [==============================] - 83s 148ms/step - loss: 0.1009 - acc: 0.9708 - val_loss: 0.0302 - val_acc: 0.9906\n",
            "Epoch 8/50\n",
            "6300/6300 [==============================] - 3s 467us/sample - loss: 0.0315 - acc: 0.9903\n",
            "558/558 [==============================] - 82s 146ms/step - loss: 0.0938 - acc: 0.9713 - val_loss: 0.0315 - val_acc: 0.9903\n",
            "Epoch 9/50\n",
            "6300/6300 [==============================] - 3s 494us/sample - loss: 0.0322 - acc: 0.9910\n",
            "558/558 [==============================] - 86s 153ms/step - loss: 0.0915 - acc: 0.9721 - val_loss: 0.0322 - val_acc: 0.9910\n",
            "Epoch 10/50\n",
            "6300/6300 [==============================] - 3s 471us/sample - loss: 0.0379 - acc: 0.9876\n",
            "558/558 [==============================] - 84s 151ms/step - loss: 0.0892 - acc: 0.9735 - val_loss: 0.0382 - val_acc: 0.9876\n",
            "Epoch 11/50\n",
            "6300/6300 [==============================] - 3s 483us/sample - loss: 0.0288 - acc: 0.9917\n",
            "558/558 [==============================] - 85s 152ms/step - loss: 0.0912 - acc: 0.9742 - val_loss: 0.0287 - val_acc: 0.9917\n",
            "Epoch 12/50\n",
            "6300/6300 [==============================] - 3s 468us/sample - loss: 0.0336 - acc: 0.9902\n",
            "558/558 [==============================] - 83s 149ms/step - loss: 0.0881 - acc: 0.9725 - val_loss: 0.0335 - val_acc: 0.9902\n",
            "Epoch 13/50\n",
            "6300/6300 [==============================] - 3s 482us/sample - loss: 0.0344 - acc: 0.9887\n",
            "558/558 [==============================] - 83s 148ms/step - loss: 0.0839 - acc: 0.9754 - val_loss: 0.0344 - val_acc: 0.9887\n",
            "Epoch 14/50\n",
            "6300/6300 [==============================] - 3s 481us/sample - loss: 0.0275 - acc: 0.9905\n",
            "\n",
            "Epoch 00014: ReduceLROnPlateau reducing learning rate to 0.0005000000237487257.\n",
            "558/558 [==============================] - 83s 150ms/step - loss: 0.0827 - acc: 0.9754 - val_loss: 0.0276 - val_acc: 0.9905\n",
            "Epoch 15/50\n",
            "6300/6300 [==============================] - 3s 474us/sample - loss: 0.0239 - acc: 0.9924\n",
            "558/558 [==============================] - 84s 150ms/step - loss: 0.0749 - acc: 0.9772 - val_loss: 0.0238 - val_acc: 0.9924\n",
            "Epoch 16/50\n",
            "6300/6300 [==============================] - 3s 486us/sample - loss: 0.0242 - acc: 0.9919\n",
            "558/558 [==============================] - 84s 150ms/step - loss: 0.0731 - acc: 0.9782 - val_loss: 0.0241 - val_acc: 0.9919\n",
            "Epoch 17/50\n",
            "6300/6300 [==============================] - 3s 479us/sample - loss: 0.0260 - acc: 0.9921\n",
            "558/558 [==============================] - 83s 149ms/step - loss: 0.0701 - acc: 0.9779 - val_loss: 0.0259 - val_acc: 0.9921\n",
            "Epoch 18/50\n",
            "6300/6300 [==============================] - 3s 471us/sample - loss: 0.0271 - acc: 0.9914\n",
            "\n",
            "Epoch 00018: ReduceLROnPlateau reducing learning rate to 0.0002500000118743628.\n",
            "558/558 [==============================] - 84s 150ms/step - loss: 0.0721 - acc: 0.9788 - val_loss: 0.0270 - val_acc: 0.9914\n",
            "Epoch 19/50\n",
            "6300/6300 [==============================] - 3s 473us/sample - loss: 0.0261 - acc: 0.9917\n",
            "558/558 [==============================] - 83s 148ms/step - loss: 0.0647 - acc: 0.9808 - val_loss: 0.0261 - val_acc: 0.9917\n",
            "Epoch 20/50\n",
            "6300/6300 [==============================] - 3s 488us/sample - loss: 0.0244 - acc: 0.9917\n",
            "558/558 [==============================] - 84s 150ms/step - loss: 0.0665 - acc: 0.9810 - val_loss: 0.0245 - val_acc: 0.9917\n",
            "Epoch 21/50\n",
            "6300/6300 [==============================] - 3s 482us/sample - loss: 0.0228 - acc: 0.9917\n",
            "\n",
            "Epoch 00021: ReduceLROnPlateau reducing learning rate to 0.0001250000059371814.\n",
            "558/558 [==============================] - 84s 150ms/step - loss: 0.0586 - acc: 0.9823 - val_loss: 0.0229 - val_acc: 0.9917\n",
            "Epoch 22/50\n",
            "6300/6300 [==============================] - 3s 478us/sample - loss: 0.0229 - acc: 0.9917\n",
            "558/558 [==============================] - 86s 154ms/step - loss: 0.0598 - acc: 0.9816 - val_loss: 0.0229 - val_acc: 0.9917\n",
            "Epoch 23/50\n",
            "6300/6300 [==============================] - 3s 493us/sample - loss: 0.0233 - acc: 0.9921\n",
            "558/558 [==============================] - 85s 152ms/step - loss: 0.0631 - acc: 0.9801 - val_loss: 0.0233 - val_acc: 0.9921\n",
            "Epoch 24/50\n",
            "6300/6300 [==============================] - 3s 492us/sample - loss: 0.0234 - acc: 0.9921\n",
            "\n",
            "Epoch 00024: ReduceLROnPlateau reducing learning rate to 6.25000029685907e-05.\n",
            "558/558 [==============================] - 86s 155ms/step - loss: 0.0623 - acc: 0.9810 - val_loss: 0.0233 - val_acc: 0.9921\n",
            "Epoch 25/50\n",
            "6300/6300 [==============================] - 3s 490us/sample - loss: 0.0224 - acc: 0.9919\n",
            "558/558 [==============================] - 84s 151ms/step - loss: 0.0588 - acc: 0.9822 - val_loss: 0.0224 - val_acc: 0.9919\n",
            "Epoch 26/50\n",
            "6300/6300 [==============================] - 3s 483us/sample - loss: 0.0228 - acc: 0.9919\n",
            "558/558 [==============================] - 85s 152ms/step - loss: 0.0611 - acc: 0.9813 - val_loss: 0.0228 - val_acc: 0.9919\n",
            "Epoch 27/50\n",
            "6300/6300 [==============================] - 3s 478us/sample - loss: 0.0236 - acc: 0.9919\n",
            "\n",
            "Epoch 00027: ReduceLROnPlateau reducing learning rate to 3.125000148429535e-05.\n",
            "558/558 [==============================] - 84s 150ms/step - loss: 0.0603 - acc: 0.9825 - val_loss: 0.0235 - val_acc: 0.9919\n",
            "Epoch 28/50\n",
            "6300/6300 [==============================] - 3s 474us/sample - loss: 0.0230 - acc: 0.9921\n",
            "558/558 [==============================] - 84s 151ms/step - loss: 0.0573 - acc: 0.9827 - val_loss: 0.0229 - val_acc: 0.9921\n",
            "Epoch 29/50\n",
            "6300/6300 [==============================] - 3s 490us/sample - loss: 0.0227 - acc: 0.9917\n",
            "558/558 [==============================] - 84s 150ms/step - loss: 0.0616 - acc: 0.9817 - val_loss: 0.0227 - val_acc: 0.9917\n",
            "Epoch 30/50\n",
            "6300/6300 [==============================] - 3s 486us/sample - loss: 0.0228 - acc: 0.9914\n",
            "\n",
            "Epoch 00030: ReduceLROnPlateau reducing learning rate to 1.5625000742147677e-05.\n",
            "558/558 [==============================] - 85s 152ms/step - loss: 0.0600 - acc: 0.9818 - val_loss: 0.0228 - val_acc: 0.9914\n",
            "Epoch 31/50\n",
            "6300/6300 [==============================] - 3s 491us/sample - loss: 0.0226 - acc: 0.9919\n",
            "558/558 [==============================] - 84s 150ms/step - loss: 0.0590 - acc: 0.9822 - val_loss: 0.0226 - val_acc: 0.9919\n",
            "Epoch 32/50\n",
            "6300/6300 [==============================] - 3s 483us/sample - loss: 0.0227 - acc: 0.9916\n",
            "558/558 [==============================] - 84s 151ms/step - loss: 0.0546 - acc: 0.9832 - val_loss: 0.0227 - val_acc: 0.9916\n",
            "Epoch 33/50\n",
            "6300/6300 [==============================] - 3s 474us/sample - loss: 0.0226 - acc: 0.9916\n",
            "\n",
            "Epoch 00033: ReduceLROnPlateau reducing learning rate to 1e-05.\n",
            "558/558 [==============================] - 84s 151ms/step - loss: 0.0546 - acc: 0.9839 - val_loss: 0.0225 - val_acc: 0.9916\n",
            "Epoch 34/50\n",
            "6300/6300 [==============================] - 3s 486us/sample - loss: 0.0225 - acc: 0.9919\n",
            "558/558 [==============================] - 85s 153ms/step - loss: 0.0557 - acc: 0.9825 - val_loss: 0.0224 - val_acc: 0.9919\n",
            "Epoch 35/50\n",
            "6300/6300 [==============================] - 3s 489us/sample - loss: 0.0225 - acc: 0.9919\n",
            "558/558 [==============================] - 85s 152ms/step - loss: 0.0600 - acc: 0.9821 - val_loss: 0.0224 - val_acc: 0.9919\n",
            "Epoch 36/50\n",
            "6300/6300 [==============================] - 3s 483us/sample - loss: 0.0225 - acc: 0.9919\n",
            "558/558 [==============================] - 85s 153ms/step - loss: 0.0553 - acc: 0.9832 - val_loss: 0.0225 - val_acc: 0.9919\n",
            "Epoch 37/50\n",
            "6300/6300 [==============================] - 3s 487us/sample - loss: 0.0225 - acc: 0.9921\n",
            "558/558 [==============================] - 85s 153ms/step - loss: 0.0586 - acc: 0.9827 - val_loss: 0.0225 - val_acc: 0.9921\n",
            "Epoch 38/50\n",
            "6300/6300 [==============================] - 3s 476us/sample - loss: 0.0224 - acc: 0.9919\n",
            "558/558 [==============================] - 85s 153ms/step - loss: 0.0558 - acc: 0.9832 - val_loss: 0.0223 - val_acc: 0.9919\n",
            "Epoch 39/50\n",
            "6300/6300 [==============================] - 3s 487us/sample - loss: 0.0224 - acc: 0.9917\n",
            "558/558 [==============================] - 85s 152ms/step - loss: 0.0611 - acc: 0.9819 - val_loss: 0.0224 - val_acc: 0.9917\n",
            "Epoch 40/50\n",
            "6300/6300 [==============================] - 3s 505us/sample - loss: 0.0224 - acc: 0.9917\n",
            "558/558 [==============================] - 85s 153ms/step - loss: 0.0582 - acc: 0.9823 - val_loss: 0.0224 - val_acc: 0.9917\n",
            "Epoch 41/50\n",
            "6300/6300 [==============================] - 3s 480us/sample - loss: 0.0226 - acc: 0.9917\n",
            "558/558 [==============================] - 85s 153ms/step - loss: 0.0573 - acc: 0.9829 - val_loss: 0.0226 - val_acc: 0.9917\n",
            "Epoch 42/50\n",
            "6300/6300 [==============================] - 3s 471us/sample - loss: 0.0226 - acc: 0.9916\n",
            "558/558 [==============================] - 85s 152ms/step - loss: 0.0590 - acc: 0.9821 - val_loss: 0.0225 - val_acc: 0.9916\n",
            "Epoch 43/50\n",
            "6300/6300 [==============================] - 3s 484us/sample - loss: 0.0227 - acc: 0.9919\n",
            "558/558 [==============================] - 85s 152ms/step - loss: 0.0587 - acc: 0.9823 - val_loss: 0.0226 - val_acc: 0.9919\n",
            "Epoch 44/50\n",
            "6300/6300 [==============================] - 3s 484us/sample - loss: 0.0224 - acc: 0.9917\n",
            "558/558 [==============================] - 85s 153ms/step - loss: 0.0564 - acc: 0.9833 - val_loss: 0.0223 - val_acc: 0.9917\n",
            "Epoch 45/50\n",
            "6300/6300 [==============================] - 3s 483us/sample - loss: 0.0225 - acc: 0.9916\n",
            "558/558 [==============================] - 85s 152ms/step - loss: 0.0622 - acc: 0.9821 - val_loss: 0.0224 - val_acc: 0.9916\n",
            "Epoch 46/50\n",
            "6300/6300 [==============================] - 3s 484us/sample - loss: 0.0226 - acc: 0.9917\n",
            "558/558 [==============================] - 84s 151ms/step - loss: 0.0568 - acc: 0.9830 - val_loss: 0.0225 - val_acc: 0.9917\n",
            "Epoch 47/50\n",
            "6300/6300 [==============================] - 3s 476us/sample - loss: 0.0225 - acc: 0.9917\n",
            "558/558 [==============================] - 85s 152ms/step - loss: 0.0567 - acc: 0.9831 - val_loss: 0.0225 - val_acc: 0.9917\n",
            "Epoch 48/50\n",
            "6300/6300 [==============================] - 3s 486us/sample - loss: 0.0224 - acc: 0.9916\n",
            "558/558 [==============================] - 85s 152ms/step - loss: 0.0592 - acc: 0.9821 - val_loss: 0.0224 - val_acc: 0.9916\n",
            "Epoch 49/50\n",
            "6300/6300 [==============================] - 3s 488us/sample - loss: 0.0225 - acc: 0.9916\n",
            "558/558 [==============================] - 85s 153ms/step - loss: 0.0575 - acc: 0.9829 - val_loss: 0.0224 - val_acc: 0.9916\n",
            "Epoch 50/50\n",
            "6300/6300 [==============================] - 3s 472us/sample - loss: 0.0225 - acc: 0.9916\n",
            "558/558 [==============================] - 85s 153ms/step - loss: 0.0572 - acc: 0.9826 - val_loss: 0.0224 - val_acc: 0.9916\n"
          ],
          "name": "stdout"
        }
      ]
    },
    {
      "cell_type": "code",
      "metadata": {
        "id": "DQFKvOlf2Jz9",
        "colab_type": "code",
        "outputId": "13751025-1fad-4195-d9f9-bf000eaceec6",
        "colab": {
          "base_uri": "https://localhost:8080/",
          "height": 51
        }
      },
      "source": [
        "final_loss, final_acc = model.evaluate(X_test, y_test, verbose=0) # 其他測試方式\n",
        "print('loss =' , final_loss , '\\naccuracy' , final_acc)"
      ],
      "execution_count": 0,
      "outputs": [
        {
          "output_type": "stream",
          "text": [
            "loss = 0.022507559460528206 \n",
            "accuracy 0.9915873\n"
          ],
          "name": "stdout"
        }
      ]
    },
    {
      "cell_type": "code",
      "metadata": {
        "id": "vMfNO6s2h5pU",
        "colab_type": "code",
        "colab": {}
      },
      "source": [
        "model.save_weights(\"model.h5\")"
      ],
      "execution_count": 0,
      "outputs": []
    },
    {
      "cell_type": "markdown",
      "metadata": {
        "id": "xFKaN0_Rh-BZ",
        "colab_type": "text"
      },
      "source": [
        "## 圖形化訓練結果"
      ]
    },
    {
      "cell_type": "code",
      "metadata": {
        "id": "2oajo7gIh6N_",
        "colab_type": "code",
        "colab": {}
      },
      "source": [
        "acc = history.history['acc']\n",
        "val_acc = history.history['val_acc']\n",
        "loss = history.history['loss']\n",
        "val_loss = history.history['val_loss']\n",
        "epochs = range(1, len(acc) + 1)"
      ],
      "execution_count": 0,
      "outputs": []
    },
    {
      "cell_type": "code",
      "metadata": {
        "id": "v51Jbf1GiFOm",
        "colab_type": "code",
        "outputId": "56503b06-70fa-46f1-e83d-f600ee8f6acd",
        "colab": {
          "base_uri": "https://localhost:8080/",
          "height": 407
        }
      },
      "source": [
        "plt.figure(figsize=(15, 6))\n",
        "\n",
        "plt.subplot(1, 2, 1)\n",
        "plt.plot(epochs, acc, 'bo-', label='Training acc')\n",
        "plt.plot(epochs, val_acc, 'gs-', label='Training val_acc')\n",
        "plt.title('Train and Validation accuracy')\n",
        "plt.legend()\n",
        "\n",
        "plt.subplot(1, 2, 2)\n",
        "plt.plot(epochs, loss, 'ro-', label='Training loss')\n",
        "plt.plot(epochs, val_loss, 'bs-', label='Training val_loss')\n",
        "plt.title('Train and Validation loss')\n",
        "plt.legend()"
      ],
      "execution_count": 0,
      "outputs": [
        {
          "output_type": "execute_result",
          "data": {
            "text/plain": [
              "<matplotlib.legend.Legend at 0x7fe8ad3c8ef0>"
            ]
          },
          "metadata": {
            "tags": []
          },
          "execution_count": 25
        },
        {
          "output_type": "display_data",
          "data": {
            "image/png": "[encoded data removed]",
            "text/plain": [
              "<Figure size 1080x432 with 2 Axes>"
            ]
          },
          "metadata": {
            "tags": []
          }
        }
      ]
    },
    {
      "cell_type": "markdown",
      "metadata": {
        "id": "fvmGrOCQi1Rx",
        "colab_type": "text"
      },
      "source": [
        "## 預測與準備上傳檔案"
      ]
    },
    {
      "cell_type": "code",
      "metadata": {
        "id": "kNeMBj3Z2N9B",
        "colab_type": "code",
        "colab": {}
      },
      "source": [
        "test = test.values\n",
        "test = test.reshape(-1 , 28 , 28 ,1)/255\n",
        "pre = model.predict(test, batch_size=64)"
      ],
      "execution_count": 0,
      "outputs": []
    },
    {
      "cell_type": "code",
      "metadata": {
        "id": "N3lWaoM12RsX",
        "colab_type": "code",
        "colab": {}
      },
      "source": [
        "pre = np.argmax(pre , axis = 1)"
      ],
      "execution_count": 0,
      "outputs": []
    },
    {
      "cell_type": "code",
      "metadata": {
        "id": "ToOSFE7N2XPo",
        "colab_type": "code",
        "outputId": "6cd0940a-fd96-465b-ce45-79dc920ea2df",
        "colab": {
          "base_uri": "https://localhost:8080/",
          "height": 34
        }
      },
      "source": [
        "pre"
      ],
      "execution_count": 0,
      "outputs": [
        {
          "output_type": "execute_result",
          "data": {
            "text/plain": [
              "array([2, 0, 9, ..., 3, 9, 2])"
            ]
          },
          "metadata": {
            "tags": []
          },
          "execution_count": 28
        }
      ]
    },
    {
      "cell_type": "code",
      "metadata": {
        "id": "OiAjjYFR2X-l",
        "colab_type": "code",
        "outputId": "b6fb12b7-fd05-4380-a9ba-c8b7f7d43627",
        "colab": {
          "base_uri": "https://localhost:8080/",
          "height": 204
        }
      },
      "source": [
        "submit.head()"
      ],
      "execution_count": 0,
      "outputs": [
        {
          "output_type": "execute_result",
          "data": {
            "text/html": [
              "<div>\n",
              "<style scoped>\n",
              "    .dataframe tbody tr th:only-of-type {\n",
              "        vertical-align: middle;\n",
              "    }\n",
              "\n",
              "    .dataframe tbody tr th {\n",
              "        vertical-align: top;\n",
              "    }\n",
              "\n",
              "    .dataframe thead th {\n",
              "        text-align: right;\n",
              "    }\n",
              "</style>\n",
              "<table border=\"1\" class=\"dataframe\">\n",
              "  <thead>\n",
              "    <tr style=\"text-align: right;\">\n",
              "      <th></th>\n",
              "      <th>ImageId</th>\n",
              "      <th>Label</th>\n",
              "    </tr>\n",
              "  </thead>\n",
              "  <tbody>\n",
              "    <tr>\n",
              "      <th>0</th>\n",
              "      <td>1</td>\n",
              "      <td>0</td>\n",
              "    </tr>\n",
              "    <tr>\n",
              "      <th>1</th>\n",
              "      <td>2</td>\n",
              "      <td>0</td>\n",
              "    </tr>\n",
              "    <tr>\n",
              "      <th>2</th>\n",
              "      <td>3</td>\n",
              "      <td>0</td>\n",
              "    </tr>\n",
              "    <tr>\n",
              "      <th>3</th>\n",
              "      <td>4</td>\n",
              "      <td>0</td>\n",
              "    </tr>\n",
              "    <tr>\n",
              "      <th>4</th>\n",
              "      <td>5</td>\n",
              "      <td>0</td>\n",
              "    </tr>\n",
              "  </tbody>\n",
              "</table>\n",
              "</div>"
            ],
            "text/plain": [
              "   ImageId  Label\n",
              "0        1      0\n",
              "1        2      0\n",
              "2        3      0\n",
              "3        4      0\n",
              "4        5      0"
            ]
          },
          "metadata": {
            "tags": []
          },
          "execution_count": 29
        }
      ]
    },
    {
      "cell_type": "code",
      "metadata": {
        "id": "bMbYAzEL2bUC",
        "colab_type": "code",
        "colab": {}
      },
      "source": [
        "submit['Label'] = pre"
      ],
      "execution_count": 0,
      "outputs": []
    },
    {
      "cell_type": "code",
      "metadata": {
        "id": "QT6E9TNL2dm4",
        "colab_type": "code",
        "colab": {}
      },
      "source": [
        "submit.to_csv('submit.csv' , index= False)"
      ],
      "execution_count": 0,
      "outputs": []
    }
  ]
}