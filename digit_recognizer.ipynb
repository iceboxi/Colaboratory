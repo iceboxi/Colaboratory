{
  "nbformat": 4,
  "nbformat_minor": 0,
  "metadata": {
    "colab": {
      "name": "digit recognizer.ipynb",
      "version": "0.3.2",
      "provenance": [],
      "collapsed_sections": [
        "vCo5JatkeXD9",
        "3WSUp9lVgW3M"
      ],
      "toc_visible": true,
      "include_colab_link": true
    },
    "kernelspec": {
      "name": "python3",
      "display_name": "Python 3"
    },
    "accelerator": "TPU"
  },
  "cells": [
    {
      "cell_type": "markdown",
      "metadata": {
        "id": "view-in-github",
        "colab_type": "text"
      },
      "source": [
        "<a href=\"https://colab.research.google.com/github/iceboxi/Colaboratory/blob/master/digit_recognizer.ipynb\" target=\"_parent\"><img src=\"https://colab.research.google.com/assets/colab-badge.svg\" alt=\"Open In Colab\"/></a>"
      ]
    },
    {
      "cell_type": "markdown",
      "metadata": {
        "id": "scXd1AiVeFz8",
        "colab_type": "text"
      },
      "source": [
        "# 手寫數字分類\n",
        "source: \n",
        "* https://www.kaggle.com/c/digit-recognizer/overview\n",
        "\n",
        "* MNIST\n",
        "```\n",
        "from keras.datasets import mnist\n",
        "(x_train, y_train), (x_test, y_test) = mnist.load_data()\n",
        "```"
      ]
    },
    {
      "cell_type": "markdown",
      "metadata": {
        "id": "txoPlE-dePKi",
        "colab_type": "text"
      },
      "source": [
        "## 下載資料"
      ]
    },
    {
      "cell_type": "code",
      "metadata": {
        "id": "8cO5o_mrznO7",
        "colab_type": "code",
        "outputId": "e9555192-dfe3-4053-b9c8-05f580d7aa12",
        "colab": {
          "base_uri": "https://localhost:8080/",
          "height": 170
        }
      },
      "source": [
        "#Set the enviroment variables\n",
        "import os\n",
        "import pandas as pd\n",
        "df = pd.read_json('./kaggle.json', typ='series')\n",
        "\n",
        "os.environ['KAGGLE_USERNAME'] = df['username']\n",
        "os.environ['KAGGLE_KEY'] = df['key']\n",
        "!kaggle competitions download -c digit-recognizer"
      ],
      "execution_count": 2,
      "outputs": [
        {
          "output_type": "stream",
          "text": [
            "Downloading train.csv to /content\n",
            " 82% 60.0M/73.2M [00:00<00:00, 109MB/s] \n",
            "100% 73.2M/73.2M [00:00<00:00, 149MB/s]\n",
            "Downloading test.csv to /content\n",
            " 78% 38.0M/48.8M [00:00<00:00, 89.3MB/s]\n",
            "100% 48.8M/48.8M [00:00<00:00, 139MB/s] \n",
            "Downloading sample_submission.csv to /content\n",
            "  0% 0.00/235k [00:00<?, ?B/s]\n",
            "100% 235k/235k [00:00<00:00, 21.1MB/s]\n"
          ],
          "name": "stdout"
        }
      ]
    },
    {
      "cell_type": "markdown",
      "metadata": {
        "id": "YjdiUzPWeSDI",
        "colab_type": "text"
      },
      "source": [
        "## import"
      ]
    },
    {
      "cell_type": "code",
      "metadata": {
        "id": "K8YGFkCAzvgr",
        "colab_type": "code",
        "outputId": "10d95f5a-9e79-471f-843f-fbcedd292af6",
        "colab": {
          "base_uri": "https://localhost:8080/",
          "height": 17
        }
      },
      "source": [
        "# Imports for Deep Learning\n",
        "from tensorflow.keras.applications import VGG16\n",
        "from tensorflow.keras.applications.vgg16 import preprocess_input, decode_predictions\n",
        "from tensorflow.keras import models, layers\n",
        "from tensorflow.keras import optimizers\n",
        "from tensorflow.keras.optimizers import RMSprop,Adam\n",
        "from tensorflow.keras.preprocessing.image import ImageDataGenerator\n",
        "from tensorflow.keras.preprocessing import image\n",
        "from tensorflow.keras.utils import to_categorical\n",
        "\n",
        "from tensorflow.keras.models import Sequential, load_model\n",
        "from tensorflow.keras.layers import Dense, Dropout, Activation, Flatten, BatchNormalization\n",
        "from tensorflow.keras.layers import Conv2D, MaxPooling2D, PReLU\n",
        "from tensorflow.keras.callbacks import EarlyStopping, ModelCheckpoint, ReduceLROnPlateau, LearningRateScheduler\n",
        "\n",
        "# ensure consistency across runs\n",
        "from numpy.random import seed\n",
        "seed(1)\n",
        "from tensorflow import set_random_seed\n",
        "set_random_seed(2)\n",
        "\n",
        "# Imports to view data\n",
        "import cv2\n",
        "from glob import glob\n",
        "\n",
        "import plotly.offline as py\n",
        "py.init_notebook_mode(connected=True)\n",
        "import plotly.graph_objs as go\n",
        "import plotly.tools as tls\n",
        "\n",
        "import seaborn as sns\n",
        "from matplotlib import pyplot as plt\n",
        "import matplotlib.image as mpimg\n",
        "% matplotlib inline\n",
        "\n",
        "import os, shutil\n",
        "from os import listdir\n",
        "from numpy import floor\n",
        "import random\n",
        "import numpy as np\n",
        "import pandas as pd\n",
        "\n",
        "# Import the 3 dimensionality reduction methods\n",
        "from sklearn.manifold import TSNE\n",
        "from sklearn.decomposition import PCA\n",
        "from sklearn.discriminant_analysis import LinearDiscriminantAnalysis as LDA\n",
        "\n",
        "from sklearn.model_selection import train_test_split\n",
        "\n",
        "from sklearn.metrics import confusion_matrix"
      ],
      "execution_count": 3,
      "outputs": [
        {
          "output_type": "display_data",
          "data": {
            "text/vnd.plotly.v1+html": "<script type=\"text/javascript\">window.PlotlyConfig = {MathJaxConfig: 'local'};</script><script type=\"text/javascript\">if (window.MathJax) {MathJax.Hub.Config({SVG: {font: \"STIX-Web\"}});}</script><script>requirejs.config({paths: { 'plotly': ['https://cdn.plot.ly/plotly-latest.min']},});if(!window._Plotly) {require(['plotly'],function(plotly) {window._Plotly=plotly;});}</script>",
            "text/html": [
              "<script type=\"text/javascript\">window.PlotlyConfig = {MathJaxConfig: 'local'};</script><script type=\"text/javascript\">if (window.MathJax) {MathJax.Hub.Config({SVG: {font: \"STIX-Web\"}});}</script><script>requirejs.config({paths: { 'plotly': ['https://cdn.plot.ly/plotly-latest.min']},});if(!window._Plotly) {require(['plotly'],function(plotly) {window._Plotly=plotly;});}</script>"
            ]
          },
          "metadata": {
            "tags": []
          }
        }
      ]
    },
    {
      "cell_type": "code",
      "metadata": {
        "id": "g3wXS-Alpxi4",
        "colab_type": "code",
        "colab": {}
      },
      "source": [
        "plt.style.use('default')"
      ],
      "execution_count": 0,
      "outputs": []
    },
    {
      "cell_type": "markdown",
      "metadata": {
        "id": "vCo5JatkeXD9",
        "colab_type": "text"
      },
      "source": [
        "## 讀取資料"
      ]
    },
    {
      "cell_type": "code",
      "metadata": {
        "id": "j3Yo34tQdeZr",
        "colab_type": "code",
        "outputId": "f804b1de-fcdf-487e-be68-ab258f7fe723",
        "colab": {
          "base_uri": "https://localhost:8080/",
          "height": 34
        }
      },
      "source": [
        "print(os.getcwd())"
      ],
      "execution_count": 0,
      "outputs": [
        {
          "output_type": "stream",
          "text": [
            "/content\n"
          ],
          "name": "stdout"
        }
      ]
    },
    {
      "cell_type": "code",
      "metadata": {
        "id": "tSNTxq4Yzx45",
        "colab_type": "code",
        "colab": {}
      },
      "source": [
        "train2 = pd.read_csv('/content/sample_data/mnist_test.csv', header=None)\n",
        "train1 = pd.read_csv('./train.csv')\n",
        "test = pd.read_csv('./test.csv')\n",
        "submit = pd.read_csv('./sample_submission.csv')"
      ],
      "execution_count": 0,
      "outputs": []
    },
    {
      "cell_type": "code",
      "metadata": {
        "id": "pwDRDjE56_OS",
        "colab_type": "code",
        "colab": {}
      },
      "source": [
        "new_cols = {x: y for x, y in zip(train2.columns, train1.columns)}\n",
        "train = pd.concat([train1, train2.rename(columns=new_cols)], axis=0, ignore_index=True)"
      ],
      "execution_count": 0,
      "outputs": []
    },
    {
      "cell_type": "code",
      "metadata": {
        "id": "oJh5OpBtgdDO",
        "colab_type": "code",
        "outputId": "7d504aec-1dc6-4aa2-b1f6-6afaf34f866b",
        "colab": {
          "base_uri": "https://localhost:8080/",
          "height": 253
        }
      },
      "source": [
        "train.head()"
      ],
      "execution_count": 39,
      "outputs": [
        {
          "output_type": "execute_result",
          "data": {
            "text/html": [
              "<div>\n",
              "<style scoped>\n",
              "    .dataframe tbody tr th:only-of-type {\n",
              "        vertical-align: middle;\n",
              "    }\n",
              "\n",
              "    .dataframe tbody tr th {\n",
              "        vertical-align: top;\n",
              "    }\n",
              "\n",
              "    .dataframe thead th {\n",
              "        text-align: right;\n",
              "    }\n",
              "</style>\n",
              "<table border=\"1\" class=\"dataframe\">\n",
              "  <thead>\n",
              "    <tr style=\"text-align: right;\">\n",
              "      <th></th>\n",
              "      <th>label</th>\n",
              "      <th>pixel0</th>\n",
              "      <th>pixel1</th>\n",
              "      <th>pixel2</th>\n",
              "      <th>pixel3</th>\n",
              "      <th>pixel4</th>\n",
              "      <th>pixel5</th>\n",
              "      <th>pixel6</th>\n",
              "      <th>pixel7</th>\n",
              "      <th>pixel8</th>\n",
              "      <th>pixel9</th>\n",
              "      <th>pixel10</th>\n",
              "      <th>pixel11</th>\n",
              "      <th>pixel12</th>\n",
              "      <th>pixel13</th>\n",
              "      <th>pixel14</th>\n",
              "      <th>pixel15</th>\n",
              "      <th>pixel16</th>\n",
              "      <th>pixel17</th>\n",
              "      <th>pixel18</th>\n",
              "      <th>pixel19</th>\n",
              "      <th>pixel20</th>\n",
              "      <th>pixel21</th>\n",
              "      <th>pixel22</th>\n",
              "      <th>pixel23</th>\n",
              "      <th>pixel24</th>\n",
              "      <th>pixel25</th>\n",
              "      <th>pixel26</th>\n",
              "      <th>pixel27</th>\n",
              "      <th>pixel28</th>\n",
              "      <th>pixel29</th>\n",
              "      <th>pixel30</th>\n",
              "      <th>pixel31</th>\n",
              "      <th>pixel32</th>\n",
              "      <th>pixel33</th>\n",
              "      <th>pixel34</th>\n",
              "      <th>pixel35</th>\n",
              "      <th>pixel36</th>\n",
              "      <th>pixel37</th>\n",
              "      <th>pixel38</th>\n",
              "      <th>...</th>\n",
              "      <th>pixel744</th>\n",
              "      <th>pixel745</th>\n",
              "      <th>pixel746</th>\n",
              "      <th>pixel747</th>\n",
              "      <th>pixel748</th>\n",
              "      <th>pixel749</th>\n",
              "      <th>pixel750</th>\n",
              "      <th>pixel751</th>\n",
              "      <th>pixel752</th>\n",
              "      <th>pixel753</th>\n",
              "      <th>pixel754</th>\n",
              "      <th>pixel755</th>\n",
              "      <th>pixel756</th>\n",
              "      <th>pixel757</th>\n",
              "      <th>pixel758</th>\n",
              "      <th>pixel759</th>\n",
              "      <th>pixel760</th>\n",
              "      <th>pixel761</th>\n",
              "      <th>pixel762</th>\n",
              "      <th>pixel763</th>\n",
              "      <th>pixel764</th>\n",
              "      <th>pixel765</th>\n",
              "      <th>pixel766</th>\n",
              "      <th>pixel767</th>\n",
              "      <th>pixel768</th>\n",
              "      <th>pixel769</th>\n",
              "      <th>pixel770</th>\n",
              "      <th>pixel771</th>\n",
              "      <th>pixel772</th>\n",
              "      <th>pixel773</th>\n",
              "      <th>pixel774</th>\n",
              "      <th>pixel775</th>\n",
              "      <th>pixel776</th>\n",
              "      <th>pixel777</th>\n",
              "      <th>pixel778</th>\n",
              "      <th>pixel779</th>\n",
              "      <th>pixel780</th>\n",
              "      <th>pixel781</th>\n",
              "      <th>pixel782</th>\n",
              "      <th>pixel783</th>\n",
              "    </tr>\n",
              "  </thead>\n",
              "  <tbody>\n",
              "    <tr>\n",
              "      <th>0</th>\n",
              "      <td>1</td>\n",
              "      <td>0</td>\n",
              "      <td>0</td>\n",
              "      <td>0</td>\n",
              "      <td>0</td>\n",
              "      <td>0</td>\n",
              "      <td>0</td>\n",
              "      <td>0</td>\n",
              "      <td>0</td>\n",
              "      <td>0</td>\n",
              "      <td>0</td>\n",
              "      <td>0</td>\n",
              "      <td>0</td>\n",
              "      <td>0</td>\n",
              "      <td>0</td>\n",
              "      <td>0</td>\n",
              "      <td>0</td>\n",
              "      <td>0</td>\n",
              "      <td>0</td>\n",
              "      <td>0</td>\n",
              "      <td>0</td>\n",
              "      <td>0</td>\n",
              "      <td>0</td>\n",
              "      <td>0</td>\n",
              "      <td>0</td>\n",
              "      <td>0</td>\n",
              "      <td>0</td>\n",
              "      <td>0</td>\n",
              "      <td>0</td>\n",
              "      <td>0</td>\n",
              "      <td>0</td>\n",
              "      <td>0</td>\n",
              "      <td>0</td>\n",
              "      <td>0</td>\n",
              "      <td>0</td>\n",
              "      <td>0</td>\n",
              "      <td>0</td>\n",
              "      <td>0</td>\n",
              "      <td>0</td>\n",
              "      <td>0</td>\n",
              "      <td>...</td>\n",
              "      <td>0</td>\n",
              "      <td>0</td>\n",
              "      <td>0</td>\n",
              "      <td>0</td>\n",
              "      <td>0</td>\n",
              "      <td>0</td>\n",
              "      <td>0</td>\n",
              "      <td>0</td>\n",
              "      <td>0</td>\n",
              "      <td>0</td>\n",
              "      <td>0</td>\n",
              "      <td>0</td>\n",
              "      <td>0</td>\n",
              "      <td>0</td>\n",
              "      <td>0</td>\n",
              "      <td>0</td>\n",
              "      <td>0</td>\n",
              "      <td>0</td>\n",
              "      <td>0</td>\n",
              "      <td>0</td>\n",
              "      <td>0</td>\n",
              "      <td>0</td>\n",
              "      <td>0</td>\n",
              "      <td>0</td>\n",
              "      <td>0</td>\n",
              "      <td>0</td>\n",
              "      <td>0</td>\n",
              "      <td>0</td>\n",
              "      <td>0</td>\n",
              "      <td>0</td>\n",
              "      <td>0</td>\n",
              "      <td>0</td>\n",
              "      <td>0</td>\n",
              "      <td>0</td>\n",
              "      <td>0</td>\n",
              "      <td>0</td>\n",
              "      <td>0</td>\n",
              "      <td>0</td>\n",
              "      <td>0</td>\n",
              "      <td>0</td>\n",
              "    </tr>\n",
              "    <tr>\n",
              "      <th>1</th>\n",
              "      <td>0</td>\n",
              "      <td>0</td>\n",
              "      <td>0</td>\n",
              "      <td>0</td>\n",
              "      <td>0</td>\n",
              "      <td>0</td>\n",
              "      <td>0</td>\n",
              "      <td>0</td>\n",
              "      <td>0</td>\n",
              "      <td>0</td>\n",
              "      <td>0</td>\n",
              "      <td>0</td>\n",
              "      <td>0</td>\n",
              "      <td>0</td>\n",
              "      <td>0</td>\n",
              "      <td>0</td>\n",
              "      <td>0</td>\n",
              "      <td>0</td>\n",
              "      <td>0</td>\n",
              "      <td>0</td>\n",
              "      <td>0</td>\n",
              "      <td>0</td>\n",
              "      <td>0</td>\n",
              "      <td>0</td>\n",
              "      <td>0</td>\n",
              "      <td>0</td>\n",
              "      <td>0</td>\n",
              "      <td>0</td>\n",
              "      <td>0</td>\n",
              "      <td>0</td>\n",
              "      <td>0</td>\n",
              "      <td>0</td>\n",
              "      <td>0</td>\n",
              "      <td>0</td>\n",
              "      <td>0</td>\n",
              "      <td>0</td>\n",
              "      <td>0</td>\n",
              "      <td>0</td>\n",
              "      <td>0</td>\n",
              "      <td>0</td>\n",
              "      <td>...</td>\n",
              "      <td>0</td>\n",
              "      <td>0</td>\n",
              "      <td>0</td>\n",
              "      <td>0</td>\n",
              "      <td>0</td>\n",
              "      <td>0</td>\n",
              "      <td>0</td>\n",
              "      <td>0</td>\n",
              "      <td>0</td>\n",
              "      <td>0</td>\n",
              "      <td>0</td>\n",
              "      <td>0</td>\n",
              "      <td>0</td>\n",
              "      <td>0</td>\n",
              "      <td>0</td>\n",
              "      <td>0</td>\n",
              "      <td>0</td>\n",
              "      <td>0</td>\n",
              "      <td>0</td>\n",
              "      <td>0</td>\n",
              "      <td>0</td>\n",
              "      <td>0</td>\n",
              "      <td>0</td>\n",
              "      <td>0</td>\n",
              "      <td>0</td>\n",
              "      <td>0</td>\n",
              "      <td>0</td>\n",
              "      <td>0</td>\n",
              "      <td>0</td>\n",
              "      <td>0</td>\n",
              "      <td>0</td>\n",
              "      <td>0</td>\n",
              "      <td>0</td>\n",
              "      <td>0</td>\n",
              "      <td>0</td>\n",
              "      <td>0</td>\n",
              "      <td>0</td>\n",
              "      <td>0</td>\n",
              "      <td>0</td>\n",
              "      <td>0</td>\n",
              "    </tr>\n",
              "    <tr>\n",
              "      <th>2</th>\n",
              "      <td>1</td>\n",
              "      <td>0</td>\n",
              "      <td>0</td>\n",
              "      <td>0</td>\n",
              "      <td>0</td>\n",
              "      <td>0</td>\n",
              "      <td>0</td>\n",
              "      <td>0</td>\n",
              "      <td>0</td>\n",
              "      <td>0</td>\n",
              "      <td>0</td>\n",
              "      <td>0</td>\n",
              "      <td>0</td>\n",
              "      <td>0</td>\n",
              "      <td>0</td>\n",
              "      <td>0</td>\n",
              "      <td>0</td>\n",
              "      <td>0</td>\n",
              "      <td>0</td>\n",
              "      <td>0</td>\n",
              "      <td>0</td>\n",
              "      <td>0</td>\n",
              "      <td>0</td>\n",
              "      <td>0</td>\n",
              "      <td>0</td>\n",
              "      <td>0</td>\n",
              "      <td>0</td>\n",
              "      <td>0</td>\n",
              "      <td>0</td>\n",
              "      <td>0</td>\n",
              "      <td>0</td>\n",
              "      <td>0</td>\n",
              "      <td>0</td>\n",
              "      <td>0</td>\n",
              "      <td>0</td>\n",
              "      <td>0</td>\n",
              "      <td>0</td>\n",
              "      <td>0</td>\n",
              "      <td>0</td>\n",
              "      <td>0</td>\n",
              "      <td>...</td>\n",
              "      <td>0</td>\n",
              "      <td>0</td>\n",
              "      <td>0</td>\n",
              "      <td>0</td>\n",
              "      <td>0</td>\n",
              "      <td>0</td>\n",
              "      <td>0</td>\n",
              "      <td>0</td>\n",
              "      <td>0</td>\n",
              "      <td>0</td>\n",
              "      <td>0</td>\n",
              "      <td>0</td>\n",
              "      <td>0</td>\n",
              "      <td>0</td>\n",
              "      <td>0</td>\n",
              "      <td>0</td>\n",
              "      <td>0</td>\n",
              "      <td>0</td>\n",
              "      <td>0</td>\n",
              "      <td>0</td>\n",
              "      <td>0</td>\n",
              "      <td>0</td>\n",
              "      <td>0</td>\n",
              "      <td>0</td>\n",
              "      <td>0</td>\n",
              "      <td>0</td>\n",
              "      <td>0</td>\n",
              "      <td>0</td>\n",
              "      <td>0</td>\n",
              "      <td>0</td>\n",
              "      <td>0</td>\n",
              "      <td>0</td>\n",
              "      <td>0</td>\n",
              "      <td>0</td>\n",
              "      <td>0</td>\n",
              "      <td>0</td>\n",
              "      <td>0</td>\n",
              "      <td>0</td>\n",
              "      <td>0</td>\n",
              "      <td>0</td>\n",
              "    </tr>\n",
              "    <tr>\n",
              "      <th>3</th>\n",
              "      <td>4</td>\n",
              "      <td>0</td>\n",
              "      <td>0</td>\n",
              "      <td>0</td>\n",
              "      <td>0</td>\n",
              "      <td>0</td>\n",
              "      <td>0</td>\n",
              "      <td>0</td>\n",
              "      <td>0</td>\n",
              "      <td>0</td>\n",
              "      <td>0</td>\n",
              "      <td>0</td>\n",
              "      <td>0</td>\n",
              "      <td>0</td>\n",
              "      <td>0</td>\n",
              "      <td>0</td>\n",
              "      <td>0</td>\n",
              "      <td>0</td>\n",
              "      <td>0</td>\n",
              "      <td>0</td>\n",
              "      <td>0</td>\n",
              "      <td>0</td>\n",
              "      <td>0</td>\n",
              "      <td>0</td>\n",
              "      <td>0</td>\n",
              "      <td>0</td>\n",
              "      <td>0</td>\n",
              "      <td>0</td>\n",
              "      <td>0</td>\n",
              "      <td>0</td>\n",
              "      <td>0</td>\n",
              "      <td>0</td>\n",
              "      <td>0</td>\n",
              "      <td>0</td>\n",
              "      <td>0</td>\n",
              "      <td>0</td>\n",
              "      <td>0</td>\n",
              "      <td>0</td>\n",
              "      <td>0</td>\n",
              "      <td>0</td>\n",
              "      <td>...</td>\n",
              "      <td>0</td>\n",
              "      <td>0</td>\n",
              "      <td>0</td>\n",
              "      <td>0</td>\n",
              "      <td>0</td>\n",
              "      <td>0</td>\n",
              "      <td>0</td>\n",
              "      <td>0</td>\n",
              "      <td>0</td>\n",
              "      <td>0</td>\n",
              "      <td>0</td>\n",
              "      <td>0</td>\n",
              "      <td>0</td>\n",
              "      <td>0</td>\n",
              "      <td>0</td>\n",
              "      <td>0</td>\n",
              "      <td>0</td>\n",
              "      <td>0</td>\n",
              "      <td>0</td>\n",
              "      <td>0</td>\n",
              "      <td>0</td>\n",
              "      <td>0</td>\n",
              "      <td>0</td>\n",
              "      <td>0</td>\n",
              "      <td>0</td>\n",
              "      <td>0</td>\n",
              "      <td>0</td>\n",
              "      <td>0</td>\n",
              "      <td>0</td>\n",
              "      <td>0</td>\n",
              "      <td>0</td>\n",
              "      <td>0</td>\n",
              "      <td>0</td>\n",
              "      <td>0</td>\n",
              "      <td>0</td>\n",
              "      <td>0</td>\n",
              "      <td>0</td>\n",
              "      <td>0</td>\n",
              "      <td>0</td>\n",
              "      <td>0</td>\n",
              "    </tr>\n",
              "    <tr>\n",
              "      <th>4</th>\n",
              "      <td>0</td>\n",
              "      <td>0</td>\n",
              "      <td>0</td>\n",
              "      <td>0</td>\n",
              "      <td>0</td>\n",
              "      <td>0</td>\n",
              "      <td>0</td>\n",
              "      <td>0</td>\n",
              "      <td>0</td>\n",
              "      <td>0</td>\n",
              "      <td>0</td>\n",
              "      <td>0</td>\n",
              "      <td>0</td>\n",
              "      <td>0</td>\n",
              "      <td>0</td>\n",
              "      <td>0</td>\n",
              "      <td>0</td>\n",
              "      <td>0</td>\n",
              "      <td>0</td>\n",
              "      <td>0</td>\n",
              "      <td>0</td>\n",
              "      <td>0</td>\n",
              "      <td>0</td>\n",
              "      <td>0</td>\n",
              "      <td>0</td>\n",
              "      <td>0</td>\n",
              "      <td>0</td>\n",
              "      <td>0</td>\n",
              "      <td>0</td>\n",
              "      <td>0</td>\n",
              "      <td>0</td>\n",
              "      <td>0</td>\n",
              "      <td>0</td>\n",
              "      <td>0</td>\n",
              "      <td>0</td>\n",
              "      <td>0</td>\n",
              "      <td>0</td>\n",
              "      <td>0</td>\n",
              "      <td>0</td>\n",
              "      <td>0</td>\n",
              "      <td>...</td>\n",
              "      <td>0</td>\n",
              "      <td>0</td>\n",
              "      <td>0</td>\n",
              "      <td>0</td>\n",
              "      <td>0</td>\n",
              "      <td>0</td>\n",
              "      <td>0</td>\n",
              "      <td>0</td>\n",
              "      <td>0</td>\n",
              "      <td>0</td>\n",
              "      <td>0</td>\n",
              "      <td>0</td>\n",
              "      <td>0</td>\n",
              "      <td>0</td>\n",
              "      <td>0</td>\n",
              "      <td>0</td>\n",
              "      <td>0</td>\n",
              "      <td>0</td>\n",
              "      <td>0</td>\n",
              "      <td>0</td>\n",
              "      <td>0</td>\n",
              "      <td>0</td>\n",
              "      <td>0</td>\n",
              "      <td>0</td>\n",
              "      <td>0</td>\n",
              "      <td>0</td>\n",
              "      <td>0</td>\n",
              "      <td>0</td>\n",
              "      <td>0</td>\n",
              "      <td>0</td>\n",
              "      <td>0</td>\n",
              "      <td>0</td>\n",
              "      <td>0</td>\n",
              "      <td>0</td>\n",
              "      <td>0</td>\n",
              "      <td>0</td>\n",
              "      <td>0</td>\n",
              "      <td>0</td>\n",
              "      <td>0</td>\n",
              "      <td>0</td>\n",
              "    </tr>\n",
              "  </tbody>\n",
              "</table>\n",
              "<p>5 rows × 785 columns</p>\n",
              "</div>"
            ],
            "text/plain": [
              "   label  pixel0  pixel1  pixel2  ...  pixel780  pixel781  pixel782  pixel783\n",
              "0      1       0       0       0  ...         0         0         0         0\n",
              "1      0       0       0       0  ...         0         0         0         0\n",
              "2      1       0       0       0  ...         0         0         0         0\n",
              "3      4       0       0       0  ...         0         0         0         0\n",
              "4      0       0       0       0  ...         0         0         0         0\n",
              "\n",
              "[5 rows x 785 columns]"
            ]
          },
          "metadata": {
            "tags": []
          },
          "execution_count": 39
        }
      ]
    },
    {
      "cell_type": "markdown",
      "metadata": {
        "id": "3WSUp9lVgW3M",
        "colab_type": "text"
      },
      "source": [
        "## 查看data"
      ]
    },
    {
      "cell_type": "code",
      "metadata": {
        "id": "Tv4kYfFXgT5Y",
        "colab_type": "code",
        "outputId": "ca9a387a-997f-4082-e172-6d828e37f8c1",
        "colab": {
          "base_uri": "https://localhost:8080/",
          "height": 116
        }
      },
      "source": [
        "def plot_three_samples():\n",
        "    plt.figure(figsize=(3,3))\n",
        "    imgs = [random.randint(0, np.size(train, 0)) for _ in range(0, 3)]\n",
        "    \n",
        "    for digit_num in range(0,3):\n",
        "        plt.subplot(1,3,digit_num+1)\n",
        "        grid_data = train.iloc[imgs[digit_num],1:].values.reshape(28,28)  # reshape from 1d to 2d pixel array\n",
        "        plt.imshow(grid_data, interpolation = \"none\", cmap = \"afmhot\")\n",
        "        plt.xticks([])\n",
        "        plt.yticks([])\n",
        "        \n",
        "    plt.tight_layout()\n",
        "    return\n",
        "\n",
        "plot_three_samples()"
      ],
      "execution_count": 40,
      "outputs": [
        {
          "output_type": "display_data",
          "data": {
            "image/png": "[encoded data removed]",
            "text/plain": [
              "<Figure size 300x300 with 3 Axes>"
            ]
          },
          "metadata": {
            "tags": []
          }
        }
      ]
    },
    {
      "cell_type": "markdown",
      "metadata": {
        "id": "7GMeD2oIeZYF",
        "colab_type": "text"
      },
      "source": [
        "## 設定常數"
      ]
    },
    {
      "cell_type": "code",
      "metadata": {
        "id": "BSq7nB9cbDj0",
        "colab_type": "code",
        "colab": {}
      },
      "source": [
        "target_dims = (28, 28, 1)\n",
        "n_classes = 10\n",
        "batch_size = 1024\n",
        "val_frac = 0.1\n",
        "seed = 24\n",
        "epochs = 50"
      ],
      "execution_count": 0,
      "outputs": []
    },
    {
      "cell_type": "markdown",
      "metadata": {
        "id": "pAnZ_prYeepa",
        "colab_type": "text"
      },
      "source": [
        "## 分割訓練與測試集"
      ]
    },
    {
      "cell_type": "code",
      "metadata": {
        "id": "hCXQuX96ZwDt",
        "colab_type": "code",
        "colab": {}
      },
      "source": [
        "train_data = train.iloc[:,1:]\n",
        "target = train.iloc[:,0]"
      ],
      "execution_count": 0,
      "outputs": []
    },
    {
      "cell_type": "code",
      "metadata": {
        "id": "P0gY6u-4a8xZ",
        "colab_type": "code",
        "colab": {}
      },
      "source": [
        "# target_onehot = to_categorical(target, num_classes=n_classes) # one-hot，不一定需要\n",
        "### 使用後差異會在兩個地方，一個是分割測試來源時，target不取valurs，\n",
        "### model的 loss 改用 categorical_crossentropy 而不是 sparse_categorical_crossentropy"
      ],
      "execution_count": 0,
      "outputs": []
    },
    {
      "cell_type": "code",
      "metadata": {
        "id": "F4rN0yNs0GMd",
        "colab_type": "code",
        "colab": {}
      },
      "source": [
        "x_train , x_test , y_train , y_test = train_test_split(train_data.values , target.values , test_size = 0.1, random_state = seed) "
      ],
      "execution_count": 0,
      "outputs": []
    },
    {
      "cell_type": "code",
      "metadata": {
        "id": "uzuwoS1x0bbG",
        "colab_type": "code",
        "colab": {}
      },
      "source": [
        "x_train_normalized = x_train.reshape(-1 , 28 , 28 , 1)/255\n",
        "x_test_normalized = x_test.reshape(-1 , 28 , 28 , 1)/255"
      ],
      "execution_count": 0,
      "outputs": []
    },
    {
      "cell_type": "code",
      "metadata": {
        "id": "Ib3aYNmBrTiq",
        "colab_type": "code",
        "colab": {}
      },
      "source": [
        "y_train_onehot = to_categorical(y_train, num_classes=n_classes)\n",
        "y_test_onehot = to_categorical(y_test, num_classes=n_classes)"
      ],
      "execution_count": 0,
      "outputs": []
    },
    {
      "cell_type": "code",
      "metadata": {
        "id": "K5RkrUezFamA",
        "colab_type": "code",
        "outputId": "dbdc3ebc-ef60-45ce-dde3-4cd519f76aff",
        "colab": {
          "base_uri": "https://localhost:8080/",
          "height": 34
        }
      },
      "source": [
        "print(x_train_normalized.shape, y_train_onehot.shape, test.shape)"
      ],
      "execution_count": 46,
      "outputs": [
        {
          "output_type": "stream",
          "text": [
            "(46800, 28, 28, 1) (46800, 10) (28000, 784)\n"
          ],
          "name": "stdout"
        }
      ]
    },
    {
      "cell_type": "markdown",
      "metadata": {
        "id": "RBqhQBBQz2qX",
        "colab_type": "text"
      },
      "source": [
        "## AI訓練"
      ]
    },
    {
      "cell_type": "markdown",
      "metadata": {
        "id": "TIMsUf_QfULU",
        "colab_type": "text"
      },
      "source": [
        "### 定義model"
      ]
    },
    {
      "cell_type": "code",
      "metadata": {
        "id": "_53mRdrVpOyX",
        "colab_type": "code",
        "colab": {}
      },
      "source": [
        "def cnn_model():\n",
        "    model = models.Sequential()\n",
        "    model.add(layers.Conv2D(32, kernel_size=(4, 4), strides=(2,2), input_shape=target_dims))\n",
        "    model.add(PReLU())\n",
        "    model.add(layers.Dropout(0.5))\n",
        "    model.add(BatchNormalization())\n",
        "    #model.add(layers.MaxPooling2D((2, 2)))\n",
        "    model.add(layers.Conv2D(64, (4, 4), strides=(2,2)))\n",
        "    model.add(PReLU())\n",
        "    model.add(layers.Dropout(0.5))\n",
        "    model.add(BatchNormalization())\n",
        "    #model.add(layers.MaxPooling2D((2, 2)))\n",
        "    model.add(layers.Conv2D(128, (3, 3), strides=(1,1)))\n",
        "    model.add(PReLU())\n",
        "    model.add(layers.Dropout(0.5))\n",
        "    model.add(BatchNormalization())\n",
        "    model.add(layers.Flatten())\n",
        "    model.add(layers.Dense(512))\n",
        "    model.add(PReLU())\n",
        "    model.add(layers.Dropout(0.25))\n",
        "    model.add(BatchNormalization())\n",
        "    model.add(layers.Dense(512))\n",
        "    model.add(PReLU())\n",
        "    model.add(layers.Dropout(0.25))\n",
        "    model.add(BatchNormalization())\n",
        "    model.add(layers.Dense(256))\n",
        "    model.add(PReLU())\n",
        "    model.add(layers.Dropout(0.25))\n",
        "    model.add(BatchNormalization())\n",
        "    model.add(layers.Dense(128))\n",
        "    model.add(PReLU())\n",
        "    model.add(BatchNormalization())\n",
        "    model.add(layers.Dense(n_classes, activation='sigmoid'))\n",
        "    return model"
      ],
      "execution_count": 0,
      "outputs": []
    },
    {
      "cell_type": "code",
      "metadata": {
        "id": "1QIwi6KVVqOD",
        "colab_type": "code",
        "colab": {}
      },
      "source": [
        "def cnn_model1():\n",
        "    model = Sequential()\n",
        "    model.add(Conv2D(filters = 16, kernel_size = (3,3), padding = 'Same', activation ='relu', input_shape = target_dims))\n",
        "    model.add(BatchNormalization())\n",
        "    model.add(MaxPooling2D(pool_size=(2,2)))\n",
        "    model.add(Dropout(0.25))\n",
        "    \n",
        "    model.add(Conv2D(filters = 32, kernel_size = (3,3), padding = 'Same', activation ='relu'))\n",
        "    model.add(BatchNormalization())\n",
        "    model.add(MaxPooling2D(pool_size=(2,2)))\n",
        "    model.add(Dropout(0.25))\n",
        "    \n",
        "    model.add(Conv2D(filters = 64, kernel_size = (2,2), padding = 'Same', activation ='relu'))\n",
        "    model.add(BatchNormalization())\n",
        "    model.add(MaxPooling2D(pool_size=(2,2)))\n",
        "    model.add(Dropout(0.25))\n",
        "    \n",
        "    model.add(Flatten())\n",
        "    model.add(Dense(512, activation = \"relu\"))\n",
        "    model.add(BatchNormalization())\n",
        "    model.add(Dropout(0.5))\n",
        "    model.add(Dense(n_classes, activation = \"softmax\"))\n",
        "    return model"
      ],
      "execution_count": 0,
      "outputs": []
    },
    {
      "cell_type": "code",
      "metadata": {
        "id": "j2eD-EX0gvVg",
        "colab_type": "code",
        "colab": {}
      },
      "source": [
        "def cnn_model2():\n",
        "    model = Sequential()\n",
        "\n",
        "    model.add(Conv2D(16, (5,5), activation=\"relu\", padding=\"same\", data_format=\"channels_last\", input_shape=target_dims))\n",
        "    model.add(MaxPooling2D(pool_size=(2,2), data_format=\"channels_last\"))\n",
        "\n",
        "    model.add(Conv2D(32, (5,5), activation=\"relu\", padding=\"same\", data_format=\"channels_last\"))\n",
        "    model.add(MaxPooling2D(pool_size=(2,2), data_format=\"channels_last\"))\n",
        "\n",
        "    model.add(Flatten())\n",
        "    model.add(Dense(128, activation=\"relu\"))\n",
        "    model.add(Dropout(0.5))\n",
        "    model.add(Dense(10, activation=\"softmax\"))\n",
        "    return model"
      ],
      "execution_count": 0,
      "outputs": []
    },
    {
      "cell_type": "code",
      "metadata": {
        "id": "q4CUy7OWVwRe",
        "colab_type": "code",
        "colab": {}
      },
      "source": [
        "model = cnn_model()"
      ],
      "execution_count": 0,
      "outputs": []
    },
    {
      "cell_type": "code",
      "metadata": {
        "id": "EPDABZJKurtP",
        "colab_type": "code",
        "outputId": "14cdbd07-e6a4-4177-fd43-eb42678d873f",
        "colab": {
          "base_uri": "https://localhost:8080/",
          "height": 1122
        }
      },
      "source": [
        "model.summary()"
      ],
      "execution_count": 29,
      "outputs": [
        {
          "output_type": "stream",
          "text": [
            "_________________________________________________________________\n",
            "Layer (type)                 Output Shape              Param #   \n",
            "=================================================================\n",
            "conv2d_6 (Conv2D)            (None, 13, 13, 32)        544       \n",
            "_________________________________________________________________\n",
            "p_re_lu_14 (PReLU)           (None, 13, 13, 32)        5408      \n",
            "_________________________________________________________________\n",
            "dropout_12 (Dropout)         (None, 13, 13, 32)        0         \n",
            "_________________________________________________________________\n",
            "batch_normalization_v1_14 (B (None, 13, 13, 32)        128       \n",
            "_________________________________________________________________\n",
            "conv2d_7 (Conv2D)            (None, 5, 5, 64)          32832     \n",
            "_________________________________________________________________\n",
            "p_re_lu_15 (PReLU)           (None, 5, 5, 64)          1600      \n",
            "_________________________________________________________________\n",
            "dropout_13 (Dropout)         (None, 5, 5, 64)          0         \n",
            "_________________________________________________________________\n",
            "batch_normalization_v1_15 (B (None, 5, 5, 64)          256       \n",
            "_________________________________________________________________\n",
            "conv2d_8 (Conv2D)            (None, 3, 3, 128)         73856     \n",
            "_________________________________________________________________\n",
            "p_re_lu_16 (PReLU)           (None, 3, 3, 128)         1152      \n",
            "_________________________________________________________________\n",
            "dropout_14 (Dropout)         (None, 3, 3, 128)         0         \n",
            "_________________________________________________________________\n",
            "batch_normalization_v1_16 (B (None, 3, 3, 128)         512       \n",
            "_________________________________________________________________\n",
            "flatten_2 (Flatten)          (None, 1152)              0         \n",
            "_________________________________________________________________\n",
            "dense_10 (Dense)             (None, 512)               590336    \n",
            "_________________________________________________________________\n",
            "p_re_lu_17 (PReLU)           (None, 512)               512       \n",
            "_________________________________________________________________\n",
            "dropout_15 (Dropout)         (None, 512)               0         \n",
            "_________________________________________________________________\n",
            "batch_normalization_v1_17 (B (None, 512)               2048      \n",
            "_________________________________________________________________\n",
            "dense_11 (Dense)             (None, 512)               262656    \n",
            "_________________________________________________________________\n",
            "p_re_lu_18 (PReLU)           (None, 512)               512       \n",
            "_________________________________________________________________\n",
            "dropout_16 (Dropout)         (None, 512)               0         \n",
            "_________________________________________________________________\n",
            "batch_normalization_v1_18 (B (None, 512)               2048      \n",
            "_________________________________________________________________\n",
            "dense_12 (Dense)             (None, 256)               131328    \n",
            "_________________________________________________________________\n",
            "p_re_lu_19 (PReLU)           (None, 256)               256       \n",
            "_________________________________________________________________\n",
            "dropout_17 (Dropout)         (None, 256)               0         \n",
            "_________________________________________________________________\n",
            "batch_normalization_v1_19 (B (None, 256)               1024      \n",
            "_________________________________________________________________\n",
            "dense_13 (Dense)             (None, 128)               32896     \n",
            "_________________________________________________________________\n",
            "p_re_lu_20 (PReLU)           (None, 128)               128       \n",
            "_________________________________________________________________\n",
            "batch_normalization_v1_20 (B (None, 128)               512       \n",
            "_________________________________________________________________\n",
            "dense_14 (Dense)             (None, 10)                1290      \n",
            "=================================================================\n",
            "Total params: 1,141,834\n",
            "Trainable params: 1,138,570\n",
            "Non-trainable params: 3,264\n",
            "_________________________________________________________________\n"
          ],
          "name": "stdout"
        }
      ]
    },
    {
      "cell_type": "code",
      "metadata": {
        "id": "lLygHtlOu3jT",
        "colab_type": "code",
        "colab": {}
      },
      "source": [
        "# 定義訓練方式\n",
        "# loss function: 交叉熵\n",
        "# optimizer: Adam\n",
        "# 評估模型: 準確率\n",
        "# model.compile(loss='categorical_crossentropy', optimizer=Adam(), metrics=['accuracy'])\n",
        "model.compile(loss='binary_crossentropy', optimizer=Adam(), metrics=['accuracy'])"
      ],
      "execution_count": 0,
      "outputs": []
    },
    {
      "cell_type": "code",
      "metadata": {
        "id": "0btLsbC4hRTi",
        "colab_type": "code",
        "colab": {}
      },
      "source": [
        "optimizer = optimizers.RMSprop(lr=0.001, rho=0.9, epsilon=1e-08, decay=0.0)\n",
        "model.compile(optimizer = optimizer , loss = \"categorical_crossentropy\", metrics=[\"accuracy\"])"
      ],
      "execution_count": 0,
      "outputs": []
    },
    {
      "cell_type": "markdown",
      "metadata": {
        "id": "LosrFEm1hGiK",
        "colab_type": "text"
      },
      "source": [
        "### 設定data generator"
      ]
    },
    {
      "cell_type": "code",
      "metadata": {
        "id": "ErPKTjTh0mNi",
        "colab_type": "code",
        "colab": {}
      },
      "source": [
        "datagen = ImageDataGenerator(\n",
        "                              featurewise_center = False,  # set input mean to 0 over the dataset\n",
        "                              samplewise_center = False,  # set each sample mean to 0\n",
        "                              featurewise_std_normalization = False,  # divide inputs by std of the dataset\n",
        "                              samplewise_std_normalization = False,  # divide each input by its std\n",
        "                              zca_whitening = False,  # apply ZCA whitening\n",
        "                              rotation_range = 10,  # randomly rotate images in the range (degrees, 0 to 180)\n",
        "                              zoom_range = 0.1, # Randomly zoom image \n",
        "                              width_shift_range = 0.1,  # randomly shift images horizontally (fraction of total width)\n",
        "                              height_shift_range = 0.1,  # randomly shift images vertically (fraction of total height)\n",
        "                              horizontal_flip = False,  # randomly flip images\n",
        "                              vertical_flip = False, # randomly flip images\n",
        "                              validation_split = val_frac\n",
        "                            )"
      ],
      "execution_count": 0,
      "outputs": []
    },
    {
      "cell_type": "markdown",
      "metadata": {
        "id": "RF-xzmCqhhAy",
        "colab_type": "text"
      },
      "source": [
        "### 設定 callback\n",
        "\n",
        "用來調整learning rate加強學習效果"
      ]
    },
    {
      "cell_type": "code",
      "metadata": {
        "id": "No0ZvBhm03fm",
        "colab_type": "code",
        "colab": {}
      },
      "source": [
        "lr_reduction = ReduceLROnPlateau(monitor='val_acc', \n",
        "                                 patience=2, # 三個epoch沒有進展\n",
        "                                 verbose=1, \n",
        "                                 factor=0.5, # 縮小一半的learning rate\n",
        "                                 min_lr=0.00001 # 最小下降幅度\n",
        "                                )"
      ],
      "execution_count": 0,
      "outputs": []
    },
    {
      "cell_type": "code",
      "metadata": {
        "id": "E8EoHKXA-DEI",
        "colab_type": "code",
        "colab": {}
      },
      "source": [
        "es = EarlyStopping(monitor='val_acc', \n",
        "                   mode='max', \n",
        "                   verbose=1, \n",
        "                   patience=50, \n",
        "                   restore_best_weights=True\n",
        "                  )"
      ],
      "execution_count": 0,
      "outputs": []
    },
    {
      "cell_type": "code",
      "metadata": {
        "id": "HN_PqxRNeof6",
        "colab_type": "code",
        "colab": {}
      },
      "source": [
        "lrs = LearningRateScheduler(lambda x: 1e-3 * 0.95 ** x)"
      ],
      "execution_count": 0,
      "outputs": []
    },
    {
      "cell_type": "markdown",
      "metadata": {
        "id": "fG8Q0FPUhl8K",
        "colab_type": "text"
      },
      "source": [
        "### 訓練"
      ]
    },
    {
      "cell_type": "code",
      "metadata": {
        "id": "0vYI0pi5vezM",
        "colab_type": "code",
        "colab": {}
      },
      "source": [
        "train_history = model.fit(x_train_normalized, y_train_onehot, validation_split=0.2, epochs=epochs, batch_size=batch_size, verbose=1)"
      ],
      "execution_count": 0,
      "outputs": []
    },
    {
      "cell_type": "code",
      "metadata": {
        "id": "KNxJ1wRe08vn",
        "colab_type": "code",
        "colab": {}
      },
      "source": [
        "datagen.fit(x_train_normalized)\n",
        "\n",
        "train_generator = datagen.flow(x_train_normalized, y_train_onehot, batch_size = batch_size)\n",
        "train_history = model.fit_generator(train_generator,\n",
        "                                    steps_per_epoch = x_train_normalized.shape[0],\n",
        "                                    validation_data = (x_test_normalized, y_test_onehot), # 訓練同時測試\n",
        "                                    epochs = epochs,\n",
        "                                    verbose = 1,\n",
        "                                    callbacks = [lr_reduction, es]\n",
        "                                   )"
      ],
      "execution_count": 0,
      "outputs": []
    },
    {
      "cell_type": "code",
      "metadata": {
        "id": "DQFKvOlf2Jz9",
        "colab_type": "code",
        "outputId": "af273826-278d-4cee-a13c-b8266ef6ce84",
        "colab": {
          "base_uri": "https://localhost:8080/",
          "height": 51
        }
      },
      "source": [
        "final_loss, final_acc = model.evaluate(x_test_normalized, y_test_onehot, verbose=0) # 其他測試方式\n",
        "print('loss =' , final_loss , '\\naccuracy' , final_acc)"
      ],
      "execution_count": 32,
      "outputs": [
        {
          "output_type": "stream",
          "text": [
            "loss = 0.005584231955894771 \n",
            "accuracy 0.9982693\n"
          ],
          "name": "stdout"
        }
      ]
    },
    {
      "cell_type": "code",
      "metadata": {
        "id": "vMfNO6s2h5pU",
        "colab_type": "code",
        "colab": {}
      },
      "source": [
        "model.save_weights(\"model.h5\")"
      ],
      "execution_count": 0,
      "outputs": []
    },
    {
      "cell_type": "markdown",
      "metadata": {
        "id": "GUDX7s_N0FGr",
        "colab_type": "text"
      },
      "source": [
        "### 完整範例流程"
      ]
    },
    {
      "cell_type": "code",
      "metadata": {
        "id": "wPKWga6fU-X7",
        "colab_type": "code",
        "outputId": "26aa452f-6de9-4bbb-f2d6-55c1a457c7cb",
        "colab": {
          "base_uri": "https://localhost:8080/",
          "height": 139
        }
      },
      "source": [
        "# model = cnn_model1()\n",
        "model = cnn_model2()"
      ],
      "execution_count": 0,
      "outputs": [
        {
          "output_type": "stream",
          "text": [
            "WARNING:tensorflow:From /usr/local/lib/python3.6/dist-packages/tensorflow/python/ops/resource_variable_ops.py:435: colocate_with (from tensorflow.python.framework.ops) is deprecated and will be removed in a future version.\n",
            "Instructions for updating:\n",
            "Colocations handled automatically by placer.\n",
            "WARNING:tensorflow:From /usr/local/lib/python3.6/dist-packages/tensorflow/python/keras/layers/core.py:143: calling dropout (from tensorflow.python.ops.nn_ops) with keep_prob is deprecated and will be removed in a future version.\n",
            "Instructions for updating:\n",
            "Please use `rate` instead of `keep_prob`. Rate should be set to `rate = 1 - keep_prob`.\n"
          ],
          "name": "stdout"
        }
      ]
    },
    {
      "cell_type": "code",
      "metadata": {
        "id": "wJvyaxn_VFv-",
        "colab_type": "code",
        "outputId": "44193641-d37f-45ff-b68e-1ca3d6d71946",
        "colab": {
          "base_uri": "https://localhost:8080/",
          "height": 408
        }
      },
      "source": [
        "model.summary()\n",
        "model.compile(loss='categorical_crossentropy', optimizer=Adam(), metrics=['accuracy'])"
      ],
      "execution_count": 0,
      "outputs": [
        {
          "output_type": "stream",
          "text": [
            "_________________________________________________________________\n",
            "Layer (type)                 Output Shape              Param #   \n",
            "=================================================================\n",
            "conv2d (Conv2D)              (None, 28, 28, 16)        416       \n",
            "_________________________________________________________________\n",
            "max_pooling2d (MaxPooling2D) (None, 14, 14, 16)        0         \n",
            "_________________________________________________________________\n",
            "conv2d_1 (Conv2D)            (None, 14, 14, 32)        12832     \n",
            "_________________________________________________________________\n",
            "max_pooling2d_1 (MaxPooling2 (None, 7, 7, 32)          0         \n",
            "_________________________________________________________________\n",
            "flatten (Flatten)            (None, 1568)              0         \n",
            "_________________________________________________________________\n",
            "dense (Dense)                (None, 128)               200832    \n",
            "_________________________________________________________________\n",
            "dropout (Dropout)            (None, 128)               0         \n",
            "_________________________________________________________________\n",
            "dense_1 (Dense)              (None, 10)                1290      \n",
            "=================================================================\n",
            "Total params: 215,370\n",
            "Trainable params: 215,370\n",
            "Non-trainable params: 0\n",
            "_________________________________________________________________\n"
          ],
          "name": "stdout"
        }
      ]
    },
    {
      "cell_type": "code",
      "metadata": {
        "id": "M1hZ9Wmr0MW4",
        "colab_type": "code",
        "colab": {
          "base_uri": "https://localhost:8080/",
          "height": 1992
        },
        "outputId": "3d2bb3f6-6121-4009-e2b5-629071cd6308"
      },
      "source": [
        "# 直接使用來源資料\n",
        "train_history = model.fit(x_train_normalized, \n",
        "                          y_train_onehot, \n",
        "#                           validation_split = 0.2, # 沒有驗證集的時候使用的\n",
        "                          epochs = epochs, \n",
        "                          batch_size = batch_size, \n",
        "                          verbose=1,\n",
        "                          callbacks = [lr_reduction, es],\n",
        "                          validation_data = (x_test_normalized, y_test_onehot)\n",
        "                         )"
      ],
      "execution_count": 31,
      "outputs": [
        {
          "output_type": "stream",
          "text": [
            "Train on 46800 samples, validate on 5200 samples\n",
            "Epoch 1/50\n",
            "46800/46800 [==============================] - 62s 1ms/sample - loss: 0.6719 - acc: 0.6278 - val_loss: 0.7150 - val_acc: 0.8254\n",
            "Epoch 2/50\n",
            "46800/46800 [==============================] - 59s 1ms/sample - loss: 0.3587 - acc: 0.9006 - val_loss: 0.7123 - val_acc: 0.8417\n",
            "Epoch 3/50\n",
            "46800/46800 [==============================] - 60s 1ms/sample - loss: 0.1483 - acc: 0.9739 - val_loss: 0.5970 - val_acc: 0.8504\n",
            "Epoch 4/50\n",
            "46800/46800 [==============================] - 59s 1ms/sample - loss: 0.0759 - acc: 0.9837 - val_loss: 0.4731 - val_acc: 0.8771\n",
            "Epoch 5/50\n",
            "46800/46800 [==============================] - 58s 1ms/sample - loss: 0.0523 - acc: 0.9871 - val_loss: 0.3127 - val_acc: 0.9083\n",
            "Epoch 6/50\n",
            "46800/46800 [==============================] - 58s 1ms/sample - loss: 0.0411 - acc: 0.9892 - val_loss: 0.2052 - val_acc: 0.9314\n",
            "Epoch 7/50\n",
            "46800/46800 [==============================] - 58s 1ms/sample - loss: 0.0344 - acc: 0.9905 - val_loss: 0.1050 - val_acc: 0.9634\n",
            "Epoch 8/50\n",
            "46800/46800 [==============================] - 58s 1ms/sample - loss: 0.0296 - acc: 0.9916 - val_loss: 0.0937 - val_acc: 0.9676\n",
            "Epoch 9/50\n",
            "46800/46800 [==============================] - 59s 1ms/sample - loss: 0.0262 - acc: 0.9922 - val_loss: 0.0526 - val_acc: 0.9819\n",
            "Epoch 10/50\n",
            "46800/46800 [==============================] - 59s 1ms/sample - loss: 0.0239 - acc: 0.9929 - val_loss: 0.0319 - val_acc: 0.9897\n",
            "Epoch 11/50\n",
            "46800/46800 [==============================] - 59s 1ms/sample - loss: 0.0221 - acc: 0.9932 - val_loss: 0.0192 - val_acc: 0.9945\n",
            "Epoch 12/50\n",
            "46800/46800 [==============================] - 59s 1ms/sample - loss: 0.0202 - acc: 0.9938 - val_loss: 0.0149 - val_acc: 0.9957\n",
            "Epoch 13/50\n",
            "46800/46800 [==============================] - 59s 1ms/sample - loss: 0.0186 - acc: 0.9943 - val_loss: 0.0102 - val_acc: 0.9971\n",
            "Epoch 14/50\n",
            "46800/46800 [==============================] - 59s 1ms/sample - loss: 0.0173 - acc: 0.9947 - val_loss: 0.0110 - val_acc: 0.9968\n",
            "Epoch 15/50\n",
            "46800/46800 [==============================] - 59s 1ms/sample - loss: 0.0166 - acc: 0.9949 - val_loss: 0.0087 - val_acc: 0.9974\n",
            "Epoch 16/50\n",
            "46800/46800 [==============================] - 59s 1ms/sample - loss: 0.0154 - acc: 0.9951 - val_loss: 0.0083 - val_acc: 0.9975\n",
            "Epoch 17/50\n",
            "46800/46800 [==============================] - 58s 1ms/sample - loss: 0.0150 - acc: 0.9954 - val_loss: 0.0077 - val_acc: 0.9977\n",
            "Epoch 18/50\n",
            "46800/46800 [==============================] - 58s 1ms/sample - loss: 0.0143 - acc: 0.9955 - val_loss: 0.0072 - val_acc: 0.9978\n",
            "Epoch 19/50\n",
            "46800/46800 [==============================] - 59s 1ms/sample - loss: 0.0135 - acc: 0.9957 - val_loss: 0.0071 - val_acc: 0.9979\n",
            "Epoch 20/50\n",
            "46800/46800 [==============================] - 59s 1ms/sample - loss: 0.0130 - acc: 0.9959 - val_loss: 0.0066 - val_acc: 0.9980\n",
            "Epoch 21/50\n",
            "46800/46800 [==============================] - 59s 1ms/sample - loss: 0.0121 - acc: 0.9961 - val_loss: 0.0066 - val_acc: 0.9981\n",
            "Epoch 22/50\n",
            "46080/46800 [============================>.] - ETA: 0s - loss: 0.0120 - acc: 0.9960\n",
            "Epoch 00022: ReduceLROnPlateau reducing learning rate to 0.0005000000237487257.\n",
            "46800/46800 [==============================] - 60s 1ms/sample - loss: 0.0120 - acc: 0.9960 - val_loss: 0.0064 - val_acc: 0.9978\n",
            "Epoch 23/50\n",
            "46800/46800 [==============================] - 58s 1ms/sample - loss: 0.0111 - acc: 0.9965 - val_loss: 0.0061 - val_acc: 0.9979\n",
            "Epoch 24/50\n",
            "46800/46800 [==============================] - 58s 1ms/sample - loss: 0.0106 - acc: 0.9967 - val_loss: 0.0058 - val_acc: 0.9982\n",
            "Epoch 25/50\n",
            "46800/46800 [==============================] - 59s 1ms/sample - loss: 0.0100 - acc: 0.9968 - val_loss: 0.0060 - val_acc: 0.9983\n",
            "Epoch 26/50\n",
            "46080/46800 [============================>.] - ETA: 0s - loss: 0.0101 - acc: 0.9968\n",
            "Epoch 00026: ReduceLROnPlateau reducing learning rate to 0.0002500000118743628.\n",
            "46800/46800 [==============================] - 59s 1ms/sample - loss: 0.0101 - acc: 0.9968 - val_loss: 0.0058 - val_acc: 0.9983\n",
            "Epoch 27/50\n",
            "46800/46800 [==============================] - 59s 1ms/sample - loss: 0.0101 - acc: 0.9967 - val_loss: 0.0057 - val_acc: 0.9982\n",
            "Epoch 28/50\n",
            "46080/46800 [============================>.] - ETA: 0s - loss: 0.0098 - acc: 0.9968\n",
            "Epoch 00028: ReduceLROnPlateau reducing learning rate to 0.0001250000059371814.\n",
            "46800/46800 [==============================] - 59s 1ms/sample - loss: 0.0098 - acc: 0.9968 - val_loss: 0.0056 - val_acc: 0.9982\n",
            "Epoch 29/50\n",
            "46800/46800 [==============================] - 60s 1ms/sample - loss: 0.0096 - acc: 0.9969 - val_loss: 0.0058 - val_acc: 0.9982\n",
            "Epoch 30/50\n",
            "46080/46800 [============================>.] - ETA: 0s - loss: 0.0097 - acc: 0.9970\n",
            "Epoch 00030: ReduceLROnPlateau reducing learning rate to 6.25000029685907e-05.\n",
            "46800/46800 [==============================] - 59s 1ms/sample - loss: 0.0096 - acc: 0.9970 - val_loss: 0.0057 - val_acc: 0.9982\n",
            "Epoch 31/50\n",
            "46800/46800 [==============================] - 59s 1ms/sample - loss: 0.0092 - acc: 0.9971 - val_loss: 0.0057 - val_acc: 0.9982\n",
            "Epoch 32/50\n",
            "46080/46800 [============================>.] - ETA: 0s - loss: 0.0090 - acc: 0.9972\n",
            "Epoch 00032: ReduceLROnPlateau reducing learning rate to 3.125000148429535e-05.\n",
            "46800/46800 [==============================] - 59s 1ms/sample - loss: 0.0090 - acc: 0.9972 - val_loss: 0.0057 - val_acc: 0.9981\n",
            "Epoch 33/50\n",
            "46800/46800 [==============================] - 59s 1ms/sample - loss: 0.0092 - acc: 0.9969 - val_loss: 0.0057 - val_acc: 0.9982\n",
            "Epoch 34/50\n",
            "46080/46800 [============================>.] - ETA: 0s - loss: 0.0092 - acc: 0.9971\n",
            "Epoch 00034: ReduceLROnPlateau reducing learning rate to 1.5625000742147677e-05.\n",
            "46800/46800 [==============================] - 59s 1ms/sample - loss: 0.0092 - acc: 0.9971 - val_loss: 0.0057 - val_acc: 0.9982\n",
            "Epoch 35/50\n",
            "46800/46800 [==============================] - 58s 1ms/sample - loss: 0.0092 - acc: 0.9970 - val_loss: 0.0056 - val_acc: 0.9982\n",
            "Epoch 36/50\n",
            "46080/46800 [============================>.] - ETA: 0s - loss: 0.0093 - acc: 0.9970\n",
            "Epoch 00036: ReduceLROnPlateau reducing learning rate to 1e-05.\n",
            "46800/46800 [==============================] - 58s 1ms/sample - loss: 0.0093 - acc: 0.9970 - val_loss: 0.0056 - val_acc: 0.9982\n",
            "Epoch 37/50\n",
            "46800/46800 [==============================] - 58s 1ms/sample - loss: 0.0089 - acc: 0.9971 - val_loss: 0.0056 - val_acc: 0.9982\n",
            "Epoch 38/50\n",
            "46800/46800 [==============================] - 60s 1ms/sample - loss: 0.0092 - acc: 0.9971 - val_loss: 0.0056 - val_acc: 0.9982\n",
            "Epoch 39/50\n",
            "46800/46800 [==============================] - 59s 1ms/sample - loss: 0.0091 - acc: 0.9972 - val_loss: 0.0056 - val_acc: 0.9982\n",
            "Epoch 40/50\n",
            "46800/46800 [==============================] - 59s 1ms/sample - loss: 0.0089 - acc: 0.9972 - val_loss: 0.0056 - val_acc: 0.9983\n",
            "Epoch 41/50\n",
            "46800/46800 [==============================] - 59s 1ms/sample - loss: 0.0092 - acc: 0.9969 - val_loss: 0.0056 - val_acc: 0.9983\n",
            "Epoch 42/50\n",
            "46800/46800 [==============================] - 59s 1ms/sample - loss: 0.0090 - acc: 0.9972 - val_loss: 0.0056 - val_acc: 0.9983\n",
            "Epoch 43/50\n",
            "46800/46800 [==============================] - 59s 1ms/sample - loss: 0.0089 - acc: 0.9971 - val_loss: 0.0056 - val_acc: 0.9982\n",
            "Epoch 44/50\n",
            "46800/46800 [==============================] - 58s 1ms/sample - loss: 0.0092 - acc: 0.9969 - val_loss: 0.0056 - val_acc: 0.9982\n",
            "Epoch 45/50\n",
            "46800/46800 [==============================] - 59s 1ms/sample - loss: 0.0089 - acc: 0.9972 - val_loss: 0.0056 - val_acc: 0.9983\n",
            "Epoch 46/50\n",
            "46800/46800 [==============================] - 59s 1ms/sample - loss: 0.0089 - acc: 0.9971 - val_loss: 0.0056 - val_acc: 0.9983\n",
            "Epoch 47/50\n",
            "46800/46800 [==============================] - 58s 1ms/sample - loss: 0.0090 - acc: 0.9971 - val_loss: 0.0056 - val_acc: 0.9983\n",
            "Epoch 48/50\n",
            "46800/46800 [==============================] - 57s 1ms/sample - loss: 0.0090 - acc: 0.9971 - val_loss: 0.0056 - val_acc: 0.9983\n",
            "Epoch 49/50\n",
            "46800/46800 [==============================] - 57s 1ms/sample - loss: 0.0091 - acc: 0.9971 - val_loss: 0.0056 - val_acc: 0.9983\n",
            "Epoch 50/50\n",
            "46800/46800 [==============================] - 58s 1ms/sample - loss: 0.0089 - acc: 0.9972 - val_loss: 0.0056 - val_acc: 0.9983\n"
          ],
          "name": "stdout"
        }
      ]
    },
    {
      "cell_type": "code",
      "metadata": {
        "id": "O7VUhf323OeD",
        "colab_type": "code",
        "colab": {}
      },
      "source": [
        "# 使用generator來增加測試資料\n",
        "datagen.fit(x_train_normalized)\n",
        "\n",
        "train_generator = datagen.flow(x_train_normalized, y_train_onehot, batch_size = batch_size)\n",
        "train_history = model.fit_generator(train_generator,\n",
        "                                    steps_per_epoch = x_train_normalized.shape[0],\n",
        "                                    validation_data = (x_test_normalized, y_test_onehot), # 訓練同時測試\n",
        "                                    epochs = epochs,\n",
        "                                    verbose = 1,\n",
        "                                    callbacks = [lr_reduction, es]\n",
        "                                   )"
      ],
      "execution_count": 0,
      "outputs": []
    },
    {
      "cell_type": "markdown",
      "metadata": {
        "id": "xFKaN0_Rh-BZ",
        "colab_type": "text"
      },
      "source": [
        "## 圖形化訓練結果"
      ]
    },
    {
      "cell_type": "code",
      "metadata": {
        "id": "DdLNQ8SslegP",
        "colab_type": "code",
        "colab": {}
      },
      "source": [
        "def show_train_history(train_history, train, validation):\n",
        "    plt.plot(train_history.history[train], label = train)\n",
        "    plt.plot(train_history.history[validation], label = validation)\n",
        "    plt.title(\"Train History\")\n",
        "    plt.ylabel(train)\n",
        "    plt.xlabel('Epoch')\n",
        "    return"
      ],
      "execution_count": 0,
      "outputs": []
    },
    {
      "cell_type": "code",
      "metadata": {
        "id": "v51Jbf1GiFOm",
        "colab_type": "code",
        "outputId": "07921596-02a7-4b67-e9b1-532b6e1185ea",
        "colab": {
          "base_uri": "https://localhost:8080/",
          "height": 427
        }
      },
      "source": [
        "plt.figure(figsize=(11, 4))\n",
        "\n",
        "plt.subplot(1, 2, 1)\n",
        "show_train_history(train_history, 'acc', 'val_acc')\n",
        "plt.legend()\n",
        "\n",
        "plt.subplot(1, 2, 2)\n",
        "show_train_history(train_history, 'loss', 'val_loss')\n",
        "plt.legend()"
      ],
      "execution_count": 34,
      "outputs": [
        {
          "output_type": "execute_result",
          "data": {
            "text/plain": [
              "<matplotlib.legend.Legend at 0x7fb38878d0b8>"
            ]
          },
          "metadata": {
            "tags": []
          },
          "execution_count": 34
        },
        {
          "output_type": "display_data",
          "data": {
            "image/png": "[encoded data removed]",
            "text/plain": [
              "<Figure size 1100x400 with 2 Axes>"
            ]
          },
          "metadata": {
            "tags": []
          }
        }
      ]
    },
    {
      "cell_type": "markdown",
      "metadata": {
        "id": "mpKsuUZpwmt5",
        "colab_type": "text"
      },
      "source": [
        "## 檢視驗證集"
      ]
    },
    {
      "cell_type": "code",
      "metadata": {
        "id": "s5Fzli6LiAHy",
        "colab_type": "code",
        "colab": {}
      },
      "source": [
        "results = model.predict(x_test_normalized)\n",
        "results = np.argmax(results , axis = 1)\n",
        "cm = confusion_matrix(y_test, results)"
      ],
      "execution_count": 0,
      "outputs": []
    },
    {
      "cell_type": "code",
      "metadata": {
        "id": "lOf3sPWCjGSs",
        "colab_type": "code",
        "colab": {}
      },
      "source": [
        "import itertools\n",
        "def plot_confusion_matrix(cm, classes, normalize=False, title=\"Confusion Matrix\", cmap=plt.cm.Blues):\n",
        "    plt.figure()\n",
        "    plt.imshow(cm, interpolation='nearest', cmap=cmap)\n",
        "    plt.title(title)\n",
        "    plt.colorbar()\n",
        "    tick_marks = np.arange(len(classes))\n",
        "    plt.xticks(tick_marks, classes, rotation=45)\n",
        "    plt.yticks(tick_marks, classes)\n",
        "    if normalize:\n",
        "        cm = cm.astype('float') / cm.sum(axis=1)[:, np.newaxis]\n",
        "    thresh = cm.max() / 2\n",
        "    for i, j in itertools.product(range(cm.shape[0]), range(cm.shape[1])):\n",
        "        plt.text(j, i, cm[i, j], horizontalalignment=\"center\", color=\"white\" if cm[i, j] > thresh else \"black\")\n",
        "    \n",
        "    plt.tight_layout()\n",
        "    plt.ylabel('True label')\n",
        "    plt.xlabel('Predicted label')"
      ],
      "execution_count": 0,
      "outputs": []
    },
    {
      "cell_type": "code",
      "metadata": {
        "id": "elDk-yvXisLw",
        "colab_type": "code",
        "outputId": "bcc56aaa-4492-4faa-cab2-c314e03fffcd",
        "colab": {
          "base_uri": "https://localhost:8080/",
          "height": 311
        }
      },
      "source": [
        "plot_confusion_matrix(cm, range(0, 9))"
      ],
      "execution_count": 63,
      "outputs": [
        {
          "output_type": "display_data",
          "data": {
            "image/png": "[encoded data removed]",
            "text/plain": [
              "<Figure size 432x288 with 2 Axes>"
            ]
          },
          "metadata": {
            "tags": []
          }
        }
      ]
    },
    {
      "cell_type": "code",
      "metadata": {
        "id": "C42b-E-hui0w",
        "colab_type": "code",
        "outputId": "bad7db4d-3e7b-4624-8087-6f2b0dcb7f79",
        "colab": {
          "base_uri": "https://localhost:8080/",
          "height": 281
        }
      },
      "source": [
        "incorrect = np.where(y_test != results)[0]\n",
        "for i in range(0, 9):\n",
        "    plt.subplot(3, 3, i+1)\n",
        "    idx = incorrect[i]\n",
        "    img = x_test[idx].reshape(28,28)\n",
        "    plt.imshow(img, cmap=\"gray\")\n",
        "    plt.title(\"{}/{}\".format(y_test[idx], results[idx]))"
      ],
      "execution_count": 64,
      "outputs": [
        {
          "output_type": "display_data",
          "data": {
            "image/png": "[encoded data removed]",
            "text/plain": [
              "<Figure size 432x288 with 9 Axes>"
            ]
          },
          "metadata": {
            "tags": []
          }
        }
      ]
    },
    {
      "cell_type": "code",
      "metadata": {
        "id": "2LzViEM0utX9",
        "colab_type": "code",
        "outputId": "a46f1573-5290-45f1-e1c4-b6a0bec0c208",
        "colab": {
          "base_uri": "https://localhost:8080/",
          "height": 281
        }
      },
      "source": [
        "correct = np.where(y_test == results)[0]\n",
        "for i in range(0, 9):\n",
        "    plt.subplot(3, 3, i+1)\n",
        "    idx = correct[i]\n",
        "    img = x_test[idx].reshape(28,28)\n",
        "    plt.imshow(img, cmap=\"gray\")\n",
        "    plt.title(\"{}\".format(y_test[idx]))"
      ],
      "execution_count": 0,
      "outputs": [
        {
          "output_type": "display_data",
          "data": {
            "image/png": "[encoded data removed]",
            "text/plain": [
              "<Figure size 432x288 with 9 Axes>"
            ]
          },
          "metadata": {
            "tags": []
          }
        }
      ]
    },
    {
      "cell_type": "markdown",
      "metadata": {
        "id": "fvmGrOCQi1Rx",
        "colab_type": "text"
      },
      "source": [
        "## 預測與準備上傳檔案"
      ]
    },
    {
      "cell_type": "code",
      "metadata": {
        "id": "86ClAYqruHSh",
        "colab_type": "code",
        "colab": {}
      },
      "source": [
        "test = test.values\n",
        "test = test.reshape(-1 , 28 , 28 ,1)/255"
      ],
      "execution_count": 0,
      "outputs": []
    },
    {
      "cell_type": "code",
      "metadata": {
        "id": "kNeMBj3Z2N9B",
        "colab_type": "code",
        "colab": {}
      },
      "source": [
        "pre = model.predict(test, batch_size=batch_size)"
      ],
      "execution_count": 0,
      "outputs": []
    },
    {
      "cell_type": "code",
      "metadata": {
        "id": "N3lWaoM12RsX",
        "colab_type": "code",
        "colab": {}
      },
      "source": [
        "pre = np.argmax(pre , axis = 1)"
      ],
      "execution_count": 0,
      "outputs": []
    },
    {
      "cell_type": "code",
      "metadata": {
        "id": "ToOSFE7N2XPo",
        "colab_type": "code",
        "outputId": "d98ba767-8368-4e9a-fb18-816ca3d3565d",
        "colab": {
          "base_uri": "https://localhost:8080/",
          "height": 34
        }
      },
      "source": [
        "pre"
      ],
      "execution_count": 37,
      "outputs": [
        {
          "output_type": "execute_result",
          "data": {
            "text/plain": [
              "array([2, 0, 9, ..., 3, 9, 2])"
            ]
          },
          "metadata": {
            "tags": []
          },
          "execution_count": 37
        }
      ]
    },
    {
      "cell_type": "code",
      "metadata": {
        "id": "OiAjjYFR2X-l",
        "colab_type": "code",
        "outputId": "b6fb12b7-fd05-4380-a9ba-c8b7f7d43627",
        "colab": {
          "base_uri": "https://localhost:8080/",
          "height": 204
        }
      },
      "source": [
        "submit.head()"
      ],
      "execution_count": 0,
      "outputs": [
        {
          "output_type": "execute_result",
          "data": {
            "text/html": [
              "<div>\n",
              "<style scoped>\n",
              "    .dataframe tbody tr th:only-of-type {\n",
              "        vertical-align: middle;\n",
              "    }\n",
              "\n",
              "    .dataframe tbody tr th {\n",
              "        vertical-align: top;\n",
              "    }\n",
              "\n",
              "    .dataframe thead th {\n",
              "        text-align: right;\n",
              "    }\n",
              "</style>\n",
              "<table border=\"1\" class=\"dataframe\">\n",
              "  <thead>\n",
              "    <tr style=\"text-align: right;\">\n",
              "      <th></th>\n",
              "      <th>ImageId</th>\n",
              "      <th>Label</th>\n",
              "    </tr>\n",
              "  </thead>\n",
              "  <tbody>\n",
              "    <tr>\n",
              "      <th>0</th>\n",
              "      <td>1</td>\n",
              "      <td>0</td>\n",
              "    </tr>\n",
              "    <tr>\n",
              "      <th>1</th>\n",
              "      <td>2</td>\n",
              "      <td>0</td>\n",
              "    </tr>\n",
              "    <tr>\n",
              "      <th>2</th>\n",
              "      <td>3</td>\n",
              "      <td>0</td>\n",
              "    </tr>\n",
              "    <tr>\n",
              "      <th>3</th>\n",
              "      <td>4</td>\n",
              "      <td>0</td>\n",
              "    </tr>\n",
              "    <tr>\n",
              "      <th>4</th>\n",
              "      <td>5</td>\n",
              "      <td>0</td>\n",
              "    </tr>\n",
              "  </tbody>\n",
              "</table>\n",
              "</div>"
            ],
            "text/plain": [
              "   ImageId  Label\n",
              "0        1      0\n",
              "1        2      0\n",
              "2        3      0\n",
              "3        4      0\n",
              "4        5      0"
            ]
          },
          "metadata": {
            "tags": []
          },
          "execution_count": 29
        }
      ]
    },
    {
      "cell_type": "code",
      "metadata": {
        "id": "bMbYAzEL2bUC",
        "colab_type": "code",
        "colab": {}
      },
      "source": [
        "submit['Label'] = pre"
      ],
      "execution_count": 0,
      "outputs": []
    },
    {
      "cell_type": "code",
      "metadata": {
        "id": "QT6E9TNL2dm4",
        "colab_type": "code",
        "colab": {}
      },
      "source": [
        "submit.to_csv('submit.csv' , index= False)"
      ],
      "execution_count": 0,
      "outputs": []
    },
    {
      "cell_type": "markdown",
      "metadata": {
        "id": "6rks0m8cxX7D",
        "colab_type": "text"
      },
      "source": [
        "## 心得\n",
        "\n",
        "增加準確率的方法大概有\n",
        "1. 調整model層數\n",
        "2. 增加epoch的次數，但要注意overfitting的問題\n",
        "3. 利用ImageDataGenerator產生額外資料來做訓練\n",
        "\n",
        "另外也可以調整learning_rate的方法，優化結果與調適時間\n",
        " \n",
        "ref. https://www.coursera.org/lecture/machine-learning/gradient-descent-in-practice-ii-learning-rate-3iawu"
      ]
    }
  ]
}